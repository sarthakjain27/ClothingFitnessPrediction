{
  "nbformat": 4,
  "nbformat_minor": 0,
  "metadata": {
    "colab": {
      "name": "256Project_Imputation_MLPipeline.ipynb",
      "provenance": [],
      "collapsed_sections": [
        "USRTfUq8Xe9y",
        "jZTC4pKiX325",
        "epw6VtLlYCLu",
        "ymdNtSL6YQe5",
        "PMXBkqmFYmmL",
        "xmiBxQrjZouy",
        "-vJgUYm_aZzR",
        "fFl3p4YWauFR",
        "rke7SrLabHnt",
        "eSivTSl0dpHW",
        "oQJV3GJ9vB8z",
        "ncGrQvBeGL12",
        "k1Hf09eqYUTp",
        "6bhNhuh4Y9t8",
        "pNLbow-7Z2MZ",
        "khpjlPRQbLUO",
        "rGg3MdITcEae",
        "8Se88hwgckGq",
        "3IRW99F-eB14",
        "N06kzmEpvNWe",
        "BOL41Qnab-8l",
        "q7V47S7Ime4s",
        "DJoA-ho8mk9Q",
        "u0w0YAHgmnya",
        "FFnQYM0fEvwN",
        "4FCVS56uRQO2",
        "pLXB5XcbqHxH",
        "Q6VFreY8qLML",
        "Emv_Xdj20ZYV",
        "VuoY4FgFVkO-",
        "mUEyK2UkVkPG",
        "utCQp9QKVkPX",
        "irDBfRVMeOA4",
        "XMztkCPXRYsN",
        "3dwxHuwheQ1m",
        "5ZjOOvW1eStD",
        "ZKZg16UcWTYX",
        "72ToMhHpWTYd",
        "R7tcpqqmWTYt",
        "YbkkRSe0WTY1",
        "kM2gFun3XhzM",
        "BJNjBFh6Xj0O",
        "yf7_ocBDYPZQ",
        "29bf-WeyWszf",
        "eRdh6n9jWszt",
        "ikEkuIpP_ziX",
        "uWAxoQRnRo2m",
        "efs2Ydx-_9iW",
        "7Z5H_6Sb__XB",
        "llyB0JmgXCWW",
        "9NCNg5_UXCWc",
        "w86qnTNvXCWr",
        "7QlOSh2nYj1K",
        "lsh_R61PRwwx",
        "rdIuCahu2Si8",
        "6YbKXVFk3NLU",
        "uGEzZSOSDJyn",
        "SwiBUjSQXZ2V",
        "h4wW2I21XZ2b",
        "hlHRhUisXZ2g",
        "sNCgeercXZ2u"
      ],
      "machine_shape": "hm"
    },
    "kernelspec": {
      "name": "python3",
      "display_name": "Python 3"
    },
    "accelerator": "GPU"
  },
  "cells": [
    {
      "cell_type": "markdown",
      "metadata": {
        "id": "USRTfUq8Xe9y"
      },
      "source": [
        "# **Installing libraries**"
      ]
    },
    {
      "cell_type": "code",
      "metadata": {
        "id": "ZZbrnrhzROrX",
        "outputId": "f9f77979-effa-4a29-baee-748bcd1f8797",
        "colab": {
          "base_uri": "https://localhost:8080/"
        }
      },
      "source": [
        "\n",
        "#importing libraries\n",
        "!pip install scikit-surprise\n",
        "!pip install --upgrade category_encoders\n",
        "import pandas as pd\n",
        "import numpy as np\n",
        "from surprise import Dataset\n",
        "from surprise import Reader\n",
        "import math\n",
        "import re\n",
        "\n",
        "# Ignore warnings\n",
        "import warnings\n",
        "warnings.filterwarnings('ignore')\n",
        "\n",
        "# Visualisation\n",
        "import matplotlib as mpl\n",
        "import matplotlib.pyplot as plt\n",
        "import matplotlib.pylab as pylab\n",
        "import seaborn as sns\n",
        "\n",
        "# Modelling Algorithms\n",
        "from sklearn.tree import DecisionTreeClassifier\n",
        "from sklearn.linear_model import LogisticRegression\n",
        "from sklearn.neighbors import KNeighborsClassifier\n",
        "from sklearn.naive_bayes import GaussianNB\n",
        "from sklearn.svm import SVC, LinearSVC\n",
        "from sklearn.ensemble import RandomForestClassifier , GradientBoostingClassifier\n",
        "\n",
        "# Modelling Helpers\n",
        "from sklearn.preprocessing import Normalizer , scale\n",
        "from sklearn.impute import SimpleImputer\n",
        "from sklearn.model_selection import train_test_split , StratifiedKFold, GridSearchCV\n",
        "from sklearn.feature_selection import RFECV\n",
        "from sklearn.metrics import precision_recall_fscore_support as metricScore\n",
        "from sklearn.metrics import classification_report\n",
        "from sklearn.preprocessing import LabelEncoder\n",
        "\n",
        "# Keras NN helpers\n",
        "from keras.models import Sequential\n",
        "from keras.layers import Dense\n",
        "from keras.wrappers.scikit_learn import KerasClassifier\n",
        "from keras.utils import np_utils\n",
        "from sklearn.model_selection import cross_val_score\n",
        "from sklearn.model_selection import KFold\n",
        "from sklearn.preprocessing import LabelEncoder\n",
        "\n",
        "# Configure visualisations\n",
        "%matplotlib inline\n",
        "mpl.style.use( 'ggplot' )\n",
        "sns.set_style( 'white' )\n",
        "\n",
        "#Encoding\n",
        "import category_encoders as ce"
      ],
      "execution_count": null,
      "outputs": [
        {
          "output_type": "stream",
          "text": [
            "Collecting scikit-surprise\n",
            "\u001b[?25l  Downloading https://files.pythonhosted.org/packages/97/37/5d334adaf5ddd65da99fc65f6507e0e4599d092ba048f4302fe8775619e8/scikit-surprise-1.1.1.tar.gz (11.8MB)\n",
            "\u001b[K     |████████████████████████████████| 11.8MB 269kB/s \n",
            "\u001b[?25hRequirement already satisfied: joblib>=0.11 in /usr/local/lib/python3.6/dist-packages (from scikit-surprise) (0.17.0)\n",
            "Requirement already satisfied: numpy>=1.11.2 in /usr/local/lib/python3.6/dist-packages (from scikit-surprise) (1.18.5)\n",
            "Requirement already satisfied: scipy>=1.0.0 in /usr/local/lib/python3.6/dist-packages (from scikit-surprise) (1.4.1)\n",
            "Requirement already satisfied: six>=1.10.0 in /usr/local/lib/python3.6/dist-packages (from scikit-surprise) (1.15.0)\n",
            "Building wheels for collected packages: scikit-surprise\n",
            "  Building wheel for scikit-surprise (setup.py) ... \u001b[?25l\u001b[?25hdone\n",
            "  Created wheel for scikit-surprise: filename=scikit_surprise-1.1.1-cp36-cp36m-linux_x86_64.whl size=1670923 sha256=4a3596c1075455611ab40a6471fa192d9aff09528a9a5891a1d075b87c0b69af\n",
            "  Stored in directory: /root/.cache/pip/wheels/78/9c/3d/41b419c9d2aff5b6e2b4c0fc8d25c538202834058f9ed110d0\n",
            "Successfully built scikit-surprise\n",
            "Installing collected packages: scikit-surprise\n",
            "Successfully installed scikit-surprise-1.1.1\n",
            "Collecting category_encoders\n",
            "\u001b[?25l  Downloading https://files.pythonhosted.org/packages/44/57/fcef41c248701ee62e8325026b90c432adea35555cbc870aff9cfba23727/category_encoders-2.2.2-py2.py3-none-any.whl (80kB)\n",
            "\u001b[K     |████████████████████████████████| 81kB 4.0MB/s \n",
            "\u001b[?25hRequirement already satisfied, skipping upgrade: numpy>=1.14.0 in /usr/local/lib/python3.6/dist-packages (from category_encoders) (1.18.5)\n",
            "Requirement already satisfied, skipping upgrade: scipy>=1.0.0 in /usr/local/lib/python3.6/dist-packages (from category_encoders) (1.4.1)\n",
            "Requirement already satisfied, skipping upgrade: pandas>=0.21.1 in /usr/local/lib/python3.6/dist-packages (from category_encoders) (1.1.4)\n",
            "Requirement already satisfied, skipping upgrade: patsy>=0.5.1 in /usr/local/lib/python3.6/dist-packages (from category_encoders) (0.5.1)\n",
            "Requirement already satisfied, skipping upgrade: scikit-learn>=0.20.0 in /usr/local/lib/python3.6/dist-packages (from category_encoders) (0.22.2.post1)\n",
            "Requirement already satisfied, skipping upgrade: statsmodels>=0.9.0 in /usr/local/lib/python3.6/dist-packages (from category_encoders) (0.10.2)\n",
            "Requirement already satisfied, skipping upgrade: pytz>=2017.2 in /usr/local/lib/python3.6/dist-packages (from pandas>=0.21.1->category_encoders) (2018.9)\n",
            "Requirement already satisfied, skipping upgrade: python-dateutil>=2.7.3 in /usr/local/lib/python3.6/dist-packages (from pandas>=0.21.1->category_encoders) (2.8.1)\n",
            "Requirement already satisfied, skipping upgrade: six in /usr/local/lib/python3.6/dist-packages (from patsy>=0.5.1->category_encoders) (1.15.0)\n",
            "Requirement already satisfied, skipping upgrade: joblib>=0.11 in /usr/local/lib/python3.6/dist-packages (from scikit-learn>=0.20.0->category_encoders) (0.17.0)\n",
            "Installing collected packages: category-encoders\n",
            "Successfully installed category-encoders-2.2.2\n"
          ],
          "name": "stdout"
        }
      ]
    },
    {
      "cell_type": "markdown",
      "metadata": {
        "id": "mqN7AHoeXoK3"
      },
      "source": [
        "# **Brainstorming**"
      ]
    },
    {
      "cell_type": "markdown",
      "metadata": {
        "id": "Co5PMSLkXzcw"
      },
      "source": [
        "# **References**\n",
        "\n",
        "- Classification report sklearn library. [Link](https://scikit-learn.org/stable/modules/generated/sklearn.metrics.classification_report.html)\n",
        "- SVC Sklearn [Link](https://scikit-learn.org/stable/modules/generated/sklearn.svm.SVC.html)\n",
        "- SVC + GridSearchCV [Link](https://medium.com/@aneesha/svm-parameter-tuning-in-scikit-learn-using-gridsearchcv-2413c02125a0)\n",
        "- Logistic Regression Sklearn [Link](https://scikit-learn.org/stable/modules/generated/sklearn.linear_model.LogisticRegression.html)\n",
        "- Logistic Regression + GridSearchCV [Link](https://towardsdatascience.com/logistic-regression-model-tuning-with-scikit-learn-part-1-425142e01af5) [Link](https://www.kaggle.com/enespolat/grid-search-with-logistic-regression)\n",
        "- Decision Tree Sklearn [Link](https://scikit-learn.org/stable/modules/generated/sklearn.tree.DecisionTreeClassifier.html)\n",
        "- Decision Tree + GridSearchCV [Link](https://medium.com/analytics-vidhya/decisiontree-classifier-working-on-moons-dataset-using-gridsearchcv-to-find-best-hyperparameters-ede24a06b489)\n",
        "- Random Forest Classifier [Link](https://scikit-learn.org/stable/modules/generated/sklearn.ensemble.RandomForestClassifier.html)\n",
        "- Random Forest Classifier + GridSearchCV [Link](https://jamesrledoux.com/code/grid_search)\n",
        "- Keras NN Tutorial [Link](https://machinelearningmastery.com/multi-class-classification-tutorial-keras-deep-learning-library/)\n",
        "- GridSearchCV Keras NN Tutorial [Link](https://machinelearningmastery.com/use-keras-deep-learning-models-scikit-learn-python/)\n",
        "- Keras Activation Function [Link](https://keras.io/api/layers/activations/)\n",
        "- Keras Categorical CrossEntropy Loss [Link](https://keras.io/api/losses/probabilistic_losses/#categoricalcrossentropy-class)\n",
        "- Keras Initializers [Link](https://keras.io/api/layers/initializers/)\n",
        "- Keras Optimizers [Link](https://keras.io/api/optimizers/)\n",
        "- GridSearchCV [Link](https://scikit-learn.org/stable/modules/generated/sklearn.model_selection.GridSearchCV.html)\n",
        "- Ordinal Encoding + Binary Encoding [Link](https://www.analyticsvidhya.com/blog/2020/08/types-of-categorical-data-encoding/)\n"
      ]
    },
    {
      "cell_type": "markdown",
      "metadata": {
        "id": "jZTC4pKiX325"
      },
      "source": [
        "# **Setting up helper functions**"
      ]
    },
    {
      "cell_type": "code",
      "metadata": {
        "id": "Ver84qPQX8Mb"
      },
      "source": [
        "# DataFrame function takes in an iterable\n",
        "def findPercentageOfDataMissingInEachColumnOfDataframe(df, total):\n",
        "    missingPercentageDataframe = pd.DataFrame({'numberOfCellsMissingValues':df.isnull().sum(), 'percentageMissing':(df.isnull().sum()*100)/total})\n",
        "    missingPercentageDataframe = missingPercentageDataframe.sort_values(by=['percentageMissing'], ascending=False)\n",
        "    print(missingPercentageDataframe)\n",
        "    \n",
        "# convert height from ft and inch to cm\n",
        "# 1 ft = 30.48cm\n",
        "# 1 inch = 2.54cm\n",
        "# input value can be 5ft 6in or 5' 6\"\n",
        "def convertHeightIntoCm(value):\n",
        "    # to handle nan which is of type float\n",
        "    if isinstance(value,float):\n",
        "        return value\n",
        "    heightInCm=0.0\n",
        "    splittedHeight = value.split()\n",
        "    #ft part\n",
        "    if(splittedHeight[0][-1] == \"'\"):\n",
        "        heightInCm = int(splittedHeight[0][0:-1]) * 30.48\n",
        "    else:\n",
        "        heightInCm = int(splittedHeight[0][0:-2]) * 30.48\n",
        "    #inch part\n",
        "    if len(splittedHeight) > 1:\n",
        "        if(splittedHeight[1][-1] == '\"'):\n",
        "            heightInCm = heightInCm + int(splittedHeight[1][0:-1]) * 2.54\n",
        "        else:\n",
        "            heightInCm = heightInCm + int(splittedHeight[1][0:-2]) * 2.54\n",
        "#     print(\"Converted {} to {}\".format(value,heightInCm))\n",
        "    return round(heightInCm, 2)\n",
        "\n",
        "# convert 57lbs to 57\n",
        "def removeLBSfromWeight(value):\n",
        "  if isinstance(value,float):\n",
        "    return value\n",
        "  return value[:-3]\n",
        "\n",
        "def roundToNearestPointFive(value):\n",
        "  if math.isnan(value):\n",
        "    return value\n",
        "  return round(value * 2) / 2\n",
        "\n",
        "# imputing height by taking means of groups of different category of bra size, cup size & bust in increasing order of missing percentage\n",
        "# Example take mean of height value where bra size is 34. Place that mean for na cells of height which have bra size 34.\n",
        "# Example take mean of imputed_height value where shoe size is 34. Place that mean for na cells of imputed_height which have shoe size 34.\n",
        "def imputeHeightForModCloth(df):\n",
        "  df['imputed_height'] = df['height'].fillna(df.groupby('bra size')['height'].transform('mean'))\n",
        "  df['imputed_height'] = df['imputed_height'].fillna(df.groupby('cup size')['height'].transform('mean'))\n",
        "  df['imputed_height'] = df['imputed_height'].fillna(df.groupby('bust')['height'].transform('mean'))\n",
        "\n",
        "  df['imputed_height'] = df['imputed_height'].fillna(df.groupby('shoe size')['height'].transform('mean'))\n",
        "  df['imputed_height'] = df['imputed_height'].fillna(df.groupby('shoe width')['height'].transform('mean'))\n",
        "\n",
        "  heightMeanValue = df['height'].mean()\n",
        "  df['imputed_height'] = df['imputed_height'].fillna(heightMeanValue)\n",
        "  return df\n",
        "\n",
        "# Imputing shoe size by sequential grouping by imputed height, hips and bra size. This is in decreasing order of correlation with shoe size.\n",
        "def imputeShoeSizeForModCloth(df):\n",
        "  df['imputed_shoeSize'] = df['shoe size'].fillna(df.groupby('imputed_height')['shoe size'].transform('mean'))\n",
        "  df['imputed_shoeSize'] = df['imputed_shoeSize'].fillna(df.groupby('hips')['shoe size'].transform('mean'))\n",
        "  df['imputed_shoeSize'] = df['imputed_shoeSize'].fillna(df.groupby('bra size')['shoe size'].transform('mean'))\n",
        "\n",
        "  shoeSizeMeanValue = df['shoe size'].mean()\n",
        "  df['imputed_shoeSize'] = df['imputed_shoeSize'].fillna(shoeSizeMeanValue)\n",
        "  df['imputed_shoeSize'] = df['imputed_shoeSize'].apply(roundToNearestPointFive)\n",
        "  return df\n",
        "\n",
        "# Since we have already imputed all shoe size, using it to group by and filling in with mode of each grouped category.\n",
        "def imputeShoeWidthForModCloth(df):\n",
        "  df['imputed_shoeWidth'] = df['shoe width'].fillna(df.groupby('imputed_shoeSize')['shoe width'].transform(lambda x: x.value_counts().index[0]))\n",
        "  return df\n",
        "\n",
        "# imputing height by taking means of groups of different category of body type, bust size & weight in increasing order of missing percentage\n",
        "# Example take mean of height value where bra size is 34. Place that mean for na cells of height which have bra size 34.\n",
        "# Example take mean of imputed_height value where shoe size is 34. Place that mean for na cells of imputed_height which have shoe size 34.\n",
        "def imputeHeightForRentTheRunWay(df):\n",
        "  df['imputed_height'] = df['height'].fillna(df.groupby('body type')['height'].transform('mean'))\n",
        "  df['imputed_height'] = df['imputed_height'].fillna(df.groupby('bust size')['height'].transform('mean'))\n",
        "  df['imputed_height'] = df['imputed_height'].fillna(df.groupby('weight')['height'].transform('mean'))\n",
        "\n",
        "  heightMeanValue = df['height'].mean()\n",
        "  df['imputed_height'] = df['imputed_height'].fillna(heightMeanValue)\n",
        "  return df\n",
        "\n",
        "def imputeWeightForRentTheRunWay(df):\n",
        "  df['imputed_weight'] = df['weight'].fillna(df.groupby('size')['weight'].transform('mean'))\n",
        "  df['imputed_weight'] = df['imputed_weight'].fillna(df.groupby('imputed_height')['weight'].transform('mean'))\n",
        "  #check correlation between bust and weight and include it in computing weight\n",
        "\n",
        "  weightMeanValue = df['weight'].mean()\n",
        "  df['imputed_weight'] = df['imputed_weight'].fillna(weightMeanValue)\n",
        "  return df\n",
        "\n",
        "def imputeAgeForRentTheRunWay(df):\n",
        "  ageMeanValue = df['age'].mean()\n",
        "  df['age'] = df['age'].fillna(df.groupby('size')['age'].transform('mean'))\n",
        "  df['age'] = df['age'].fillna(ageMeanValue)\n",
        "  return df\n",
        "\n",
        "def imputeHipsForModCloth(df):\n",
        "  hipsMeanValue = df['hips'].mean()\n",
        "  df['imputed_hips'] = df['hips'].fillna(df.groupby('size')['hips'].transform('mean'))\n",
        "  df['imputed_hips'] = df['imputed_hips'].fillna(hipsMeanValue)\n",
        "  return df\n",
        "\n",
        "\n",
        "\n",
        "#imputing Bra Size by considering size and imputed hips.\n",
        "def imputeBraSizeForModCloth(df):\n",
        "  df['imputed_brasize'] = df['bra size'].fillna(df.groupby('size')['bra size'].transform('mean'))\n",
        "  df['imputed_brasize'] = df['bra size'].fillna(df.groupby('imputed_hips')['bra size'].transform('mean'))\n",
        "  braSizeMeanValue = df['bra size'].mean()\n",
        "  df['imputed_brasize'] = df['imputed_brasize'].fillna(braSizeMeanValue)\n",
        "  return df\n",
        "\n",
        "#round odd bra sizes to even by adding 1 to them as suggested in referred mateiral\n",
        "def roundToEvenBraSize(df):\n",
        "  for i in range(len(df)) : \n",
        "    if df.loc[i, 'imputed_brasize'] % 2 !=0:\n",
        "      df.loc[i, 'imputed_brasize'] = df.loc[i, 'imputed_brasize'] + 1\n",
        "  return df\n",
        "  \n",
        "#imputing by grouping by bra size categories and finding out mode\n",
        "def imputeCupSizeForModCloth(df):\n",
        "  df['imputed_cupsize'] = df['cup size'].fillna(df.groupby('imputed_brasize')['cup size'].transform(lambda x: x.value_counts().index[0]))\n",
        "  return df\n",
        "\n",
        "#combine bra size and cup size to create new column\n",
        "def combineBustSizeForModCloth(df):\n",
        "  df['imputed_bustsize']=df['imputed_brasize'].str.cat(df['imputed_cupsize'], sep =\"\")\n",
        "  return df\n",
        "\n",
        "#imputing bust size by grouping categories and taking mode\n",
        "def imputeBustSizeForRentTheRunWay(df):\n",
        "  df['imputed_bustsize'] = df['bust size'].fillna(df.groupby('category')['bust size'].transform(lambda x: x.value_counts().index[0]))\n",
        "  return df\n",
        "\n",
        "#imputing bust sizes that are not currently in universal format\n",
        "# d+ -> dd/e\n",
        "# dd -> dd/e\n",
        "# ddd/e -> ddd/f\n",
        "# f -> ddd/f\n",
        "def convertBustSizeForRentTheRunWay(df):\n",
        "  for i in range(len(df)) :\n",
        "    # print (df.loc[i, 'imputed_bustsize'])\n",
        "    if re.search(\"d\\+$\", df.loc[i, 'imputed_bustsize']):\n",
        "      # print('yes')\n",
        "      df.loc[i,'imputed_bustsize'] = re.sub('(d\\+)$', 'dd/e',df.loc[i,'imputed_bustsize'])  \n",
        "    elif re.search(\"dd$\", df.loc[i, 'imputed_bustsize']):\n",
        "      # print('yes1')\n",
        "      df.loc[i,'imputed_bustsize'] = re.sub('(dd)$', 'dd/e',df.loc[i,'imputed_bustsize'])\n",
        "    elif re.search(\"ddd\\/e$\", df.loc[i, 'imputed_bustsize']):\n",
        "      # print('yes2')\n",
        "      df.loc[i,'imputed_bustsize'] = re.sub('(ddd\\/e)$', 'ddd/f',df.loc[i,'imputed_bustsize'])\n",
        "    elif re.search(\"f$\", df.loc[i, 'imputed_bustsize']):\n",
        "      # print('yes3')\n",
        "      df.loc[i,'imputed_bustsize'] = re.sub('(f)$', 'ddd/f',df.loc[i,'imputed_bustsize'])\n",
        "  return df \n",
        "\n",
        "def convertBustSizeToInches(df):\n",
        "  for i in range(len(df)) :\n",
        "    \n",
        "    a=df.loc[i, 'imputed_bustsize']\n",
        "    x=slice(0,2)\n",
        "    y=slice(2,len(df.loc[i, 'imputed_bustsize']))\n",
        "    cup=0\n",
        "    if a[y]==\"aa\":\n",
        "      cup=0\n",
        "    elif a[y]==\"a\":\n",
        "      cup=1\n",
        "    elif a[y]==\"b\":\n",
        "      cup=2\n",
        "    elif a[y]==\"c\":\n",
        "      cup=3\n",
        "    elif a[y]==\"d\":\n",
        "      cup=4\n",
        "    elif a[y]==\"dd/e\":\n",
        "      cup=5\n",
        "    elif a[y]==\"ddd/f\":\n",
        "      cup=6\n",
        "    elif a[y]==\"g\":\n",
        "      cup=7\n",
        "    elif a[y]==\"h\":\n",
        "      cup=8\n",
        "    elif a[y]==\"i\":\n",
        "      cup=9\n",
        "    elif a[y]==\"j\":\n",
        "      cup=10\n",
        "    elif a[y]==\"k\":\n",
        "      cup=11\n",
        "    \n",
        "    df.loc[i,'bustsize_in_inches']=int(a[x])+cup\n",
        "  return df\n",
        "\n",
        "def imputeLengthForModCloth(df):\n",
        "  df['imputed_length'] = df['length'].fillna(df.groupby(['category','fit'])['length'].transform(lambda x: x.value_counts().index[0]))\n",
        "  return df\n",
        "\n",
        "def plot_correlation_map( df ):\n",
        "    corr = df.corr()\n",
        "    _ , ax = plt.subplots( figsize =( 12 , 10 ) )\n",
        "    cmap = sns.diverging_palette( 220 , 10 , as_cmap = True )\n",
        "    _ = sns.heatmap(\n",
        "        corr, \n",
        "        cmap = cmap,\n",
        "        square=True, \n",
        "        cbar_kws={ 'shrink' : .9 }, \n",
        "        ax=ax, \n",
        "        annot = True, \n",
        "        annot_kws = { 'fontsize' : 12 }\n",
        "    )\n",
        "\n",
        "def frequencyCountByValue(df, col, datasetName ,ax):\n",
        "    df[col][df[col].notnull()].value_counts().plot(kind='bar', facecolor='r', ax=ax)\n",
        "    ax.set_xlabel('{}'.format(col), fontsize=80)\n",
        "    ax.set_title(\"{} on {}\".format(col, datasetName), fontsize= 80)\n",
        "    return ax\n",
        "\n",
        "def plot_distribution( df , var , target , **kwargs ):\n",
        "    row = kwargs.get( 'row' , None )\n",
        "    col = kwargs.get( 'col' , None )\n",
        "    hue = kwargs.get( 'hue' , None )\n",
        "    facet = sns.FacetGrid( df , hue=hue , aspect=4 , row = row , col = col )\n",
        "    facet.map( sns.kdeplot , var , target ,shade= True )\n",
        "    facet.set( xlim=( 0 , df[ var ].max() ) )\n",
        "    facet.add_legend()\n",
        "\n",
        "def plot_categories( df , cat , target , **kwargs ):\n",
        "    row = kwargs.get( 'row' , None )\n",
        "    col = kwargs.get( 'col' , None )\n",
        "    hue = kwargs.get( 'hue' , None )\n",
        "    facet = sns.FacetGrid( df , aspect=6 , row = row , col = col,hue = hue )\n",
        "    facet.map( sns.barplot , cat , target)\n",
        "    facet.set_xticklabels(rotation=90)\n",
        "    facet.add_legend()\n",
        "\n",
        "def plot_barh(df,col, cmap = None, stacked=False, norm = None):\n",
        "    df.plot(kind='barh', colormap=cmap, stacked=stacked)\n",
        "    fig = plt.gcf()\n",
        "    fig.set_size_inches(24,12)\n",
        "    plt.title(\"Category vs {}-feedback -  Modcloth {}\".format(col, '(Normalized)' if norm else ''), fontsize= 20)\n",
        "    plt.ylabel('Category', fontsize = 18)\n",
        "    plot = plt.xlabel('Frequency', fontsize=18)\n",
        "\n",
        "def plot_barhRR(df,col, cmap = None, stacked=False, norm = None):\n",
        "    df.plot(kind='barh', colormap=cmap, stacked=stacked)\n",
        "    fig = plt.gcf()\n",
        "    fig.set_size_inches(24,12)\n",
        "    plt.title(\"Category vs {}-feedback -  Rent the Runway  {}\".format(col, '(Normalized)' if norm else ''), fontsize= 20)\n",
        "    plt.ylabel('Category', fontsize = 18)\n",
        "    plot = plt.xlabel('Frequency', fontsize=18)\n",
        "    \n",
        "def norm_counts(t):\n",
        "    norms = np.linalg.norm(t.fillna(0), axis=1)\n",
        "    t_norm = t[0:0]\n",
        "    for row, euc in zip(t.iterrows(), norms):\n",
        "        t_norm.loc[row[0]] = list(map(lambda x: x/euc, list(row[1])))\n",
        "    return t_norm\n",
        "\n",
        "def imputeBodyType(df):\n",
        "  df['imputed_bodyType'] = df['body type'].fillna(df.groupby('size')['body type'].transform(lambda x: x.value_counts().index[0]))\n",
        "  return df\n",
        "\n",
        "def plotFactorPlot(arr):\n",
        "  vars = arr\n",
        "  for variable in vars:\n",
        "      var_df = data_renttherunway_df.groupby(variable)[\"binary_rating\"].agg([\"mean\", \"count\"]).reset_index()\n",
        "      var_df.sort_values([\"mean\"], ascending = False, inplace = True)\n",
        "      sns.factorplot(y  = variable, x = \"mean\", \n",
        "                    orient = \"h\", \n",
        "                    hue = \"count\",\n",
        "                    palette = \"Set2\",\n",
        "                    size = 3, aspect = 3,\n",
        "                    data = var_df)\n",
        "      plt.title(variable + \" \" + \"binary rating Plot\")"
      ],
      "execution_count": null,
      "outputs": []
    },
    {
      "cell_type": "markdown",
      "metadata": {
        "id": "epw6VtLlYCLu"
      },
      "source": [
        "# **Mounting Google Drive**\n",
        "\n",
        "I have stored the dataset files in my private Google Drive. The way to mount google drive on Google colab was studied from the Colab's [getting started tutorial](https://colab.research.google.com/notebooks/io.ipynb)."
      ]
    },
    {
      "cell_type": "code",
      "metadata": {
        "id": "2DSggT8PYJ_a",
        "outputId": "34dcf532-7423-42e2-8b57-001b8ac7b0fb",
        "colab": {
          "base_uri": "https://localhost:8080/"
        }
      },
      "source": [
        "from google.colab import drive\n",
        "drive.mount('/content/drive')"
      ],
      "execution_count": null,
      "outputs": [
        {
          "output_type": "stream",
          "text": [
            "Mounted at /content/drive\n"
          ],
          "name": "stdout"
        }
      ]
    },
    {
      "cell_type": "markdown",
      "metadata": {
        "id": "ymdNtSL6YQe5"
      },
      "source": [
        "# **ModCloth Data Processing**\n",
        "\n",
        "[ModCloth](https://www.modcloth.com/) sells women’s vintage clothing and accessories. The data was collected when user's purchased an item from category such as tops, bottoms, dresses etc. Additionally, when user returned an item, the reason was asked, and thus that transaction is included in the data too."
      ]
    },
    {
      "cell_type": "markdown",
      "metadata": {
        "id": "PMXBkqmFYmmL"
      },
      "source": [
        "## Reading data from file"
      ]
    },
    {
      "cell_type": "code",
      "metadata": {
        "id": "8vf51dnyYp-N",
        "outputId": "71fd2b85-0b41-49da-96cd-dfe4a7605c10",
        "colab": {
          "base_uri": "https://localhost:8080/"
        }
      },
      "source": [
        "# There is one JSON object per line, and there are multiple lines, so reading entire file as one object per line\n",
        "data_modcloth_df=pd.read_json('/content/drive/My Drive/CMPE256_CourseProjectShortcut/CMPE256_CourseProject/Datasets/modcloth.json', lines=True)\n",
        "data_modcloth_df.head()"
      ],
      "execution_count": null,
      "outputs": [
        {
          "output_type": "execute_result",
          "data": {
            "text/html": [
              "<div>\n",
              "<style scoped>\n",
              "    .dataframe tbody tr th:only-of-type {\n",
              "        vertical-align: middle;\n",
              "    }\n",
              "\n",
              "    .dataframe tbody tr th {\n",
              "        vertical-align: top;\n",
              "    }\n",
              "\n",
              "    .dataframe thead th {\n",
              "        text-align: right;\n",
              "    }\n",
              "</style>\n",
              "<table border=\"1\" class=\"dataframe\">\n",
              "  <thead>\n",
              "    <tr style=\"text-align: right;\">\n",
              "      <th></th>\n",
              "      <th>item_id</th>\n",
              "      <th>waist</th>\n",
              "      <th>size</th>\n",
              "      <th>quality</th>\n",
              "      <th>cup size</th>\n",
              "      <th>hips</th>\n",
              "      <th>bra size</th>\n",
              "      <th>category</th>\n",
              "      <th>bust</th>\n",
              "      <th>height</th>\n",
              "      <th>user_name</th>\n",
              "      <th>length</th>\n",
              "      <th>fit</th>\n",
              "      <th>user_id</th>\n",
              "      <th>shoe size</th>\n",
              "      <th>shoe width</th>\n",
              "      <th>review_summary</th>\n",
              "      <th>review_text</th>\n",
              "    </tr>\n",
              "  </thead>\n",
              "  <tbody>\n",
              "    <tr>\n",
              "      <th>0</th>\n",
              "      <td>123373</td>\n",
              "      <td>29.0</td>\n",
              "      <td>7</td>\n",
              "      <td>5.0</td>\n",
              "      <td>d</td>\n",
              "      <td>38.0</td>\n",
              "      <td>34.0</td>\n",
              "      <td>new</td>\n",
              "      <td>36</td>\n",
              "      <td>5ft 6in</td>\n",
              "      <td>Emily</td>\n",
              "      <td>just right</td>\n",
              "      <td>small</td>\n",
              "      <td>991571</td>\n",
              "      <td>NaN</td>\n",
              "      <td>NaN</td>\n",
              "      <td>NaN</td>\n",
              "      <td>NaN</td>\n",
              "    </tr>\n",
              "    <tr>\n",
              "      <th>1</th>\n",
              "      <td>123373</td>\n",
              "      <td>31.0</td>\n",
              "      <td>13</td>\n",
              "      <td>3.0</td>\n",
              "      <td>b</td>\n",
              "      <td>30.0</td>\n",
              "      <td>36.0</td>\n",
              "      <td>new</td>\n",
              "      <td>NaN</td>\n",
              "      <td>5ft 2in</td>\n",
              "      <td>sydneybraden2001</td>\n",
              "      <td>just right</td>\n",
              "      <td>small</td>\n",
              "      <td>587883</td>\n",
              "      <td>NaN</td>\n",
              "      <td>NaN</td>\n",
              "      <td>NaN</td>\n",
              "      <td>NaN</td>\n",
              "    </tr>\n",
              "    <tr>\n",
              "      <th>2</th>\n",
              "      <td>123373</td>\n",
              "      <td>30.0</td>\n",
              "      <td>7</td>\n",
              "      <td>2.0</td>\n",
              "      <td>b</td>\n",
              "      <td>NaN</td>\n",
              "      <td>32.0</td>\n",
              "      <td>new</td>\n",
              "      <td>NaN</td>\n",
              "      <td>5ft 7in</td>\n",
              "      <td>Ugggh</td>\n",
              "      <td>slightly long</td>\n",
              "      <td>small</td>\n",
              "      <td>395665</td>\n",
              "      <td>9.0</td>\n",
              "      <td>NaN</td>\n",
              "      <td>NaN</td>\n",
              "      <td>NaN</td>\n",
              "    </tr>\n",
              "    <tr>\n",
              "      <th>3</th>\n",
              "      <td>123373</td>\n",
              "      <td>NaN</td>\n",
              "      <td>21</td>\n",
              "      <td>5.0</td>\n",
              "      <td>dd/e</td>\n",
              "      <td>NaN</td>\n",
              "      <td>NaN</td>\n",
              "      <td>new</td>\n",
              "      <td>NaN</td>\n",
              "      <td>NaN</td>\n",
              "      <td>alexmeyer626</td>\n",
              "      <td>just right</td>\n",
              "      <td>fit</td>\n",
              "      <td>875643</td>\n",
              "      <td>NaN</td>\n",
              "      <td>NaN</td>\n",
              "      <td>NaN</td>\n",
              "      <td>NaN</td>\n",
              "    </tr>\n",
              "    <tr>\n",
              "      <th>4</th>\n",
              "      <td>123373</td>\n",
              "      <td>NaN</td>\n",
              "      <td>18</td>\n",
              "      <td>5.0</td>\n",
              "      <td>b</td>\n",
              "      <td>NaN</td>\n",
              "      <td>36.0</td>\n",
              "      <td>new</td>\n",
              "      <td>NaN</td>\n",
              "      <td>5ft 2in</td>\n",
              "      <td>dberrones1</td>\n",
              "      <td>slightly long</td>\n",
              "      <td>small</td>\n",
              "      <td>944840</td>\n",
              "      <td>NaN</td>\n",
              "      <td>NaN</td>\n",
              "      <td>NaN</td>\n",
              "      <td>NaN</td>\n",
              "    </tr>\n",
              "  </tbody>\n",
              "</table>\n",
              "</div>"
            ],
            "text/plain": [
              "   item_id  waist  size  ...  shoe width review_summary  review_text\n",
              "0   123373   29.0     7  ...         NaN            NaN          NaN\n",
              "1   123373   31.0    13  ...         NaN            NaN          NaN\n",
              "2   123373   30.0     7  ...         NaN            NaN          NaN\n",
              "3   123373    NaN    21  ...         NaN            NaN          NaN\n",
              "4   123373    NaN    18  ...         NaN            NaN          NaN\n",
              "\n",
              "[5 rows x 18 columns]"
            ]
          },
          "metadata": {
            "tags": []
          },
          "execution_count": 4
        }
      ]
    },
    {
      "cell_type": "code",
      "metadata": {
        "id": "VG13cxJXYtEK",
        "outputId": "9ecafed7-e845-4a1d-e6d4-5d6f9a4372da",
        "colab": {
          "base_uri": "https://localhost:8080/"
        }
      },
      "source": [
        "data_modcloth_df.info()"
      ],
      "execution_count": null,
      "outputs": [
        {
          "output_type": "stream",
          "text": [
            "<class 'pandas.core.frame.DataFrame'>\n",
            "RangeIndex: 82790 entries, 0 to 82789\n",
            "Data columns (total 18 columns):\n",
            " #   Column          Non-Null Count  Dtype  \n",
            "---  ------          --------------  -----  \n",
            " 0   item_id         82790 non-null  int64  \n",
            " 1   waist           2882 non-null   float64\n",
            " 2   size            82790 non-null  int64  \n",
            " 3   quality         82722 non-null  float64\n",
            " 4   cup size        76535 non-null  object \n",
            " 5   hips            56064 non-null  float64\n",
            " 6   bra size        76772 non-null  float64\n",
            " 7   category        82790 non-null  object \n",
            " 8   bust            11854 non-null  object \n",
            " 9   height          81683 non-null  object \n",
            " 10  user_name       82790 non-null  object \n",
            " 11  length          82755 non-null  object \n",
            " 12  fit             82790 non-null  object \n",
            " 13  user_id         82790 non-null  int64  \n",
            " 14  shoe size       27915 non-null  float64\n",
            " 15  shoe width      18607 non-null  object \n",
            " 16  review_summary  76065 non-null  object \n",
            " 17  review_text     76065 non-null  object \n",
            "dtypes: float64(5), int64(3), object(10)\n",
            "memory usage: 11.4+ MB\n"
          ],
          "name": "stdout"
        }
      ]
    },
    {
      "cell_type": "code",
      "metadata": {
        "id": "WeF8qqZnYyKZ",
        "outputId": "07cb1852-b012-4873-8671-ee540ba0b30c",
        "colab": {
          "base_uri": "https://localhost:8080/"
        }
      },
      "source": [
        "data_modcloth_df.describe()"
      ],
      "execution_count": null,
      "outputs": [
        {
          "output_type": "execute_result",
          "data": {
            "text/html": [
              "<div>\n",
              "<style scoped>\n",
              "    .dataframe tbody tr th:only-of-type {\n",
              "        vertical-align: middle;\n",
              "    }\n",
              "\n",
              "    .dataframe tbody tr th {\n",
              "        vertical-align: top;\n",
              "    }\n",
              "\n",
              "    .dataframe thead th {\n",
              "        text-align: right;\n",
              "    }\n",
              "</style>\n",
              "<table border=\"1\" class=\"dataframe\">\n",
              "  <thead>\n",
              "    <tr style=\"text-align: right;\">\n",
              "      <th></th>\n",
              "      <th>item_id</th>\n",
              "      <th>waist</th>\n",
              "      <th>size</th>\n",
              "      <th>quality</th>\n",
              "      <th>hips</th>\n",
              "      <th>bra size</th>\n",
              "      <th>user_id</th>\n",
              "      <th>shoe size</th>\n",
              "    </tr>\n",
              "  </thead>\n",
              "  <tbody>\n",
              "    <tr>\n",
              "      <th>count</th>\n",
              "      <td>82790.000000</td>\n",
              "      <td>2882.000000</td>\n",
              "      <td>82790.000000</td>\n",
              "      <td>82722.000000</td>\n",
              "      <td>56064.000000</td>\n",
              "      <td>76772.000000</td>\n",
              "      <td>82790.000000</td>\n",
              "      <td>27915.000000</td>\n",
              "    </tr>\n",
              "    <tr>\n",
              "      <th>mean</th>\n",
              "      <td>469325.229170</td>\n",
              "      <td>31.319223</td>\n",
              "      <td>12.661602</td>\n",
              "      <td>3.949058</td>\n",
              "      <td>40.358501</td>\n",
              "      <td>35.972125</td>\n",
              "      <td>498849.564718</td>\n",
              "      <td>8.145818</td>\n",
              "    </tr>\n",
              "    <tr>\n",
              "      <th>std</th>\n",
              "      <td>213999.803314</td>\n",
              "      <td>5.302849</td>\n",
              "      <td>8.271952</td>\n",
              "      <td>0.992783</td>\n",
              "      <td>5.827166</td>\n",
              "      <td>3.224907</td>\n",
              "      <td>286356.969459</td>\n",
              "      <td>1.336109</td>\n",
              "    </tr>\n",
              "    <tr>\n",
              "      <th>min</th>\n",
              "      <td>123373.000000</td>\n",
              "      <td>20.000000</td>\n",
              "      <td>0.000000</td>\n",
              "      <td>1.000000</td>\n",
              "      <td>30.000000</td>\n",
              "      <td>28.000000</td>\n",
              "      <td>6.000000</td>\n",
              "      <td>5.000000</td>\n",
              "    </tr>\n",
              "    <tr>\n",
              "      <th>25%</th>\n",
              "      <td>314980.000000</td>\n",
              "      <td>28.000000</td>\n",
              "      <td>8.000000</td>\n",
              "      <td>3.000000</td>\n",
              "      <td>36.000000</td>\n",
              "      <td>34.000000</td>\n",
              "      <td>252897.750000</td>\n",
              "      <td>7.000000</td>\n",
              "    </tr>\n",
              "    <tr>\n",
              "      <th>50%</th>\n",
              "      <td>454030.000000</td>\n",
              "      <td>30.000000</td>\n",
              "      <td>12.000000</td>\n",
              "      <td>4.000000</td>\n",
              "      <td>39.000000</td>\n",
              "      <td>36.000000</td>\n",
              "      <td>497913.500000</td>\n",
              "      <td>8.000000</td>\n",
              "    </tr>\n",
              "    <tr>\n",
              "      <th>75%</th>\n",
              "      <td>658440.000000</td>\n",
              "      <td>34.000000</td>\n",
              "      <td>15.000000</td>\n",
              "      <td>5.000000</td>\n",
              "      <td>43.000000</td>\n",
              "      <td>38.000000</td>\n",
              "      <td>744745.250000</td>\n",
              "      <td>9.000000</td>\n",
              "    </tr>\n",
              "    <tr>\n",
              "      <th>max</th>\n",
              "      <td>807722.000000</td>\n",
              "      <td>50.000000</td>\n",
              "      <td>38.000000</td>\n",
              "      <td>5.000000</td>\n",
              "      <td>60.000000</td>\n",
              "      <td>48.000000</td>\n",
              "      <td>999972.000000</td>\n",
              "      <td>38.000000</td>\n",
              "    </tr>\n",
              "  </tbody>\n",
              "</table>\n",
              "</div>"
            ],
            "text/plain": [
              "             item_id        waist  ...        user_id     shoe size\n",
              "count   82790.000000  2882.000000  ...   82790.000000  27915.000000\n",
              "mean   469325.229170    31.319223  ...  498849.564718      8.145818\n",
              "std    213999.803314     5.302849  ...  286356.969459      1.336109\n",
              "min    123373.000000    20.000000  ...       6.000000      5.000000\n",
              "25%    314980.000000    28.000000  ...  252897.750000      7.000000\n",
              "50%    454030.000000    30.000000  ...  497913.500000      8.000000\n",
              "75%    658440.000000    34.000000  ...  744745.250000      9.000000\n",
              "max    807722.000000    50.000000  ...  999972.000000     38.000000\n",
              "\n",
              "[8 rows x 8 columns]"
            ]
          },
          "metadata": {
            "tags": []
          },
          "execution_count": 6
        }
      ]
    },
    {
      "cell_type": "markdown",
      "metadata": {
        "id": "xmiBxQrjZouy"
      },
      "source": [
        "## Height"
      ]
    },
    {
      "cell_type": "code",
      "metadata": {
        "id": "YI8IyYBrZuWc"
      },
      "source": [
        "data_modcloth_df['height'] = data_modcloth_df['height'].apply(convertHeightIntoCm)"
      ],
      "execution_count": null,
      "outputs": []
    },
    {
      "cell_type": "code",
      "metadata": {
        "id": "-csiC1k6Zv4E"
      },
      "source": [
        "data_modcloth_df = imputeHeightForModCloth(data_modcloth_df)\n",
        "data_modcloth_df = data_modcloth_df.round({'imputed_height':2})"
      ],
      "execution_count": null,
      "outputs": []
    },
    {
      "cell_type": "markdown",
      "metadata": {
        "id": "-vJgUYm_aZzR"
      },
      "source": [
        "## Shoe Size & Shoe Width"
      ]
    },
    {
      "cell_type": "code",
      "metadata": {
        "id": "cNEJDVpuahbc"
      },
      "source": [
        "#Handling shoe size outlier. We have one record which has shoe size as 38. We replace it with nan before imputing unknown shoe size values\n",
        "data_modcloth_df['shoe size'][data_modcloth_df['shoe size'] == 38] = float('nan')"
      ],
      "execution_count": null,
      "outputs": []
    },
    {
      "cell_type": "code",
      "metadata": {
        "id": "MyWeyNSfahx5"
      },
      "source": [
        "data_modcloth_df = imputeShoeSizeForModCloth(data_modcloth_df)"
      ],
      "execution_count": null,
      "outputs": []
    },
    {
      "cell_type": "code",
      "metadata": {
        "id": "ZBw5KLL2ai56"
      },
      "source": [
        "# Grouping by imputed shoe size and taking mode of shoe width in each group. Then checking user's imputed size and filling in the moded shoe width\n",
        "data_modcloth_df = imputeShoeWidthForModCloth(data_modcloth_df)"
      ],
      "execution_count": null,
      "outputs": []
    },
    {
      "cell_type": "markdown",
      "metadata": {
        "id": "fFl3p4YWauFR"
      },
      "source": [
        "## Hips"
      ]
    },
    {
      "cell_type": "code",
      "metadata": {
        "id": "u6di-_yOavJX"
      },
      "source": [
        "data_modcloth_df = imputeHipsForModCloth(data_modcloth_df)\n",
        "data_modcloth_df = data_modcloth_df.round({'imputed_hips':2})"
      ],
      "execution_count": null,
      "outputs": []
    },
    {
      "cell_type": "markdown",
      "metadata": {
        "id": "rke7SrLabHnt"
      },
      "source": [
        "## Bra Size, Cup Size & Bust Size"
      ]
    },
    {
      "cell_type": "code",
      "metadata": {
        "id": "cu55PPpsbKL9"
      },
      "source": [
        "data_modcloth_df = imputeBraSizeForModCloth(data_modcloth_df) #imputing bra sizes\n",
        "data_modcloth_df = data_modcloth_df.round({'imputed_brasize':0}) #rounding off the imputed values\n",
        "data_modcloth_df = roundToEvenBraSize(data_modcloth_df) #convert odd bra sizes to even by adding 1 as suggested in referred material\n",
        "data_modcloth_df.imputed_brasize=data_modcloth_df.imputed_brasize.astype(int) #converting from float to int\n",
        "data_modcloth_df.imputed_brasize=data_modcloth_df.imputed_brasize.astype(str) #converting to string object"
      ],
      "execution_count": null,
      "outputs": []
    },
    {
      "cell_type": "code",
      "metadata": {
        "id": "UhYYSPGhbTgl"
      },
      "source": [
        "data_modcloth_df = imputeCupSizeForModCloth(data_modcloth_df) #impute cupsize\n",
        "data_modcloth_df = combineBustSizeForModCloth(data_modcloth_df) #combine brasize and cupsize to form new column"
      ],
      "execution_count": null,
      "outputs": []
    },
    {
      "cell_type": "code",
      "metadata": {
        "id": "ky5UHYs3blPz"
      },
      "source": [
        "data_modcloth_df=convertBustSizeToInches(data_modcloth_df) #convert bust sizes to inches"
      ],
      "execution_count": null,
      "outputs": []
    },
    {
      "cell_type": "markdown",
      "metadata": {
        "id": "eSivTSl0dpHW"
      },
      "source": [
        "## Quality/Rating"
      ]
    },
    {
      "cell_type": "code",
      "metadata": {
        "id": "yWLFo7DQdrY0"
      },
      "source": [
        "qualityMeanModCloth = round(data_modcloth_df['quality'].mean())\n",
        "data_modcloth_df['quality'] = data_modcloth_df['quality'].fillna(qualityMeanModCloth)"
      ],
      "execution_count": null,
      "outputs": []
    },
    {
      "cell_type": "markdown",
      "metadata": {
        "id": "oQJV3GJ9vB8z"
      },
      "source": [
        "## Length"
      ]
    },
    {
      "cell_type": "code",
      "metadata": {
        "id": "Rig1CXawvC77",
        "outputId": "2be38a4c-19e5-4fd1-930c-270b80618d89",
        "colab": {
          "base_uri": "https://localhost:8080/"
        }
      },
      "source": [
        "# data_modcloth_df.groupby(['category','fit'])['length'].value_counts().head(30)\n",
        "print(data_modcloth_df['length'].isnull().sum())\n",
        "data_modcloth_df = imputeLengthForModCloth(data_modcloth_df)\n",
        "print(data_modcloth_df['imputed_length'].isnull().sum())"
      ],
      "execution_count": null,
      "outputs": [
        {
          "output_type": "stream",
          "text": [
            "35\n",
            "0\n"
          ],
          "name": "stdout"
        }
      ]
    },
    {
      "cell_type": "markdown",
      "metadata": {
        "id": "ncGrQvBeGL12"
      },
      "source": [
        "## Some Preprocessing (dropping extra columns)"
      ]
    },
    {
      "cell_type": "markdown",
      "metadata": {
        "id": "qvdqwC6bGgjE"
      },
      "source": [
        "1. Dropping column waist as it has a lot of missing values- around 95%.\n",
        "2. Dropping some more columns which we feel are not needed as they won't be contributing towards our prediction for fit feature- user_name,user_id,item_id\n",
        "3. Removing review_summary and review_text because though they can be of use, but to process text, Natural Language Processing (NLP) has to be applied. We are considering this section to be part of our future work.\n",
        "4. Removing column length as it is one of the user's feedback, i.e. target class, and it will not be used for our predictive model. If time allows, we will be making another model to predict feature length.\n",
        "5. Dropping some columns, which have already been imputed into new columns - height,shoe size, shoe width, hips, bra size, cup size, bust\n",
        "6. As we have calculated bustsize in inches, we donot need the following columns anymore- imputed_brasize,imputed_cupsize, imputed_bustsize,imputed_length\n",
        "7. After dropping, rename all columns by removing prefix imputed and adding '_'"
      ]
    },
    {
      "cell_type": "code",
      "metadata": {
        "id": "8HTDRbaSH3CY"
      },
      "source": [
        "data_modcloth_df_filtered=data_modcloth_df.copy()"
      ],
      "execution_count": null,
      "outputs": []
    },
    {
      "cell_type": "code",
      "metadata": {
        "id": "7ggkzZlAICdU"
      },
      "source": [
        "# Dropping unnecessary columns.\n",
        "data_modcloth_df_filtered.drop(['waist'], axis=1, inplace=True)\n",
        "data_modcloth_df_filtered.drop(['user_name'], axis=1, inplace=True)\n",
        "data_modcloth_df_filtered.drop(['user_id'], axis=1, inplace=True)\n",
        "data_modcloth_df_filtered.drop(['item_id'], axis=1, inplace=True)\n",
        "data_modcloth_df_filtered.drop(['review_summary'], axis=1, inplace=True)\n",
        "data_modcloth_df_filtered.drop(['review_text'], axis=1, inplace=True)\n",
        "data_modcloth_df_filtered.drop(['length'], axis=1, inplace=True)\n",
        "data_modcloth_df_filtered.drop(['imputed_length'], axis=1, inplace=True)\n",
        "data_modcloth_df_filtered.drop(['height'], axis=1, inplace=True)\n",
        "data_modcloth_df_filtered.drop(['shoe size'], axis=1, inplace=True)\n",
        "data_modcloth_df_filtered.drop(['shoe width'], axis=1, inplace=True)\n",
        "data_modcloth_df_filtered.drop(['hips'], axis=1, inplace=True)\n",
        "data_modcloth_df_filtered.drop(['bra size'], axis=1, inplace=True)\n",
        "data_modcloth_df_filtered.drop(['cup size'], axis=1, inplace=True)\n",
        "data_modcloth_df_filtered.drop(['bust'], axis=1, inplace=True)\n",
        "data_modcloth_df_filtered.drop(['imputed_brasize'], axis=1, inplace=True)\n",
        "data_modcloth_df_filtered.drop(['imputed_cupsize'], axis=1, inplace=True)\n",
        "data_modcloth_df_filtered.drop(['imputed_bustsize'], axis=1, inplace=True)"
      ],
      "execution_count": null,
      "outputs": []
    },
    {
      "cell_type": "code",
      "metadata": {
        "id": "b8fVSgaTKMVr"
      },
      "source": [
        "# Renaming the columns\n",
        "data_modcloth_df_filtered.columns = ['size', 'quality', 'category', 'fit', 'height', 'shoe_size', 'shoe_width', 'hips', 'bust']"
      ],
      "execution_count": null,
      "outputs": []
    },
    {
      "cell_type": "code",
      "metadata": {
        "id": "oVk6IUhGKgGe",
        "outputId": "6d021529-f3d7-4ea8-9e19-ee6279c0735e",
        "colab": {
          "base_uri": "https://localhost:8080/"
        }
      },
      "source": [
        "data_modcloth_df_filtered.info()"
      ],
      "execution_count": null,
      "outputs": [
        {
          "output_type": "stream",
          "text": [
            "<class 'pandas.core.frame.DataFrame'>\n",
            "RangeIndex: 82790 entries, 0 to 82789\n",
            "Data columns (total 9 columns):\n",
            " #   Column      Non-Null Count  Dtype  \n",
            "---  ------      --------------  -----  \n",
            " 0   size        82790 non-null  int64  \n",
            " 1   quality     82790 non-null  float64\n",
            " 2   category    82790 non-null  object \n",
            " 3   fit         82790 non-null  object \n",
            " 4   height      82790 non-null  float64\n",
            " 5   shoe_size   82790 non-null  float64\n",
            " 6   shoe_width  82790 non-null  object \n",
            " 7   hips        82790 non-null  float64\n",
            " 8   bust        82790 non-null  float64\n",
            "dtypes: float64(5), int64(1), object(3)\n",
            "memory usage: 5.7+ MB\n"
          ],
          "name": "stdout"
        }
      ]
    },
    {
      "cell_type": "markdown",
      "metadata": {
        "id": "-0WE6HHkK1Zi"
      },
      "source": [
        "- So now, we have 3 categorical features, i.e. category, fit and shoe_width which we need to convert into numerical values before feeding them to our ML algorithms. \n",
        "- Out of these 3, fit feature is our target variable."
      ]
    },
    {
      "cell_type": "code",
      "metadata": {
        "id": "fH2GgjMcKlZg",
        "outputId": "43c866a8-b2c4-48e2-8903-02111e25f54b",
        "colab": {
          "base_uri": "https://localhost:8080/"
        }
      },
      "source": [
        "# Finding out the unique values that our categorical features have\n",
        "print(data_modcloth_df_filtered['category'].unique())\n",
        "print(data_modcloth_df_filtered['fit'].unique())\n",
        "print(data_modcloth_df_filtered['shoe_width'].unique())"
      ],
      "execution_count": null,
      "outputs": [
        {
          "output_type": "stream",
          "text": [
            "['new' 'dresses' 'wedding' 'sale' 'tops' 'bottoms' 'outerwear']\n",
            "['small' 'fit' 'large']\n",
            "['average' 'wide' 'narrow']\n"
          ],
          "name": "stdout"
        }
      ]
    },
    {
      "cell_type": "markdown",
      "metadata": {
        "id": "7bfy2GWwLTlS"
      },
      "source": [
        "## Encoding categorical features\n",
        "\n"
      ]
    },
    {
      "cell_type": "markdown",
      "metadata": {
        "id": "IMcw6shgLazR"
      },
      "source": [
        "1. Fit feature is our target feature and we can do ordinal encoding as we have 3 classes in order, small,fit and large, with values 0,1,2.\n",
        "\n",
        "\n",
        "2. Similarly, shoe_width can also be encoded using ordinal encoding as we have 3 classes that too in order. So, narrow,average,wide can be encoded to 0,1,2.\n",
        "\n",
        "\n",
        "3. For our variable category,we can perform Binary encoding on the classes.\n",
        "\n",
        "\n",
        "4. This is because,if we do one hot encoding then we will have 7 new features.If there are a lot of categories for one hot encoding, it creates a phenomenon called dummy variable trap. It slows down learning of the model and also makes it ineffective. Due to the massive increase in the dataset, coding slows down the learning of the model along with deteriorating the overall performance that ultimately makes the model computationally expensive. Further, while using tree-based models these encodings are not an optimum choice.\n",
        "\n",
        "\n",
        "5. Binary encoding is a combination of Hash encoding and one-hot encoding. In this encoding scheme, the categorical feature is first converted into numerical using an ordinal encoder. Then the numbers are transformed in the binary number. After that binary value is split into different columns.Binary encoding works really well when there are a high number of categories. For example the cities in a country where a company supplies its products.Binary encoding is a memory-efficient encoding scheme as it uses fewer features than one-hot encoding. Further, It reduces the curse of dimensionality for data with high cardinality.So, it can be applied to our category feature.\n"
      ]
    },
    {
      "cell_type": "code",
      "metadata": {
        "id": "biVXf2_4MvOO"
      },
      "source": [
        "# Encoding fit category with ordinal encoding\n",
        "encoder= ce.OrdinalEncoder(cols=['fit'],return_df=True,\n",
        "                           mapping=[{'col':'fit','mapping':{'small':0,'fit':1,'large':2}}])\n",
        "data_modcloth_df_filtered = encoder.fit_transform(data_modcloth_df_filtered)"
      ],
      "execution_count": null,
      "outputs": []
    },
    {
      "cell_type": "code",
      "metadata": {
        "id": "45pnT5NHNBoh"
      },
      "source": [
        "# Encoding shoe_width category with ordinal encoding\n",
        "encoder_shoe_width= ce.OrdinalEncoder(cols=['shoe_width'],return_df=True,\n",
        "                           mapping=[{'col':'shoe_width','mapping':{'narrow':0,'average':1,'wide':2}}])\n",
        "data_modcloth_df_filtered  = encoder_shoe_width.fit_transform(data_modcloth_df_filtered )"
      ],
      "execution_count": null,
      "outputs": []
    },
    {
      "cell_type": "code",
      "metadata": {
        "id": "5013Idu-NJe1"
      },
      "source": [
        "# Encoding category with Binary Encoding\n",
        "encoder_binary= ce.BinaryEncoder(cols=['category'],return_df=True)\n",
        "data_modcloth_df_filtered =encoder_binary.fit_transform(data_modcloth_df_filtered ) "
      ],
      "execution_count": null,
      "outputs": []
    },
    {
      "cell_type": "code",
      "metadata": {
        "id": "wZz-3KCuNcEc",
        "outputId": "95bd5527-e918-442c-ea2c-f45d91ce8d3b",
        "colab": {
          "base_uri": "https://localhost:8080/",
          "height": 347
        }
      },
      "source": [
        "data_modcloth_df_filtered.head(10)"
      ],
      "execution_count": null,
      "outputs": [
        {
          "output_type": "execute_result",
          "data": {
            "text/html": [
              "<div>\n",
              "<style scoped>\n",
              "    .dataframe tbody tr th:only-of-type {\n",
              "        vertical-align: middle;\n",
              "    }\n",
              "\n",
              "    .dataframe tbody tr th {\n",
              "        vertical-align: top;\n",
              "    }\n",
              "\n",
              "    .dataframe thead th {\n",
              "        text-align: right;\n",
              "    }\n",
              "</style>\n",
              "<table border=\"1\" class=\"dataframe\">\n",
              "  <thead>\n",
              "    <tr style=\"text-align: right;\">\n",
              "      <th></th>\n",
              "      <th>size</th>\n",
              "      <th>quality</th>\n",
              "      <th>category_0</th>\n",
              "      <th>category_1</th>\n",
              "      <th>category_2</th>\n",
              "      <th>category_3</th>\n",
              "      <th>fit</th>\n",
              "      <th>height</th>\n",
              "      <th>shoe_size</th>\n",
              "      <th>shoe_width</th>\n",
              "      <th>hips</th>\n",
              "      <th>bust</th>\n",
              "    </tr>\n",
              "  </thead>\n",
              "  <tbody>\n",
              "    <tr>\n",
              "      <th>0</th>\n",
              "      <td>7</td>\n",
              "      <td>5.0</td>\n",
              "      <td>0</td>\n",
              "      <td>0</td>\n",
              "      <td>0</td>\n",
              "      <td>1</td>\n",
              "      <td>0</td>\n",
              "      <td>167.64</td>\n",
              "      <td>8.5</td>\n",
              "      <td>1</td>\n",
              "      <td>38.00</td>\n",
              "      <td>38.0</td>\n",
              "    </tr>\n",
              "    <tr>\n",
              "      <th>1</th>\n",
              "      <td>13</td>\n",
              "      <td>3.0</td>\n",
              "      <td>0</td>\n",
              "      <td>0</td>\n",
              "      <td>0</td>\n",
              "      <td>1</td>\n",
              "      <td>0</td>\n",
              "      <td>157.48</td>\n",
              "      <td>7.0</td>\n",
              "      <td>1</td>\n",
              "      <td>30.00</td>\n",
              "      <td>38.0</td>\n",
              "    </tr>\n",
              "    <tr>\n",
              "      <th>2</th>\n",
              "      <td>7</td>\n",
              "      <td>2.0</td>\n",
              "      <td>0</td>\n",
              "      <td>0</td>\n",
              "      <td>0</td>\n",
              "      <td>1</td>\n",
              "      <td>0</td>\n",
              "      <td>170.18</td>\n",
              "      <td>9.0</td>\n",
              "      <td>1</td>\n",
              "      <td>36.97</td>\n",
              "      <td>34.0</td>\n",
              "    </tr>\n",
              "    <tr>\n",
              "      <th>3</th>\n",
              "      <td>21</td>\n",
              "      <td>5.0</td>\n",
              "      <td>0</td>\n",
              "      <td>0</td>\n",
              "      <td>0</td>\n",
              "      <td>1</td>\n",
              "      <td>1</td>\n",
              "      <td>165.53</td>\n",
              "      <td>8.0</td>\n",
              "      <td>1</td>\n",
              "      <td>44.79</td>\n",
              "      <td>45.0</td>\n",
              "    </tr>\n",
              "    <tr>\n",
              "      <th>4</th>\n",
              "      <td>18</td>\n",
              "      <td>5.0</td>\n",
              "      <td>0</td>\n",
              "      <td>0</td>\n",
              "      <td>0</td>\n",
              "      <td>1</td>\n",
              "      <td>0</td>\n",
              "      <td>157.48</td>\n",
              "      <td>7.0</td>\n",
              "      <td>1</td>\n",
              "      <td>44.13</td>\n",
              "      <td>38.0</td>\n",
              "    </tr>\n",
              "    <tr>\n",
              "      <th>5</th>\n",
              "      <td>11</td>\n",
              "      <td>5.0</td>\n",
              "      <td>0</td>\n",
              "      <td>0</td>\n",
              "      <td>0</td>\n",
              "      <td>1</td>\n",
              "      <td>0</td>\n",
              "      <td>162.56</td>\n",
              "      <td>8.0</td>\n",
              "      <td>1</td>\n",
              "      <td>41.00</td>\n",
              "      <td>39.0</td>\n",
              "    </tr>\n",
              "    <tr>\n",
              "      <th>6</th>\n",
              "      <td>5</td>\n",
              "      <td>1.0</td>\n",
              "      <td>0</td>\n",
              "      <td>0</td>\n",
              "      <td>0</td>\n",
              "      <td>1</td>\n",
              "      <td>2</td>\n",
              "      <td>160.02</td>\n",
              "      <td>7.5</td>\n",
              "      <td>1</td>\n",
              "      <td>35.29</td>\n",
              "      <td>34.0</td>\n",
              "    </tr>\n",
              "    <tr>\n",
              "      <th>7</th>\n",
              "      <td>11</td>\n",
              "      <td>5.0</td>\n",
              "      <td>0</td>\n",
              "      <td>0</td>\n",
              "      <td>0</td>\n",
              "      <td>1</td>\n",
              "      <td>0</td>\n",
              "      <td>165.10</td>\n",
              "      <td>8.5</td>\n",
              "      <td>1</td>\n",
              "      <td>42.00</td>\n",
              "      <td>42.0</td>\n",
              "    </tr>\n",
              "    <tr>\n",
              "      <th>8</th>\n",
              "      <td>30</td>\n",
              "      <td>4.0</td>\n",
              "      <td>0</td>\n",
              "      <td>0</td>\n",
              "      <td>0</td>\n",
              "      <td>1</td>\n",
              "      <td>0</td>\n",
              "      <td>177.80</td>\n",
              "      <td>11.0</td>\n",
              "      <td>2</td>\n",
              "      <td>50.00</td>\n",
              "      <td>46.0</td>\n",
              "    </tr>\n",
              "    <tr>\n",
              "      <th>9</th>\n",
              "      <td>13</td>\n",
              "      <td>5.0</td>\n",
              "      <td>0</td>\n",
              "      <td>0</td>\n",
              "      <td>0</td>\n",
              "      <td>1</td>\n",
              "      <td>1</td>\n",
              "      <td>167.64</td>\n",
              "      <td>9.0</td>\n",
              "      <td>1</td>\n",
              "      <td>41.00</td>\n",
              "      <td>41.0</td>\n",
              "    </tr>\n",
              "  </tbody>\n",
              "</table>\n",
              "</div>"
            ],
            "text/plain": [
              "   size  quality  category_0  category_1  ...  shoe_size  shoe_width   hips  bust\n",
              "0     7      5.0           0           0  ...        8.5           1  38.00  38.0\n",
              "1    13      3.0           0           0  ...        7.0           1  30.00  38.0\n",
              "2     7      2.0           0           0  ...        9.0           1  36.97  34.0\n",
              "3    21      5.0           0           0  ...        8.0           1  44.79  45.0\n",
              "4    18      5.0           0           0  ...        7.0           1  44.13  38.0\n",
              "5    11      5.0           0           0  ...        8.0           1  41.00  39.0\n",
              "6     5      1.0           0           0  ...        7.5           1  35.29  34.0\n",
              "7    11      5.0           0           0  ...        8.5           1  42.00  42.0\n",
              "8    30      4.0           0           0  ...       11.0           2  50.00  46.0\n",
              "9    13      5.0           0           0  ...        9.0           1  41.00  41.0\n",
              "\n",
              "[10 rows x 12 columns]"
            ]
          },
          "metadata": {
            "tags": []
          },
          "execution_count": 26
        }
      ]
    },
    {
      "cell_type": "code",
      "metadata": {
        "id": "vC9oIAYzNlwl",
        "outputId": "82634194-7526-447b-d7b5-8bb253732d0b",
        "colab": {
          "base_uri": "https://localhost:8080/"
        }
      },
      "source": [
        "data_modcloth_df_filtered.info()"
      ],
      "execution_count": null,
      "outputs": [
        {
          "output_type": "stream",
          "text": [
            "<class 'pandas.core.frame.DataFrame'>\n",
            "RangeIndex: 82790 entries, 0 to 82789\n",
            "Data columns (total 12 columns):\n",
            " #   Column      Non-Null Count  Dtype  \n",
            "---  ------      --------------  -----  \n",
            " 0   size        82790 non-null  int64  \n",
            " 1   quality     82790 non-null  float64\n",
            " 2   category_0  82790 non-null  int64  \n",
            " 3   category_1  82790 non-null  int64  \n",
            " 4   category_2  82790 non-null  int64  \n",
            " 5   category_3  82790 non-null  int64  \n",
            " 6   fit         82790 non-null  int64  \n",
            " 7   height      82790 non-null  float64\n",
            " 8   shoe_size   82790 non-null  float64\n",
            " 9   shoe_width  82790 non-null  int64  \n",
            " 10  hips        82790 non-null  float64\n",
            " 11  bust        82790 non-null  float64\n",
            "dtypes: float64(5), int64(7)\n",
            "memory usage: 7.6 MB\n"
          ],
          "name": "stdout"
        }
      ]
    },
    {
      "cell_type": "markdown",
      "metadata": {
        "id": "IQPt9AvbNwUH"
      },
      "source": [
        "- As we can see above, though category had 6 classes, after binary encoding , it got converted to only 4 new variables. This helps in dimensionality reduction and prevents dummy variable trap\n",
        "- As of now we only have 12 features to work on.\n",
        "- Also, all the features are numerical now.\n",
        "- We can now pass our dataframe data_modcloth_df_filtered to our Machine Learning Algorithms"
      ]
    },
    {
      "cell_type": "markdown",
      "metadata": {
        "id": "k1Hf09eqYUTp"
      },
      "source": [
        "# **RenTheRunWay Data Processing**"
      ]
    },
    {
      "cell_type": "markdown",
      "metadata": {
        "id": "6bhNhuh4Y9t8"
      },
      "source": [
        "## Reading data from file"
      ]
    },
    {
      "cell_type": "code",
      "metadata": {
        "id": "sJrJ0YqiZAcT",
        "outputId": "bf1d3858-0728-44e4-a3c3-f26c6297b684",
        "colab": {
          "base_uri": "https://localhost:8080/"
        }
      },
      "source": [
        "# There is one JSON object per line, and there are multiple lines, so reading entire file as one object per line\n",
        "data_renttherunway_df=pd.read_json('/content/drive/My Drive/CMPE256_CourseProjectShortcut/CMPE256_CourseProject/Datasets/renttherunway.json', lines=True)\n",
        "data_renttherunway_df.head()"
      ],
      "execution_count": null,
      "outputs": [
        {
          "output_type": "execute_result",
          "data": {
            "text/html": [
              "<div>\n",
              "<style scoped>\n",
              "    .dataframe tbody tr th:only-of-type {\n",
              "        vertical-align: middle;\n",
              "    }\n",
              "\n",
              "    .dataframe tbody tr th {\n",
              "        vertical-align: top;\n",
              "    }\n",
              "\n",
              "    .dataframe thead th {\n",
              "        text-align: right;\n",
              "    }\n",
              "</style>\n",
              "<table border=\"1\" class=\"dataframe\">\n",
              "  <thead>\n",
              "    <tr style=\"text-align: right;\">\n",
              "      <th></th>\n",
              "      <th>fit</th>\n",
              "      <th>user_id</th>\n",
              "      <th>bust size</th>\n",
              "      <th>item_id</th>\n",
              "      <th>weight</th>\n",
              "      <th>rating</th>\n",
              "      <th>rented for</th>\n",
              "      <th>review_text</th>\n",
              "      <th>body type</th>\n",
              "      <th>review_summary</th>\n",
              "      <th>category</th>\n",
              "      <th>height</th>\n",
              "      <th>size</th>\n",
              "      <th>age</th>\n",
              "      <th>review_date</th>\n",
              "    </tr>\n",
              "  </thead>\n",
              "  <tbody>\n",
              "    <tr>\n",
              "      <th>0</th>\n",
              "      <td>fit</td>\n",
              "      <td>420272</td>\n",
              "      <td>34d</td>\n",
              "      <td>2260466</td>\n",
              "      <td>137lbs</td>\n",
              "      <td>10.0</td>\n",
              "      <td>vacation</td>\n",
              "      <td>An adorable romper! Belt and zipper were a lit...</td>\n",
              "      <td>hourglass</td>\n",
              "      <td>So many compliments!</td>\n",
              "      <td>romper</td>\n",
              "      <td>5' 8\"</td>\n",
              "      <td>14</td>\n",
              "      <td>28.0</td>\n",
              "      <td>April 20, 2016</td>\n",
              "    </tr>\n",
              "    <tr>\n",
              "      <th>1</th>\n",
              "      <td>fit</td>\n",
              "      <td>273551</td>\n",
              "      <td>34b</td>\n",
              "      <td>153475</td>\n",
              "      <td>132lbs</td>\n",
              "      <td>10.0</td>\n",
              "      <td>other</td>\n",
              "      <td>I rented this dress for a photo shoot. The the...</td>\n",
              "      <td>straight &amp; narrow</td>\n",
              "      <td>I felt so glamourous!!!</td>\n",
              "      <td>gown</td>\n",
              "      <td>5' 6\"</td>\n",
              "      <td>12</td>\n",
              "      <td>36.0</td>\n",
              "      <td>June 18, 2013</td>\n",
              "    </tr>\n",
              "    <tr>\n",
              "      <th>2</th>\n",
              "      <td>fit</td>\n",
              "      <td>360448</td>\n",
              "      <td>NaN</td>\n",
              "      <td>1063761</td>\n",
              "      <td>NaN</td>\n",
              "      <td>10.0</td>\n",
              "      <td>party</td>\n",
              "      <td>This hugged in all the right places! It was a ...</td>\n",
              "      <td>NaN</td>\n",
              "      <td>It was a great time to celebrate the (almost) ...</td>\n",
              "      <td>sheath</td>\n",
              "      <td>5' 4\"</td>\n",
              "      <td>4</td>\n",
              "      <td>116.0</td>\n",
              "      <td>December 14, 2015</td>\n",
              "    </tr>\n",
              "    <tr>\n",
              "      <th>3</th>\n",
              "      <td>fit</td>\n",
              "      <td>909926</td>\n",
              "      <td>34c</td>\n",
              "      <td>126335</td>\n",
              "      <td>135lbs</td>\n",
              "      <td>8.0</td>\n",
              "      <td>formal affair</td>\n",
              "      <td>I rented this for my company's black tie award...</td>\n",
              "      <td>pear</td>\n",
              "      <td>Dress arrived on time and in perfect condition.</td>\n",
              "      <td>dress</td>\n",
              "      <td>5' 5\"</td>\n",
              "      <td>8</td>\n",
              "      <td>34.0</td>\n",
              "      <td>February 12, 2014</td>\n",
              "    </tr>\n",
              "    <tr>\n",
              "      <th>4</th>\n",
              "      <td>fit</td>\n",
              "      <td>151944</td>\n",
              "      <td>34b</td>\n",
              "      <td>616682</td>\n",
              "      <td>145lbs</td>\n",
              "      <td>10.0</td>\n",
              "      <td>wedding</td>\n",
              "      <td>I have always been petite in my upper body and...</td>\n",
              "      <td>athletic</td>\n",
              "      <td>Was in love with this dress !!!</td>\n",
              "      <td>gown</td>\n",
              "      <td>5' 9\"</td>\n",
              "      <td>12</td>\n",
              "      <td>27.0</td>\n",
              "      <td>September 26, 2016</td>\n",
              "    </tr>\n",
              "  </tbody>\n",
              "</table>\n",
              "</div>"
            ],
            "text/plain": [
              "   fit  user_id bust size  item_id  ... height  size    age         review_date\n",
              "0  fit   420272       34d  2260466  ...  5' 8\"    14   28.0      April 20, 2016\n",
              "1  fit   273551       34b   153475  ...  5' 6\"    12   36.0       June 18, 2013\n",
              "2  fit   360448       NaN  1063761  ...  5' 4\"     4  116.0   December 14, 2015\n",
              "3  fit   909926       34c   126335  ...  5' 5\"     8   34.0   February 12, 2014\n",
              "4  fit   151944       34b   616682  ...  5' 9\"    12   27.0  September 26, 2016\n",
              "\n",
              "[5 rows x 15 columns]"
            ]
          },
          "metadata": {
            "tags": []
          },
          "execution_count": 28
        }
      ]
    },
    {
      "cell_type": "code",
      "metadata": {
        "id": "jBrp8rdaZCPM",
        "outputId": "511da8c5-9cd1-4884-a206-db9fc902d221",
        "colab": {
          "base_uri": "https://localhost:8080/"
        }
      },
      "source": [
        "data_renttherunway_df.info()"
      ],
      "execution_count": null,
      "outputs": [
        {
          "output_type": "stream",
          "text": [
            "<class 'pandas.core.frame.DataFrame'>\n",
            "RangeIndex: 192544 entries, 0 to 192543\n",
            "Data columns (total 15 columns):\n",
            " #   Column          Non-Null Count   Dtype  \n",
            "---  ------          --------------   -----  \n",
            " 0   fit             192544 non-null  object \n",
            " 1   user_id         192544 non-null  int64  \n",
            " 2   bust size       174133 non-null  object \n",
            " 3   item_id         192544 non-null  int64  \n",
            " 4   weight          162562 non-null  object \n",
            " 5   rating          192462 non-null  float64\n",
            " 6   rented for      192534 non-null  object \n",
            " 7   review_text     192544 non-null  object \n",
            " 8   body type       177907 non-null  object \n",
            " 9   review_summary  192544 non-null  object \n",
            " 10  category        192544 non-null  object \n",
            " 11  height          191867 non-null  object \n",
            " 12  size            192544 non-null  int64  \n",
            " 13  age             191584 non-null  float64\n",
            " 14  review_date     192544 non-null  object \n",
            "dtypes: float64(2), int64(3), object(10)\n",
            "memory usage: 22.0+ MB\n"
          ],
          "name": "stdout"
        }
      ]
    },
    {
      "cell_type": "code",
      "metadata": {
        "id": "WMnXjmN_ZDxL",
        "outputId": "a4fd8e6d-58e7-4f55-826b-bafd6e3909a5",
        "colab": {
          "base_uri": "https://localhost:8080/"
        }
      },
      "source": [
        "data_renttherunway_df.describe()"
      ],
      "execution_count": null,
      "outputs": [
        {
          "output_type": "execute_result",
          "data": {
            "text/html": [
              "<div>\n",
              "<style scoped>\n",
              "    .dataframe tbody tr th:only-of-type {\n",
              "        vertical-align: middle;\n",
              "    }\n",
              "\n",
              "    .dataframe tbody tr th {\n",
              "        vertical-align: top;\n",
              "    }\n",
              "\n",
              "    .dataframe thead th {\n",
              "        text-align: right;\n",
              "    }\n",
              "</style>\n",
              "<table border=\"1\" class=\"dataframe\">\n",
              "  <thead>\n",
              "    <tr style=\"text-align: right;\">\n",
              "      <th></th>\n",
              "      <th>user_id</th>\n",
              "      <th>item_id</th>\n",
              "      <th>rating</th>\n",
              "      <th>size</th>\n",
              "      <th>age</th>\n",
              "    </tr>\n",
              "  </thead>\n",
              "  <tbody>\n",
              "    <tr>\n",
              "      <th>count</th>\n",
              "      <td>192544.000000</td>\n",
              "      <td>1.925440e+05</td>\n",
              "      <td>192462.000000</td>\n",
              "      <td>192544.000000</td>\n",
              "      <td>191584.000000</td>\n",
              "    </tr>\n",
              "    <tr>\n",
              "      <th>mean</th>\n",
              "      <td>499494.100149</td>\n",
              "      <td>1.045684e+06</td>\n",
              "      <td>9.092371</td>\n",
              "      <td>12.245175</td>\n",
              "      <td>33.871017</td>\n",
              "    </tr>\n",
              "    <tr>\n",
              "      <th>std</th>\n",
              "      <td>289059.719328</td>\n",
              "      <td>8.053148e+05</td>\n",
              "      <td>1.430044</td>\n",
              "      <td>8.494877</td>\n",
              "      <td>8.058083</td>\n",
              "    </tr>\n",
              "    <tr>\n",
              "      <th>min</th>\n",
              "      <td>9.000000</td>\n",
              "      <td>1.233730e+05</td>\n",
              "      <td>2.000000</td>\n",
              "      <td>0.000000</td>\n",
              "      <td>0.000000</td>\n",
              "    </tr>\n",
              "    <tr>\n",
              "      <th>25%</th>\n",
              "      <td>250654.250000</td>\n",
              "      <td>1.950760e+05</td>\n",
              "      <td>8.000000</td>\n",
              "      <td>8.000000</td>\n",
              "      <td>29.000000</td>\n",
              "    </tr>\n",
              "    <tr>\n",
              "      <th>50%</th>\n",
              "      <td>499419.000000</td>\n",
              "      <td>9.483960e+05</td>\n",
              "      <td>10.000000</td>\n",
              "      <td>12.000000</td>\n",
              "      <td>32.000000</td>\n",
              "    </tr>\n",
              "    <tr>\n",
              "      <th>75%</th>\n",
              "      <td>750974.000000</td>\n",
              "      <td>1.678888e+06</td>\n",
              "      <td>10.000000</td>\n",
              "      <td>16.000000</td>\n",
              "      <td>37.000000</td>\n",
              "    </tr>\n",
              "    <tr>\n",
              "      <th>max</th>\n",
              "      <td>999997.000000</td>\n",
              "      <td>2.966087e+06</td>\n",
              "      <td>10.000000</td>\n",
              "      <td>58.000000</td>\n",
              "      <td>117.000000</td>\n",
              "    </tr>\n",
              "  </tbody>\n",
              "</table>\n",
              "</div>"
            ],
            "text/plain": [
              "             user_id       item_id         rating           size            age\n",
              "count  192544.000000  1.925440e+05  192462.000000  192544.000000  191584.000000\n",
              "mean   499494.100149  1.045684e+06       9.092371      12.245175      33.871017\n",
              "std    289059.719328  8.053148e+05       1.430044       8.494877       8.058083\n",
              "min         9.000000  1.233730e+05       2.000000       0.000000       0.000000\n",
              "25%    250654.250000  1.950760e+05       8.000000       8.000000      29.000000\n",
              "50%    499419.000000  9.483960e+05      10.000000      12.000000      32.000000\n",
              "75%    750974.000000  1.678888e+06      10.000000      16.000000      37.000000\n",
              "max    999997.000000  2.966087e+06      10.000000      58.000000     117.000000"
            ]
          },
          "metadata": {
            "tags": []
          },
          "execution_count": 30
        }
      ]
    },
    {
      "cell_type": "markdown",
      "metadata": {
        "id": "pNLbow-7Z2MZ"
      },
      "source": [
        "## Height"
      ]
    },
    {
      "cell_type": "code",
      "metadata": {
        "id": "MirMCzH2Z5L1",
        "outputId": "ec448eac-1366-4db8-9444-8286413957d7",
        "colab": {
          "base_uri": "https://localhost:8080/"
        }
      },
      "source": [
        "data_renttherunway_df['height'] = data_renttherunway_df['height'].apply(convertHeightIntoCm)\n",
        "data_renttherunway_df.head()"
      ],
      "execution_count": null,
      "outputs": [
        {
          "output_type": "execute_result",
          "data": {
            "text/html": [
              "<div>\n",
              "<style scoped>\n",
              "    .dataframe tbody tr th:only-of-type {\n",
              "        vertical-align: middle;\n",
              "    }\n",
              "\n",
              "    .dataframe tbody tr th {\n",
              "        vertical-align: top;\n",
              "    }\n",
              "\n",
              "    .dataframe thead th {\n",
              "        text-align: right;\n",
              "    }\n",
              "</style>\n",
              "<table border=\"1\" class=\"dataframe\">\n",
              "  <thead>\n",
              "    <tr style=\"text-align: right;\">\n",
              "      <th></th>\n",
              "      <th>fit</th>\n",
              "      <th>user_id</th>\n",
              "      <th>bust size</th>\n",
              "      <th>item_id</th>\n",
              "      <th>weight</th>\n",
              "      <th>rating</th>\n",
              "      <th>rented for</th>\n",
              "      <th>review_text</th>\n",
              "      <th>body type</th>\n",
              "      <th>review_summary</th>\n",
              "      <th>category</th>\n",
              "      <th>height</th>\n",
              "      <th>size</th>\n",
              "      <th>age</th>\n",
              "      <th>review_date</th>\n",
              "    </tr>\n",
              "  </thead>\n",
              "  <tbody>\n",
              "    <tr>\n",
              "      <th>0</th>\n",
              "      <td>fit</td>\n",
              "      <td>420272</td>\n",
              "      <td>34d</td>\n",
              "      <td>2260466</td>\n",
              "      <td>137lbs</td>\n",
              "      <td>10.0</td>\n",
              "      <td>vacation</td>\n",
              "      <td>An adorable romper! Belt and zipper were a lit...</td>\n",
              "      <td>hourglass</td>\n",
              "      <td>So many compliments!</td>\n",
              "      <td>romper</td>\n",
              "      <td>172.72</td>\n",
              "      <td>14</td>\n",
              "      <td>28.0</td>\n",
              "      <td>April 20, 2016</td>\n",
              "    </tr>\n",
              "    <tr>\n",
              "      <th>1</th>\n",
              "      <td>fit</td>\n",
              "      <td>273551</td>\n",
              "      <td>34b</td>\n",
              "      <td>153475</td>\n",
              "      <td>132lbs</td>\n",
              "      <td>10.0</td>\n",
              "      <td>other</td>\n",
              "      <td>I rented this dress for a photo shoot. The the...</td>\n",
              "      <td>straight &amp; narrow</td>\n",
              "      <td>I felt so glamourous!!!</td>\n",
              "      <td>gown</td>\n",
              "      <td>167.64</td>\n",
              "      <td>12</td>\n",
              "      <td>36.0</td>\n",
              "      <td>June 18, 2013</td>\n",
              "    </tr>\n",
              "    <tr>\n",
              "      <th>2</th>\n",
              "      <td>fit</td>\n",
              "      <td>360448</td>\n",
              "      <td>NaN</td>\n",
              "      <td>1063761</td>\n",
              "      <td>NaN</td>\n",
              "      <td>10.0</td>\n",
              "      <td>party</td>\n",
              "      <td>This hugged in all the right places! It was a ...</td>\n",
              "      <td>NaN</td>\n",
              "      <td>It was a great time to celebrate the (almost) ...</td>\n",
              "      <td>sheath</td>\n",
              "      <td>162.56</td>\n",
              "      <td>4</td>\n",
              "      <td>116.0</td>\n",
              "      <td>December 14, 2015</td>\n",
              "    </tr>\n",
              "    <tr>\n",
              "      <th>3</th>\n",
              "      <td>fit</td>\n",
              "      <td>909926</td>\n",
              "      <td>34c</td>\n",
              "      <td>126335</td>\n",
              "      <td>135lbs</td>\n",
              "      <td>8.0</td>\n",
              "      <td>formal affair</td>\n",
              "      <td>I rented this for my company's black tie award...</td>\n",
              "      <td>pear</td>\n",
              "      <td>Dress arrived on time and in perfect condition.</td>\n",
              "      <td>dress</td>\n",
              "      <td>165.10</td>\n",
              "      <td>8</td>\n",
              "      <td>34.0</td>\n",
              "      <td>February 12, 2014</td>\n",
              "    </tr>\n",
              "    <tr>\n",
              "      <th>4</th>\n",
              "      <td>fit</td>\n",
              "      <td>151944</td>\n",
              "      <td>34b</td>\n",
              "      <td>616682</td>\n",
              "      <td>145lbs</td>\n",
              "      <td>10.0</td>\n",
              "      <td>wedding</td>\n",
              "      <td>I have always been petite in my upper body and...</td>\n",
              "      <td>athletic</td>\n",
              "      <td>Was in love with this dress !!!</td>\n",
              "      <td>gown</td>\n",
              "      <td>175.26</td>\n",
              "      <td>12</td>\n",
              "      <td>27.0</td>\n",
              "      <td>September 26, 2016</td>\n",
              "    </tr>\n",
              "  </tbody>\n",
              "</table>\n",
              "</div>"
            ],
            "text/plain": [
              "   fit  user_id bust size  item_id  ...  height  size    age         review_date\n",
              "0  fit   420272       34d  2260466  ...  172.72    14   28.0      April 20, 2016\n",
              "1  fit   273551       34b   153475  ...  167.64    12   36.0       June 18, 2013\n",
              "2  fit   360448       NaN  1063761  ...  162.56     4  116.0   December 14, 2015\n",
              "3  fit   909926       34c   126335  ...  165.10     8   34.0   February 12, 2014\n",
              "4  fit   151944       34b   616682  ...  175.26    12   27.0  September 26, 2016\n",
              "\n",
              "[5 rows x 15 columns]"
            ]
          },
          "metadata": {
            "tags": []
          },
          "execution_count": 31
        }
      ]
    },
    {
      "cell_type": "markdown",
      "metadata": {
        "id": "PMiwt6HOaF-a"
      },
      "source": [
        "Removing lbs from weight column and making it float type"
      ]
    },
    {
      "cell_type": "code",
      "metadata": {
        "id": "12YRcRMEaGmC"
      },
      "source": [
        "data_renttherunway_df['weight'] = data_renttherunway_df['weight'].apply(removeLBSfromWeight)\n",
        "data_renttherunway_df['weight'] = data_renttherunway_df['weight'].astype(float)"
      ],
      "execution_count": null,
      "outputs": []
    },
    {
      "cell_type": "code",
      "metadata": {
        "id": "cgjBk3vFaKqK"
      },
      "source": [
        "# imputing values for height using other user body measurements - body type, bust size & weight - in inc. order of missing percentage\n",
        "data_renttherunway_df = imputeHeightForRentTheRunWay(data_renttherunway_df)\n",
        "data_renttherunway_df = data_renttherunway_df.round({'imputed_height':2})"
      ],
      "execution_count": null,
      "outputs": []
    },
    {
      "cell_type": "markdown",
      "metadata": {
        "id": "khpjlPRQbLUO"
      },
      "source": [
        "## Bra Size, Cup Size & Bust Size"
      ]
    },
    {
      "cell_type": "code",
      "metadata": {
        "id": "Dg4gO72dbb55"
      },
      "source": [
        "data_renttherunway_df = imputeBustSizeForRentTheRunWay(data_renttherunway_df) #imputed missing bust sizes based on grouping category column and taking mode"
      ],
      "execution_count": null,
      "outputs": []
    },
    {
      "cell_type": "code",
      "metadata": {
        "id": "Xo1tiTZjbdtW"
      },
      "source": [
        "data_renttherunway_df = convertBustSizeForRentTheRunWay(data_renttherunway_df) #converting inconsistent sizes"
      ],
      "execution_count": null,
      "outputs": []
    },
    {
      "cell_type": "code",
      "metadata": {
        "id": "j3tWmGB-bO51"
      },
      "source": [
        "data_renttherunway_df=convertBustSizeToInches(data_renttherunway_df) #convert bust sizes to inches"
      ],
      "execution_count": null,
      "outputs": []
    },
    {
      "cell_type": "markdown",
      "metadata": {
        "id": "rGg3MdITcEae"
      },
      "source": [
        "## Weight"
      ]
    },
    {
      "cell_type": "code",
      "metadata": {
        "id": "dI2xP5_GcGjf"
      },
      "source": [
        "data_renttherunway_df = imputeWeightForRentTheRunWay(data_renttherunway_df)"
      ],
      "execution_count": null,
      "outputs": []
    },
    {
      "cell_type": "markdown",
      "metadata": {
        "id": "8Se88hwgckGq"
      },
      "source": [
        "## Age"
      ]
    },
    {
      "cell_type": "code",
      "metadata": {
        "id": "tZ7t5-6Xck3G"
      },
      "source": [
        "data_renttherunway_df = imputeAgeForRentTheRunWay(data_renttherunway_df)"
      ],
      "execution_count": null,
      "outputs": []
    },
    {
      "cell_type": "markdown",
      "metadata": {
        "id": "uJBP2umac0Cb"
      },
      "source": [
        "### Handling age outlier"
      ]
    },
    {
      "cell_type": "code",
      "metadata": {
        "id": "ip_7nvSscrRv",
        "outputId": "31c1b21d-fb86-4528-85e3-72bd03058193",
        "colab": {
          "base_uri": "https://localhost:8080/"
        }
      },
      "source": [
        "ageOutliersCount = data_renttherunway_df.loc[((data_renttherunway_df['age'] == 0) | (data_renttherunway_df['age'] > 90), 'age')].shape[0]\n",
        "ageOutliersCount"
      ],
      "execution_count": null,
      "outputs": [
        {
          "output_type": "execute_result",
          "data": {
            "text/plain": [
              "111"
            ]
          },
          "metadata": {
            "tags": []
          },
          "execution_count": 39
        }
      ]
    },
    {
      "cell_type": "code",
      "metadata": {
        "id": "9ugfo2bmcuh4",
        "outputId": "f0d8ff6c-0a22-45a4-c416-b9318550c62f",
        "colab": {
          "base_uri": "https://localhost:8080/"
        }
      },
      "source": [
        "ageMeanValueRounded = round(data_renttherunway_df['age'].mean())\n",
        "ageMeanValueRounded"
      ],
      "execution_count": null,
      "outputs": [
        {
          "output_type": "execute_result",
          "data": {
            "text/plain": [
              "34"
            ]
          },
          "metadata": {
            "tags": []
          },
          "execution_count": 40
        }
      ]
    },
    {
      "cell_type": "code",
      "metadata": {
        "id": "Pk5bTtV6cvmO"
      },
      "source": [
        "data_renttherunway_df.loc[((data_renttherunway_df['age'] == 0) | (data_renttherunway_df['age'] > 90), 'age')] = ageMeanValueRounded"
      ],
      "execution_count": null,
      "outputs": []
    },
    {
      "cell_type": "markdown",
      "metadata": {
        "id": "3IRW99F-eB14"
      },
      "source": [
        "## Quality/Rating"
      ]
    },
    {
      "cell_type": "code",
      "metadata": {
        "id": "kwyD7X-FeDL6"
      },
      "source": [
        "qualityMeanRentTheRunWay = round(data_renttherunway_df['rating'].mean())\n",
        "data_renttherunway_df['imputedRating'] = data_renttherunway_df['rating'].fillna(qualityMeanRentTheRunWay)\n",
        "data_renttherunway_df['imputedRating'] = data_renttherunway_df['imputedRating'].div(2).round()"
      ],
      "execution_count": null,
      "outputs": []
    },
    {
      "cell_type": "markdown",
      "metadata": {
        "id": "N06kzmEpvNWe"
      },
      "source": [
        "## Body Type"
      ]
    },
    {
      "cell_type": "code",
      "metadata": {
        "id": "y_XxQsfnvOZa"
      },
      "source": [
        "data_renttherunway_df=imputeBodyType(data_renttherunway_df)"
      ],
      "execution_count": null,
      "outputs": []
    },
    {
      "cell_type": "code",
      "metadata": {
        "id": "8nf06sGqcVo3",
        "outputId": "68dec32d-0a13-4565-fb96-df378b516bb0",
        "colab": {
          "base_uri": "https://localhost:8080/"
        }
      },
      "source": [
        "data_renttherunway_df.info()"
      ],
      "execution_count": null,
      "outputs": [
        {
          "output_type": "stream",
          "text": [
            "<class 'pandas.core.frame.DataFrame'>\n",
            "RangeIndex: 192544 entries, 0 to 192543\n",
            "Data columns (total 21 columns):\n",
            " #   Column              Non-Null Count   Dtype  \n",
            "---  ------              --------------   -----  \n",
            " 0   fit                 192544 non-null  object \n",
            " 1   user_id             192544 non-null  int64  \n",
            " 2   bust size           174133 non-null  object \n",
            " 3   item_id             192544 non-null  int64  \n",
            " 4   weight              162562 non-null  float64\n",
            " 5   rating              192462 non-null  float64\n",
            " 6   rented for          192534 non-null  object \n",
            " 7   review_text         192544 non-null  object \n",
            " 8   body type           177907 non-null  object \n",
            " 9   review_summary      192544 non-null  object \n",
            " 10  category            192544 non-null  object \n",
            " 11  height              191867 non-null  float64\n",
            " 12  size                192544 non-null  int64  \n",
            " 13  age                 192544 non-null  float64\n",
            " 14  review_date         192544 non-null  object \n",
            " 15  imputed_height      192544 non-null  float64\n",
            " 16  imputed_bustsize    192544 non-null  object \n",
            " 17  bustsize_in_inches  192544 non-null  float64\n",
            " 18  imputed_weight      192544 non-null  float64\n",
            " 19  imputedRating       192544 non-null  float64\n",
            " 20  imputed_bodyType    192544 non-null  object \n",
            "dtypes: float64(8), int64(3), object(10)\n",
            "memory usage: 30.8+ MB\n"
          ],
          "name": "stdout"
        }
      ]
    },
    {
      "cell_type": "markdown",
      "metadata": {
        "id": "BOL41Qnab-8l"
      },
      "source": [
        "## Some Processing (Dropping extra columns)"
      ]
    },
    {
      "cell_type": "markdown",
      "metadata": {
        "id": "k0PIfnWMcNPe"
      },
      "source": [
        "1. Dropping some columns which we feel are not needed as they won't be contributing towards our prediction for fit feature- user_id,item_id\n",
        "\n",
        "\n",
        "2. Removing review_summary, review_text, review_date because though they can be of use, but to process text, Natural Language Processing (NLP) has to be applied. We are considering this section to be part of our future work.\n",
        "\n",
        "\n",
        "3. Dropping some columns, which have already been imputed into new columns - height,bust size,rating, body type,weight\n",
        "\n",
        "\n",
        "4. As we have calculated bustsize in inches, we donot need the following column anymore- imputed_bustsize\n",
        "\n",
        "\n",
        "5. Removing column age as it does not contribute towards our predictive model as for a wide age range like 20-35 or maybe 40, alot of people can have the same fit.\n",
        "\n",
        "\n",
        "6. Dropping column rented for as well, again for the same reason. It has no role in predicting if a cloth would fit the user or not.\n",
        "\n",
        "\n",
        "7. After dropping, rename all columns by removing prefix imputed and adding '_'"
      ]
    },
    {
      "cell_type": "code",
      "metadata": {
        "id": "PFhR18Lpd-Al"
      },
      "source": [
        "# Removing unnecessary columns\n",
        "data_renttherunway_df_filtered=data_renttherunway_df.copy()\n",
        "data_renttherunway_df_filtered.drop(['user_id'], axis=1, inplace=True)\n",
        "data_renttherunway_df_filtered.drop(['item_id'], axis=1, inplace=True)\n",
        "data_renttherunway_df_filtered.drop(['review_text'], axis=1, inplace=True)\n",
        "data_renttherunway_df_filtered.drop(['review_summary'], axis=1, inplace=True)\n",
        "data_renttherunway_df_filtered.drop(['review_date'], axis=1, inplace=True)\n",
        "data_renttherunway_df_filtered.drop(['height'], axis=1, inplace=True)\n",
        "data_renttherunway_df_filtered.drop(['bust size'], axis=1, inplace=True)\n",
        "data_renttherunway_df_filtered.drop(['rating'], axis=1, inplace=True)\n",
        "data_renttherunway_df_filtered.drop(['body type'], axis=1, inplace=True)\n",
        "data_renttherunway_df_filtered.drop(['imputed_bustsize'], axis=1, inplace=True)\n",
        "data_renttherunway_df_filtered.drop(['age'], axis=1, inplace=True)\n",
        "data_renttherunway_df_filtered.drop(['rented for'], axis=1, inplace=True)"
      ],
      "execution_count": null,
      "outputs": []
    },
    {
      "cell_type": "code",
      "metadata": {
        "id": "asM3bibAe38m"
      },
      "source": [
        "data_renttherunway_df_filtered.drop(['weight'], axis=1, inplace=True)"
      ],
      "execution_count": null,
      "outputs": []
    },
    {
      "cell_type": "code",
      "metadata": {
        "id": "YmzrrPsdeoGR"
      },
      "source": [
        "# Renaming the columns\n",
        "data_renttherunway_df_filtered.columns = ['fit','category','size','height','bust_size','weight','rating','body_type']"
      ],
      "execution_count": null,
      "outputs": []
    },
    {
      "cell_type": "code",
      "metadata": {
        "id": "sSjPrtp3fPVu",
        "outputId": "e0ad8dce-795c-4d4e-af1c-967d47272f70",
        "colab": {
          "base_uri": "https://localhost:8080/"
        }
      },
      "source": [
        "data_renttherunway_df_filtered.info()"
      ],
      "execution_count": null,
      "outputs": [
        {
          "output_type": "stream",
          "text": [
            "<class 'pandas.core.frame.DataFrame'>\n",
            "RangeIndex: 192544 entries, 0 to 192543\n",
            "Data columns (total 8 columns):\n",
            " #   Column     Non-Null Count   Dtype  \n",
            "---  ------     --------------   -----  \n",
            " 0   fit        192544 non-null  object \n",
            " 1   category   192544 non-null  object \n",
            " 2   size       192544 non-null  int64  \n",
            " 3   height     192544 non-null  float64\n",
            " 4   bust_size  192544 non-null  float64\n",
            " 5   weight     192544 non-null  float64\n",
            " 6   rating     192544 non-null  float64\n",
            " 7   body_type  192544 non-null  object \n",
            "dtypes: float64(4), int64(1), object(3)\n",
            "memory usage: 11.8+ MB\n"
          ],
          "name": "stdout"
        }
      ]
    },
    {
      "cell_type": "markdown",
      "metadata": {
        "id": "j89T5-qpfS_5"
      },
      "source": [
        "- So now, we have 3 categorical features, i.e. category, fit and body_type which we need to convert into numerical values before feeding them to our ML algorithms. \n",
        "- Out of these 3, fit feature is our target variable."
      ]
    },
    {
      "cell_type": "code",
      "metadata": {
        "id": "nM1mwLfGe-rJ",
        "outputId": "fd860bb2-fb06-41ad-a0b5-92f0127a4e3c",
        "colab": {
          "base_uri": "https://localhost:8080/"
        }
      },
      "source": [
        "# Seeing what unique values do our categorical features have.\n",
        "print(data_renttherunway_df_filtered['category'].unique())\n",
        "print(data_renttherunway_df_filtered['fit'].unique())\n",
        "print(data_renttherunway_df_filtered['body_type'].unique())"
      ],
      "execution_count": null,
      "outputs": [
        {
          "output_type": "stream",
          "text": [
            "['romper' 'gown' 'sheath' 'dress' 'leggings' 'top' 'jumpsuit' 'sweater'\n",
            " 'jacket' 'shirtdress' 'maxi' 'shift' 'pants' 'shirt' 'mini' 'skirt'\n",
            " 'pullover' 'blouse' 'suit' 'coat' 'trench' 'bomber' 'cape' 'blazer'\n",
            " 'vest' 'duster' 'ballgown' 'tank' 'poncho' 'frock' 'tunic' 'cardigan'\n",
            " 'culottes' 'down' 'trouser' 'midi' 'pant' 'legging' 'print' 'knit'\n",
            " 'culotte' 'sweatshirt' 'peacoat' 'kaftan' 'overalls' 'jogger' 'tee'\n",
            " 'combo' 'henley' 'cami' 'blouson' 'turtleneck' 'trousers' 'overcoat'\n",
            " 'hoodie' 't-shirt' 'caftan' 'tight' 'kimono' 'for' 'crewneck' 'skirts'\n",
            " 'parka' 'buttondown' 'skort' 'sweatershirt' 'sweatpants' 'jeans']\n",
            "['fit' 'small' 'large']\n",
            "['hourglass' 'straight & narrow' 'petite' 'pear' 'athletic' 'full bust'\n",
            " 'apple']\n"
          ],
          "name": "stdout"
        }
      ]
    },
    {
      "cell_type": "code",
      "metadata": {
        "id": "agtpagreg3qu",
        "outputId": "810f1390-579d-4cd0-e7b2-1d1bb7c8ccc4",
        "colab": {
          "base_uri": "https://localhost:8080/"
        }
      },
      "source": [
        "data_renttherunway_df_filtered['category'][data_renttherunway_df_filtered['category'].notnull()].value_counts(normalize=True,dropna=False).head(10)"
      ],
      "execution_count": null,
      "outputs": [
        {
          "output_type": "execute_result",
          "data": {
            "text/plain": [
              "dress       0.482404\n",
              "gown        0.230498\n",
              "sheath      0.100320\n",
              "shift       0.027864\n",
              "jumpsuit    0.026924\n",
              "top         0.025610\n",
              "maxi        0.017882\n",
              "romper      0.015944\n",
              "jacket      0.012485\n",
              "mini        0.009094\n",
              "Name: category, dtype: float64"
            ]
          },
          "metadata": {
            "tags": []
          },
          "execution_count": 50
        }
      ]
    },
    {
      "cell_type": "markdown",
      "metadata": {
        "id": "wESVTqtEg7op"
      },
      "source": [
        "- Here, top 9 contitute 93.95% of data"
      ]
    },
    {
      "cell_type": "code",
      "metadata": {
        "id": "Rvao4M1Ig-Xh",
        "outputId": "50c18c28-efc7-486e-e920-08dd6b9f4343",
        "colab": {
          "base_uri": "https://localhost:8080/"
        }
      },
      "source": [
        "data_renttherunway_df_filtered['fit'][data_renttherunway_df_filtered['fit'].notnull()].value_counts(normalize=True,dropna=False).head(10)"
      ],
      "execution_count": null,
      "outputs": [
        {
          "output_type": "execute_result",
          "data": {
            "text/plain": [
              "fit      0.737795\n",
              "small    0.133886\n",
              "large    0.128319\n",
              "Name: fit, dtype: float64"
            ]
          },
          "metadata": {
            "tags": []
          },
          "execution_count": 51
        }
      ]
    },
    {
      "cell_type": "code",
      "metadata": {
        "id": "fS7NBBdYhYqJ",
        "outputId": "a7926ba2-ad5f-426a-ba62-14019cac6b4d",
        "colab": {
          "base_uri": "https://localhost:8080/"
        }
      },
      "source": [
        "data_renttherunway_df_filtered['body_type'][data_renttherunway_df_filtered['body_type'].notnull()].value_counts(normalize=True,dropna=False).head(10)"
      ],
      "execution_count": null,
      "outputs": [
        {
          "output_type": "execute_result",
          "data": {
            "text/plain": [
              "hourglass            0.327385\n",
              "athletic             0.245617\n",
              "petite               0.131949\n",
              "pear                 0.114982\n",
              "full bust            0.077967\n",
              "straight & narrow    0.076762\n",
              "apple                0.025340\n",
              "Name: body_type, dtype: float64"
            ]
          },
          "metadata": {
            "tags": []
          },
          "execution_count": 52
        }
      ]
    },
    {
      "cell_type": "markdown",
      "metadata": {
        "id": "mZOpYKBofxGz"
      },
      "source": [
        "## Encoding categorical Features"
      ]
    },
    {
      "cell_type": "markdown",
      "metadata": {
        "id": "8ndvkYTYf0sK"
      },
      "source": [
        "1. Fit feature is our target feature and we can do ordinal encoding as we have 3 classes in order, small,fit and large, with values 0,1,2.\n",
        "\n",
        "\n",
        "2. For body type, we can perform Binary Encoding. As of now, we have 7 classes, which would be reduced to a fewer columns after encoding.\n",
        "\n",
        "\n",
        "3. For our variable category,we can perform Binary encoding on the classes after some preprocessing. As we can see, top 9 categories account for 93.35% of the data, so there is no point taking all the 68 categories. This would merely increase the number of dummy variables if we do one hot encoding. Even if we do Binary Encoding on 68 features, it would boil down to 7-8 features after encoding.So, we will take only those rows which have top 9 categories and perform Binary Encoding on top of it.\n",
        "\n",
        "\n",
        "\n"
      ]
    },
    {
      "cell_type": "code",
      "metadata": {
        "id": "PC09Jeh7hcys"
      },
      "source": [
        "# Encoding fit category with ordinal encoding\n",
        "encoder= ce.OrdinalEncoder(cols=['fit'],return_df=True,\n",
        "                           mapping=[{'col':'fit','mapping':{'small':0,'fit':1,'large':2}}])\n",
        "data_renttherunway_df_filtered = encoder.fit_transform(data_renttherunway_df_filtered)"
      ],
      "execution_count": null,
      "outputs": []
    },
    {
      "cell_type": "code",
      "metadata": {
        "id": "g8LzJH9JhkQ5"
      },
      "source": [
        "# Encoding fit category with Binary encoding\n",
        "encoder_binary= ce.BinaryEncoder(cols=['body_type'],return_df=True)\n",
        "data_renttherunway_df_filtered =encoder_binary.fit_transform(data_renttherunway_df_filtered) "
      ],
      "execution_count": null,
      "outputs": []
    },
    {
      "cell_type": "code",
      "metadata": {
        "id": "jMcBk2yYht-a"
      },
      "source": [
        "# Removing the rows that do not contain the top 9 categories\n",
        "data_renttherunway_df_filtered = data_renttherunway_df_filtered[data_renttherunway_df_filtered['category'].isin(['dress','gown','sheath','shift','jumpsuit','top','maxi','romper','jacket'])]\n"
      ],
      "execution_count": null,
      "outputs": []
    },
    {
      "cell_type": "code",
      "metadata": {
        "id": "2I70Kbjih7lN",
        "outputId": "37fb642e-ca33-4296-dfc5-eb6871d1af13",
        "colab": {
          "base_uri": "https://localhost:8080/"
        }
      },
      "source": [
        "print(data_renttherunway_df_filtered['category'].unique())"
      ],
      "execution_count": null,
      "outputs": [
        {
          "output_type": "stream",
          "text": [
            "['romper' 'gown' 'sheath' 'dress' 'top' 'jumpsuit' 'jacket' 'maxi' 'shift']\n"
          ],
          "name": "stdout"
        }
      ]
    },
    {
      "cell_type": "code",
      "metadata": {
        "id": "N4tB_S_wiApX"
      },
      "source": [
        "# Encoding category with Binary Encoding\n",
        "encoder_binary_category= ce.BinaryEncoder(cols=['category'],return_df=True)\n",
        "data_renttherunway_df_filtered =encoder_binary_category.fit_transform(data_renttherunway_df_filtered) "
      ],
      "execution_count": null,
      "outputs": []
    },
    {
      "cell_type": "code",
      "metadata": {
        "id": "gm9nkMw-iKLO",
        "outputId": "82e0fd6a-8690-4445-80ed-14619cf5975e",
        "colab": {
          "base_uri": "https://localhost:8080/",
          "height": 197
        }
      },
      "source": [
        "data_renttherunway_df_filtered.head()"
      ],
      "execution_count": null,
      "outputs": [
        {
          "output_type": "execute_result",
          "data": {
            "text/html": [
              "<div>\n",
              "<style scoped>\n",
              "    .dataframe tbody tr th:only-of-type {\n",
              "        vertical-align: middle;\n",
              "    }\n",
              "\n",
              "    .dataframe tbody tr th {\n",
              "        vertical-align: top;\n",
              "    }\n",
              "\n",
              "    .dataframe thead th {\n",
              "        text-align: right;\n",
              "    }\n",
              "</style>\n",
              "<table border=\"1\" class=\"dataframe\">\n",
              "  <thead>\n",
              "    <tr style=\"text-align: right;\">\n",
              "      <th></th>\n",
              "      <th>fit</th>\n",
              "      <th>category_0</th>\n",
              "      <th>category_1</th>\n",
              "      <th>category_2</th>\n",
              "      <th>category_3</th>\n",
              "      <th>category_4</th>\n",
              "      <th>size</th>\n",
              "      <th>height</th>\n",
              "      <th>bust_size</th>\n",
              "      <th>weight</th>\n",
              "      <th>rating</th>\n",
              "      <th>body_type_0</th>\n",
              "      <th>body_type_1</th>\n",
              "      <th>body_type_2</th>\n",
              "      <th>body_type_3</th>\n",
              "    </tr>\n",
              "  </thead>\n",
              "  <tbody>\n",
              "    <tr>\n",
              "      <th>0</th>\n",
              "      <td>1</td>\n",
              "      <td>0</td>\n",
              "      <td>0</td>\n",
              "      <td>0</td>\n",
              "      <td>0</td>\n",
              "      <td>1</td>\n",
              "      <td>14</td>\n",
              "      <td>172.72</td>\n",
              "      <td>38.0</td>\n",
              "      <td>137.000000</td>\n",
              "      <td>5.0</td>\n",
              "      <td>0</td>\n",
              "      <td>0</td>\n",
              "      <td>0</td>\n",
              "      <td>1</td>\n",
              "    </tr>\n",
              "    <tr>\n",
              "      <th>1</th>\n",
              "      <td>1</td>\n",
              "      <td>0</td>\n",
              "      <td>0</td>\n",
              "      <td>0</td>\n",
              "      <td>1</td>\n",
              "      <td>0</td>\n",
              "      <td>12</td>\n",
              "      <td>167.64</td>\n",
              "      <td>36.0</td>\n",
              "      <td>132.000000</td>\n",
              "      <td>5.0</td>\n",
              "      <td>0</td>\n",
              "      <td>0</td>\n",
              "      <td>1</td>\n",
              "      <td>0</td>\n",
              "    </tr>\n",
              "    <tr>\n",
              "      <th>2</th>\n",
              "      <td>1</td>\n",
              "      <td>0</td>\n",
              "      <td>0</td>\n",
              "      <td>0</td>\n",
              "      <td>1</td>\n",
              "      <td>1</td>\n",
              "      <td>4</td>\n",
              "      <td>162.56</td>\n",
              "      <td>36.0</td>\n",
              "      <td>120.507222</td>\n",
              "      <td>5.0</td>\n",
              "      <td>0</td>\n",
              "      <td>0</td>\n",
              "      <td>1</td>\n",
              "      <td>1</td>\n",
              "    </tr>\n",
              "    <tr>\n",
              "      <th>3</th>\n",
              "      <td>1</td>\n",
              "      <td>0</td>\n",
              "      <td>0</td>\n",
              "      <td>1</td>\n",
              "      <td>0</td>\n",
              "      <td>0</td>\n",
              "      <td>8</td>\n",
              "      <td>165.10</td>\n",
              "      <td>37.0</td>\n",
              "      <td>135.000000</td>\n",
              "      <td>4.0</td>\n",
              "      <td>0</td>\n",
              "      <td>1</td>\n",
              "      <td>0</td>\n",
              "      <td>0</td>\n",
              "    </tr>\n",
              "    <tr>\n",
              "      <th>4</th>\n",
              "      <td>1</td>\n",
              "      <td>0</td>\n",
              "      <td>0</td>\n",
              "      <td>0</td>\n",
              "      <td>1</td>\n",
              "      <td>0</td>\n",
              "      <td>12</td>\n",
              "      <td>175.26</td>\n",
              "      <td>36.0</td>\n",
              "      <td>145.000000</td>\n",
              "      <td>5.0</td>\n",
              "      <td>0</td>\n",
              "      <td>1</td>\n",
              "      <td>0</td>\n",
              "      <td>1</td>\n",
              "    </tr>\n",
              "  </tbody>\n",
              "</table>\n",
              "</div>"
            ],
            "text/plain": [
              "   fit  category_0  category_1  ...  body_type_1  body_type_2  body_type_3\n",
              "0    1           0           0  ...            0            0            1\n",
              "1    1           0           0  ...            0            1            0\n",
              "2    1           0           0  ...            0            1            1\n",
              "3    1           0           0  ...            1            0            0\n",
              "4    1           0           0  ...            1            0            1\n",
              "\n",
              "[5 rows x 15 columns]"
            ]
          },
          "metadata": {
            "tags": []
          },
          "execution_count": 58
        }
      ]
    },
    {
      "cell_type": "code",
      "metadata": {
        "id": "7968O3maiVFN",
        "outputId": "6d14c2d4-0e08-4bd4-cfc9-23c6423b6fdd",
        "colab": {
          "base_uri": "https://localhost:8080/"
        }
      },
      "source": [
        "data_renttherunway_df_filtered.info()"
      ],
      "execution_count": null,
      "outputs": [
        {
          "output_type": "stream",
          "text": [
            "<class 'pandas.core.frame.DataFrame'>\n",
            "Int64Index: 180978 entries, 0 to 192543\n",
            "Data columns (total 15 columns):\n",
            " #   Column       Non-Null Count   Dtype  \n",
            "---  ------       --------------   -----  \n",
            " 0   fit          180978 non-null  int64  \n",
            " 1   category_0   180978 non-null  int64  \n",
            " 2   category_1   180978 non-null  int64  \n",
            " 3   category_2   180978 non-null  int64  \n",
            " 4   category_3   180978 non-null  int64  \n",
            " 5   category_4   180978 non-null  int64  \n",
            " 6   size         180978 non-null  int64  \n",
            " 7   height       180978 non-null  float64\n",
            " 8   bust_size    180978 non-null  float64\n",
            " 9   weight       180978 non-null  float64\n",
            " 10  rating       180978 non-null  float64\n",
            " 11  body_type_0  180978 non-null  int64  \n",
            " 12  body_type_1  180978 non-null  int64  \n",
            " 13  body_type_2  180978 non-null  int64  \n",
            " 14  body_type_3  180978 non-null  int64  \n",
            "dtypes: float64(4), int64(11)\n",
            "memory usage: 22.1 MB\n"
          ],
          "name": "stdout"
        }
      ]
    },
    {
      "cell_type": "markdown",
      "metadata": {
        "id": "p6aYCPCsiisC"
      },
      "source": [
        "- As we can see above, though category had 9 classes, after binary encoding , it got converted to only 5 new variables. This helps in dimensionality reduction and prevents dummy variable trap\n",
        "- As of now we only have 15 features to work on.\n",
        "- Also, all the features are numerical now.\n",
        "- We can now pass our dataframe data_modcloth_df_filtered to our Machine Learning Algorithms"
      ]
    },
    {
      "cell_type": "markdown",
      "metadata": {
        "id": "q7V47S7Ime4s"
      },
      "source": [
        "# **Assembling final datasets for modelling**"
      ]
    },
    {
      "cell_type": "markdown",
      "metadata": {
        "id": "DJoA-ho8mk9Q"
      },
      "source": [
        "## ModCloth"
      ]
    },
    {
      "cell_type": "code",
      "metadata": {
        "id": "-8iJE3_j5jPY",
        "outputId": "7928076e-a65e-46b3-c7e2-51fd27602e25",
        "colab": {
          "base_uri": "https://localhost:8080/",
          "height": 197
        }
      },
      "source": [
        "modCloth_full_X = data_modcloth_df_filtered.loc[:, data_modcloth_df_filtered.columns != 'fit']\n",
        "modCloth_full_X.head()"
      ],
      "execution_count": null,
      "outputs": [
        {
          "output_type": "execute_result",
          "data": {
            "text/html": [
              "<div>\n",
              "<style scoped>\n",
              "    .dataframe tbody tr th:only-of-type {\n",
              "        vertical-align: middle;\n",
              "    }\n",
              "\n",
              "    .dataframe tbody tr th {\n",
              "        vertical-align: top;\n",
              "    }\n",
              "\n",
              "    .dataframe thead th {\n",
              "        text-align: right;\n",
              "    }\n",
              "</style>\n",
              "<table border=\"1\" class=\"dataframe\">\n",
              "  <thead>\n",
              "    <tr style=\"text-align: right;\">\n",
              "      <th></th>\n",
              "      <th>size</th>\n",
              "      <th>quality</th>\n",
              "      <th>category_0</th>\n",
              "      <th>category_1</th>\n",
              "      <th>category_2</th>\n",
              "      <th>category_3</th>\n",
              "      <th>height</th>\n",
              "      <th>shoe_size</th>\n",
              "      <th>shoe_width</th>\n",
              "      <th>hips</th>\n",
              "      <th>bust</th>\n",
              "    </tr>\n",
              "  </thead>\n",
              "  <tbody>\n",
              "    <tr>\n",
              "      <th>0</th>\n",
              "      <td>7</td>\n",
              "      <td>5.0</td>\n",
              "      <td>0</td>\n",
              "      <td>0</td>\n",
              "      <td>0</td>\n",
              "      <td>1</td>\n",
              "      <td>167.64</td>\n",
              "      <td>8.5</td>\n",
              "      <td>1</td>\n",
              "      <td>38.00</td>\n",
              "      <td>38.0</td>\n",
              "    </tr>\n",
              "    <tr>\n",
              "      <th>1</th>\n",
              "      <td>13</td>\n",
              "      <td>3.0</td>\n",
              "      <td>0</td>\n",
              "      <td>0</td>\n",
              "      <td>0</td>\n",
              "      <td>1</td>\n",
              "      <td>157.48</td>\n",
              "      <td>7.0</td>\n",
              "      <td>1</td>\n",
              "      <td>30.00</td>\n",
              "      <td>38.0</td>\n",
              "    </tr>\n",
              "    <tr>\n",
              "      <th>2</th>\n",
              "      <td>7</td>\n",
              "      <td>2.0</td>\n",
              "      <td>0</td>\n",
              "      <td>0</td>\n",
              "      <td>0</td>\n",
              "      <td>1</td>\n",
              "      <td>170.18</td>\n",
              "      <td>9.0</td>\n",
              "      <td>1</td>\n",
              "      <td>36.97</td>\n",
              "      <td>34.0</td>\n",
              "    </tr>\n",
              "    <tr>\n",
              "      <th>3</th>\n",
              "      <td>21</td>\n",
              "      <td>5.0</td>\n",
              "      <td>0</td>\n",
              "      <td>0</td>\n",
              "      <td>0</td>\n",
              "      <td>1</td>\n",
              "      <td>165.53</td>\n",
              "      <td>8.0</td>\n",
              "      <td>1</td>\n",
              "      <td>44.79</td>\n",
              "      <td>45.0</td>\n",
              "    </tr>\n",
              "    <tr>\n",
              "      <th>4</th>\n",
              "      <td>18</td>\n",
              "      <td>5.0</td>\n",
              "      <td>0</td>\n",
              "      <td>0</td>\n",
              "      <td>0</td>\n",
              "      <td>1</td>\n",
              "      <td>157.48</td>\n",
              "      <td>7.0</td>\n",
              "      <td>1</td>\n",
              "      <td>44.13</td>\n",
              "      <td>38.0</td>\n",
              "    </tr>\n",
              "  </tbody>\n",
              "</table>\n",
              "</div>"
            ],
            "text/plain": [
              "   size  quality  category_0  category_1  ...  shoe_size  shoe_width   hips  bust\n",
              "0     7      5.0           0           0  ...        8.5           1  38.00  38.0\n",
              "1    13      3.0           0           0  ...        7.0           1  30.00  38.0\n",
              "2     7      2.0           0           0  ...        9.0           1  36.97  34.0\n",
              "3    21      5.0           0           0  ...        8.0           1  44.79  45.0\n",
              "4    18      5.0           0           0  ...        7.0           1  44.13  38.0\n",
              "\n",
              "[5 rows x 11 columns]"
            ]
          },
          "metadata": {
            "tags": []
          },
          "execution_count": 60
        }
      ]
    },
    {
      "cell_type": "code",
      "metadata": {
        "id": "sddgO8l7C1xb",
        "outputId": "c186b9a0-3db8-4897-f856-af1f09847b94",
        "colab": {
          "base_uri": "https://localhost:8080/",
          "height": 197
        }
      },
      "source": [
        "modCloth_full_Y = data_modcloth_df_filtered.filter(['fit'], axis=1)\n",
        "# modCloth_full_Y['fit'] = LabelEncoder().fit_transform(modCloth_full_Y['fit'])\n",
        "modCloth_full_Y.head()"
      ],
      "execution_count": null,
      "outputs": [
        {
          "output_type": "execute_result",
          "data": {
            "text/html": [
              "<div>\n",
              "<style scoped>\n",
              "    .dataframe tbody tr th:only-of-type {\n",
              "        vertical-align: middle;\n",
              "    }\n",
              "\n",
              "    .dataframe tbody tr th {\n",
              "        vertical-align: top;\n",
              "    }\n",
              "\n",
              "    .dataframe thead th {\n",
              "        text-align: right;\n",
              "    }\n",
              "</style>\n",
              "<table border=\"1\" class=\"dataframe\">\n",
              "  <thead>\n",
              "    <tr style=\"text-align: right;\">\n",
              "      <th></th>\n",
              "      <th>fit</th>\n",
              "    </tr>\n",
              "  </thead>\n",
              "  <tbody>\n",
              "    <tr>\n",
              "      <th>0</th>\n",
              "      <td>0</td>\n",
              "    </tr>\n",
              "    <tr>\n",
              "      <th>1</th>\n",
              "      <td>0</td>\n",
              "    </tr>\n",
              "    <tr>\n",
              "      <th>2</th>\n",
              "      <td>0</td>\n",
              "    </tr>\n",
              "    <tr>\n",
              "      <th>3</th>\n",
              "      <td>1</td>\n",
              "    </tr>\n",
              "    <tr>\n",
              "      <th>4</th>\n",
              "      <td>0</td>\n",
              "    </tr>\n",
              "  </tbody>\n",
              "</table>\n",
              "</div>"
            ],
            "text/plain": [
              "   fit\n",
              "0    0\n",
              "1    0\n",
              "2    0\n",
              "3    1\n",
              "4    0"
            ]
          },
          "metadata": {
            "tags": []
          },
          "execution_count": 61
        }
      ]
    },
    {
      "cell_type": "code",
      "metadata": {
        "id": "Uq7siMwFDw5S",
        "outputId": "5d332545-ec35-4d95-8fa8-cdf84d74d275",
        "colab": {
          "base_uri": "https://localhost:8080/"
        }
      },
      "source": [
        "train_modCloth_X , valid_modCloth_X , train_modCloth_Y , valid_modCloth_Y = train_test_split( modCloth_full_X , modCloth_full_Y , train_size = .7 )\n",
        "\n",
        "print (modCloth_full_X.shape , train_modCloth_X.shape , valid_modCloth_X.shape , train_modCloth_Y.shape , valid_modCloth_Y.shape)"
      ],
      "execution_count": null,
      "outputs": [
        {
          "output_type": "stream",
          "text": [
            "(82790, 11) (57952, 11) (24838, 11) (57952, 1) (24838, 1)\n"
          ],
          "name": "stdout"
        }
      ]
    },
    {
      "cell_type": "markdown",
      "metadata": {
        "id": "u0w0YAHgmnya"
      },
      "source": [
        "## RentTheRunWay"
      ]
    },
    {
      "cell_type": "code",
      "metadata": {
        "id": "6FsoaChX66kk",
        "outputId": "57bbbfe2-4cfa-4d54-cb8f-4ab6892246d2",
        "colab": {
          "base_uri": "https://localhost:8080/",
          "height": 197
        }
      },
      "source": [
        "rentTheRunWay_full_X = data_renttherunway_df_filtered.loc[:, data_renttherunway_df_filtered.columns != 'fit']\n",
        "rentTheRunWay_full_X.head()"
      ],
      "execution_count": null,
      "outputs": [
        {
          "output_type": "execute_result",
          "data": {
            "text/html": [
              "<div>\n",
              "<style scoped>\n",
              "    .dataframe tbody tr th:only-of-type {\n",
              "        vertical-align: middle;\n",
              "    }\n",
              "\n",
              "    .dataframe tbody tr th {\n",
              "        vertical-align: top;\n",
              "    }\n",
              "\n",
              "    .dataframe thead th {\n",
              "        text-align: right;\n",
              "    }\n",
              "</style>\n",
              "<table border=\"1\" class=\"dataframe\">\n",
              "  <thead>\n",
              "    <tr style=\"text-align: right;\">\n",
              "      <th></th>\n",
              "      <th>category_0</th>\n",
              "      <th>category_1</th>\n",
              "      <th>category_2</th>\n",
              "      <th>category_3</th>\n",
              "      <th>category_4</th>\n",
              "      <th>size</th>\n",
              "      <th>height</th>\n",
              "      <th>bust_size</th>\n",
              "      <th>weight</th>\n",
              "      <th>rating</th>\n",
              "      <th>body_type_0</th>\n",
              "      <th>body_type_1</th>\n",
              "      <th>body_type_2</th>\n",
              "      <th>body_type_3</th>\n",
              "    </tr>\n",
              "  </thead>\n",
              "  <tbody>\n",
              "    <tr>\n",
              "      <th>0</th>\n",
              "      <td>0</td>\n",
              "      <td>0</td>\n",
              "      <td>0</td>\n",
              "      <td>0</td>\n",
              "      <td>1</td>\n",
              "      <td>14</td>\n",
              "      <td>172.72</td>\n",
              "      <td>38.0</td>\n",
              "      <td>137.000000</td>\n",
              "      <td>5.0</td>\n",
              "      <td>0</td>\n",
              "      <td>0</td>\n",
              "      <td>0</td>\n",
              "      <td>1</td>\n",
              "    </tr>\n",
              "    <tr>\n",
              "      <th>1</th>\n",
              "      <td>0</td>\n",
              "      <td>0</td>\n",
              "      <td>0</td>\n",
              "      <td>1</td>\n",
              "      <td>0</td>\n",
              "      <td>12</td>\n",
              "      <td>167.64</td>\n",
              "      <td>36.0</td>\n",
              "      <td>132.000000</td>\n",
              "      <td>5.0</td>\n",
              "      <td>0</td>\n",
              "      <td>0</td>\n",
              "      <td>1</td>\n",
              "      <td>0</td>\n",
              "    </tr>\n",
              "    <tr>\n",
              "      <th>2</th>\n",
              "      <td>0</td>\n",
              "      <td>0</td>\n",
              "      <td>0</td>\n",
              "      <td>1</td>\n",
              "      <td>1</td>\n",
              "      <td>4</td>\n",
              "      <td>162.56</td>\n",
              "      <td>36.0</td>\n",
              "      <td>120.507222</td>\n",
              "      <td>5.0</td>\n",
              "      <td>0</td>\n",
              "      <td>0</td>\n",
              "      <td>1</td>\n",
              "      <td>1</td>\n",
              "    </tr>\n",
              "    <tr>\n",
              "      <th>3</th>\n",
              "      <td>0</td>\n",
              "      <td>0</td>\n",
              "      <td>1</td>\n",
              "      <td>0</td>\n",
              "      <td>0</td>\n",
              "      <td>8</td>\n",
              "      <td>165.10</td>\n",
              "      <td>37.0</td>\n",
              "      <td>135.000000</td>\n",
              "      <td>4.0</td>\n",
              "      <td>0</td>\n",
              "      <td>1</td>\n",
              "      <td>0</td>\n",
              "      <td>0</td>\n",
              "    </tr>\n",
              "    <tr>\n",
              "      <th>4</th>\n",
              "      <td>0</td>\n",
              "      <td>0</td>\n",
              "      <td>0</td>\n",
              "      <td>1</td>\n",
              "      <td>0</td>\n",
              "      <td>12</td>\n",
              "      <td>175.26</td>\n",
              "      <td>36.0</td>\n",
              "      <td>145.000000</td>\n",
              "      <td>5.0</td>\n",
              "      <td>0</td>\n",
              "      <td>1</td>\n",
              "      <td>0</td>\n",
              "      <td>1</td>\n",
              "    </tr>\n",
              "  </tbody>\n",
              "</table>\n",
              "</div>"
            ],
            "text/plain": [
              "   category_0  category_1  category_2  ...  body_type_1  body_type_2  body_type_3\n",
              "0           0           0           0  ...            0            0            1\n",
              "1           0           0           0  ...            0            1            0\n",
              "2           0           0           0  ...            0            1            1\n",
              "3           0           0           1  ...            1            0            0\n",
              "4           0           0           0  ...            1            0            1\n",
              "\n",
              "[5 rows x 14 columns]"
            ]
          },
          "metadata": {
            "tags": []
          },
          "execution_count": 63
        }
      ]
    },
    {
      "cell_type": "code",
      "metadata": {
        "id": "GeFDiFpEC_gl",
        "outputId": "ce1679f3-40cb-460a-a418-714872678d41",
        "colab": {
          "base_uri": "https://localhost:8080/",
          "height": 197
        }
      },
      "source": [
        "rentTheRunWay_full_Y = data_renttherunway_df_filtered.filter(['fit'], axis=1)\n",
        "rentTheRunWay_full_Y.head()"
      ],
      "execution_count": null,
      "outputs": [
        {
          "output_type": "execute_result",
          "data": {
            "text/html": [
              "<div>\n",
              "<style scoped>\n",
              "    .dataframe tbody tr th:only-of-type {\n",
              "        vertical-align: middle;\n",
              "    }\n",
              "\n",
              "    .dataframe tbody tr th {\n",
              "        vertical-align: top;\n",
              "    }\n",
              "\n",
              "    .dataframe thead th {\n",
              "        text-align: right;\n",
              "    }\n",
              "</style>\n",
              "<table border=\"1\" class=\"dataframe\">\n",
              "  <thead>\n",
              "    <tr style=\"text-align: right;\">\n",
              "      <th></th>\n",
              "      <th>fit</th>\n",
              "    </tr>\n",
              "  </thead>\n",
              "  <tbody>\n",
              "    <tr>\n",
              "      <th>0</th>\n",
              "      <td>1</td>\n",
              "    </tr>\n",
              "    <tr>\n",
              "      <th>1</th>\n",
              "      <td>1</td>\n",
              "    </tr>\n",
              "    <tr>\n",
              "      <th>2</th>\n",
              "      <td>1</td>\n",
              "    </tr>\n",
              "    <tr>\n",
              "      <th>3</th>\n",
              "      <td>1</td>\n",
              "    </tr>\n",
              "    <tr>\n",
              "      <th>4</th>\n",
              "      <td>1</td>\n",
              "    </tr>\n",
              "  </tbody>\n",
              "</table>\n",
              "</div>"
            ],
            "text/plain": [
              "   fit\n",
              "0    1\n",
              "1    1\n",
              "2    1\n",
              "3    1\n",
              "4    1"
            ]
          },
          "metadata": {
            "tags": []
          },
          "execution_count": 64
        }
      ]
    },
    {
      "cell_type": "code",
      "metadata": {
        "id": "r85rCp6KEO_o",
        "outputId": "a389d53b-eac1-44b7-aad7-24d19c83def6",
        "colab": {
          "base_uri": "https://localhost:8080/"
        }
      },
      "source": [
        "train_rentTheRunWay_X , valid_rentTheRunWay_X , train_rentTheRunWay_Y , valid_rentTheRunWay_Y = train_test_split( rentTheRunWay_full_X , rentTheRunWay_full_Y , train_size = .7 )\n",
        "\n",
        "print (rentTheRunWay_full_X.shape , train_rentTheRunWay_X.shape , valid_rentTheRunWay_X.shape , train_rentTheRunWay_Y.shape , valid_rentTheRunWay_Y.shape)"
      ],
      "execution_count": null,
      "outputs": [
        {
          "output_type": "stream",
          "text": [
            "(180978, 14) (126684, 14) (54294, 14) (126684, 1) (54294, 1)\n"
          ],
          "name": "stdout"
        }
      ]
    },
    {
      "cell_type": "markdown",
      "metadata": {
        "id": "HPWHXq2kEs11"
      },
      "source": [
        "# **Modelling**"
      ]
    },
    {
      "cell_type": "markdown",
      "metadata": {
        "id": "FFnQYM0fEvwN"
      },
      "source": [
        "## **Logistic Regression**\n",
        "\n"
      ]
    },
    {
      "cell_type": "markdown",
      "metadata": {
        "id": "4FCVS56uRQO2"
      },
      "source": [
        "### **ModCloth**"
      ]
    },
    {
      "cell_type": "markdown",
      "metadata": {
        "id": "pLXB5XcbqHxH"
      },
      "source": [
        "#### GridSearchCV"
      ]
    },
    {
      "cell_type": "markdown",
      "metadata": {
        "id": "xMYcZcgLxdki"
      },
      "source": [
        "Following parameters can be varied for logistic regression to get the best params:\n",
        "- Penalty : It specifies the norm for penalties. There are 4 types of penalties: l1, l2, elasticnet and none. It also means type of regularization.\n",
        "- Solver: It describes which algorithm has to be used for optimization. Some solvers work with some penalties and not others. [Link](https://scikit-learn.org/stable/modules/generated/sklearn.linear_model.LogisticRegression.html)\n",
        "- C: This describes the regularization strength/ size of penalty."
      ]
    },
    {
      "cell_type": "code",
      "metadata": {
        "id": "7bzbJoAsoHQA"
      },
      "source": [
        "# The default solver for logistive regression is lbfgs. It only works with l2 penalty\n",
        "grid_values_logistic_regression = [{'penalty': ['l2'], 'C': [0.001, 0.01, 0.1, 1, 10], 'solver':['newton-cg', 'lbfgs', 'sag', 'saga', 'liblinear']},\n",
        "                                   {'penalty': ['l1'], 'C': [0.001, 0.01, 0.1, 1, 10], 'solver':['liblinear', 'saga']},\n",
        "                                   {'penalty': ['elasticnet'], 'C': [0.001, 0.01, 0.1, 1, 10], 'solver':['saga']}]"
      ],
      "execution_count": null,
      "outputs": []
    },
    {
      "cell_type": "code",
      "metadata": {
        "id": "oMPwixo7Exn6"
      },
      "source": [
        "model_logistic_regression = LogisticRegression()"
      ],
      "execution_count": null,
      "outputs": []
    },
    {
      "cell_type": "code",
      "metadata": {
        "id": "8XJMLgQQpMfq"
      },
      "source": [
        "gs_logistic_regression = GridSearchCV(model_logistic_regression, grid_values_logistic_regression, cv=5)"
      ],
      "execution_count": null,
      "outputs": []
    },
    {
      "cell_type": "code",
      "metadata": {
        "id": "njdIbC6NFAmy",
        "outputId": "afc630f7-f978-4553-a18d-c1c58bdde1c9",
        "colab": {
          "base_uri": "https://localhost:8080/"
        }
      },
      "source": [
        "gs_logistic_regression.fit(train_modCloth_X,train_modCloth_Y)"
      ],
      "execution_count": null,
      "outputs": [
        {
          "output_type": "execute_result",
          "data": {
            "text/plain": [
              "GridSearchCV(cv=5, error_score=nan,\n",
              "             estimator=LogisticRegression(C=1.0, class_weight=None, dual=False,\n",
              "                                          fit_intercept=True,\n",
              "                                          intercept_scaling=1, l1_ratio=None,\n",
              "                                          max_iter=100, multi_class='auto',\n",
              "                                          n_jobs=None, penalty='l2',\n",
              "                                          random_state=None, solver='lbfgs',\n",
              "                                          tol=0.0001, verbose=0,\n",
              "                                          warm_start=False),\n",
              "             iid='deprecated', n_jobs=None,\n",
              "             param_grid=[{'C': [0.001, 0.01, 0.1, 1, 10], 'penalty': ['l2'],\n",
              "                          'solver': ['newton-cg', 'lbfgs', 'sag', 'saga',\n",
              "                                     'liblinear']},\n",
              "                         {'C': [0.001, 0.01, 0.1, 1, 10], 'penalty': ['l1'],\n",
              "                          'solver': ['liblinear', 'saga']},\n",
              "                         {'C': [0.001, 0.01, 0.1, 1, 10],\n",
              "                          'penalty': ['elasticnet'], 'solver': ['saga']}],\n",
              "             pre_dispatch='2*n_jobs', refit=True, return_train_score=False,\n",
              "             scoring=None, verbose=0)"
            ]
          },
          "metadata": {
            "tags": []
          },
          "execution_count": 137
        }
      ]
    },
    {
      "cell_type": "code",
      "metadata": {
        "id": "OqeDzu7xpyw_",
        "outputId": "18798943-ae22-4364-e1b3-8cd04ac751e0",
        "colab": {
          "base_uri": "https://localhost:8080/"
        }
      },
      "source": [
        "print(\"Best parameters for logistic regression: \",gs_logistic_regression.best_params_)"
      ],
      "execution_count": null,
      "outputs": [
        {
          "output_type": "stream",
          "text": [
            "Best parameters for logistic regression:  {'C': 0.001, 'penalty': 'l2', 'solver': 'liblinear'}\n"
          ],
          "name": "stdout"
        }
      ]
    },
    {
      "cell_type": "markdown",
      "metadata": {
        "id": "Q6VFreY8qLML"
      },
      "source": [
        "#### Best params model"
      ]
    },
    {
      "cell_type": "code",
      "metadata": {
        "id": "LRQtvV9VqN1F"
      },
      "source": [
        "bestParams_logistic_regression = LogisticRegression(C=gs_logistic_regression.best_params_['C'], penalty=gs_logistic_regression.best_params_['penalty'])"
      ],
      "execution_count": null,
      "outputs": []
    },
    {
      "cell_type": "code",
      "metadata": {
        "id": "L8phe3bsql26",
        "outputId": "e9849a3b-344d-480c-cc90-dc85ad3e2012",
        "colab": {
          "base_uri": "https://localhost:8080/"
        }
      },
      "source": [
        "bestParams_logistic_regression.fit(train_modCloth_X,train_modCloth_Y)"
      ],
      "execution_count": null,
      "outputs": [
        {
          "output_type": "execute_result",
          "data": {
            "text/plain": [
              "LogisticRegression(C=0.001, class_weight=None, dual=False, fit_intercept=True,\n",
              "                   intercept_scaling=1, l1_ratio=None, max_iter=100,\n",
              "                   multi_class='auto', n_jobs=None, penalty='l2',\n",
              "                   random_state=None, solver='lbfgs', tol=0.0001, verbose=0,\n",
              "                   warm_start=False)"
            ]
          },
          "metadata": {
            "tags": []
          },
          "execution_count": 140
        }
      ]
    },
    {
      "cell_type": "code",
      "metadata": {
        "id": "tkBYsmw6s_GW"
      },
      "source": [
        "logistic_regression_predictions_valid_X = bestParams_logistic_regression.predict(valid_modCloth_X)"
      ],
      "execution_count": null,
      "outputs": []
    },
    {
      "cell_type": "markdown",
      "metadata": {
        "id": "Emv_Xdj20ZYV"
      },
      "source": [
        "#### Classification Report"
      ]
    },
    {
      "cell_type": "code",
      "metadata": {
        "id": "HZb_U1JwysZN",
        "outputId": "17727d16-02f0-4821-b757-2069b965da76",
        "colab": {
          "base_uri": "https://localhost:8080/"
        }
      },
      "source": [
        "print(classification_report(valid_modCloth_Y, logistic_regression_predictions_valid_X, digits=5))"
      ],
      "execution_count": null,
      "outputs": [
        {
          "output_type": "stream",
          "text": [
            "              precision    recall  f1-score   support\n",
            "\n",
            "           0    0.40127   0.03217   0.05956      3917\n",
            "           1    0.68169   0.99164   0.80796     16856\n",
            "           2    0.25000   0.00025   0.00049      4065\n",
            "\n",
            "    accuracy                        0.67807     24838\n",
            "   macro avg    0.44432   0.34135   0.28934     24838\n",
            "weighted avg    0.56682   0.67807   0.55778     24838\n",
            "\n"
          ],
          "name": "stdout"
        }
      ]
    },
    {
      "cell_type": "markdown",
      "metadata": {
        "id": "VuoY4FgFVkO-"
      },
      "source": [
        "### **RentTheRunWay**"
      ]
    },
    {
      "cell_type": "markdown",
      "metadata": {
        "id": "mUEyK2UkVkPG"
      },
      "source": [
        "#### GridSearchCV"
      ]
    },
    {
      "cell_type": "markdown",
      "metadata": {
        "id": "0XXZRTwZVkPG"
      },
      "source": [
        "Following parameters can be varied for logistic regression to get the best params:\n",
        "- Penalty : It specifies the norm for penalties. There are 4 types of penalties: l1, l2, elasticnet and none. It also means type of regularization.\n",
        "- Solver: It describes which algorithm has to be used for optimization. Some solvers work with some penalties and not others. [Link](https://scikit-learn.org/stable/modules/generated/sklearn.linear_model.LogisticRegression.html)\n",
        "- C: This describes the regularization strength/ size of penalty."
      ]
    },
    {
      "cell_type": "code",
      "metadata": {
        "id": "IbQa0b9_VkPH"
      },
      "source": [
        "# The default solver for logistive regression is lbfgs. It only works with l2 penalty\n",
        "grid_values_logistic_regression = [{'penalty': ['l2'], 'C': [0.001, 0.01, 0.1, 1, 10], 'solver':['newton-cg', 'lbfgs', 'sag', 'saga', 'liblinear']},\n",
        "                                   {'penalty': ['l1'], 'C': [0.001, 0.01, 0.1, 1, 10], 'solver':['liblinear', 'saga']},\n",
        "                                   {'penalty': ['elasticnet'], 'C': [0.001, 0.01, 0.1, 1, 10], 'solver':['saga']}]"
      ],
      "execution_count": null,
      "outputs": []
    },
    {
      "cell_type": "code",
      "metadata": {
        "id": "huD6pK-DVkPL"
      },
      "source": [
        "model_logistic_regression = LogisticRegression()"
      ],
      "execution_count": null,
      "outputs": []
    },
    {
      "cell_type": "code",
      "metadata": {
        "id": "Zzy38cJjVkPO"
      },
      "source": [
        "gs_logistic_regression = GridSearchCV(model_logistic_regression, grid_values_logistic_regression, cv=5)"
      ],
      "execution_count": null,
      "outputs": []
    },
    {
      "cell_type": "code",
      "metadata": {
        "id": "IrGVNuEIVkPQ",
        "outputId": "5841c6b3-aa99-438f-8fab-7f53a9935963",
        "colab": {
          "base_uri": "https://localhost:8080/"
        }
      },
      "source": [
        "gs_logistic_regression.fit(train_rentTheRunWay_X, train_rentTheRunWay_Y)"
      ],
      "execution_count": null,
      "outputs": [
        {
          "output_type": "execute_result",
          "data": {
            "text/plain": [
              "GridSearchCV(cv=5, error_score=nan,\n",
              "             estimator=LogisticRegression(C=1.0, class_weight=None, dual=False,\n",
              "                                          fit_intercept=True,\n",
              "                                          intercept_scaling=1, l1_ratio=None,\n",
              "                                          max_iter=100, multi_class='auto',\n",
              "                                          n_jobs=None, penalty='l2',\n",
              "                                          random_state=None, solver='lbfgs',\n",
              "                                          tol=0.0001, verbose=0,\n",
              "                                          warm_start=False),\n",
              "             iid='deprecated', n_jobs=None,\n",
              "             param_grid=[{'C': [0.001, 0.01, 0.1, 1, 10], 'penalty': ['l2'],\n",
              "                          'solver': ['newton-cg', 'lbfgs', 'sag', 'saga',\n",
              "                                     'liblinear']},\n",
              "                         {'C': [0.001, 0.01, 0.1, 1, 10], 'penalty': ['l1'],\n",
              "                          'solver': ['liblinear', 'saga']},\n",
              "                         {'C': [0.001, 0.01, 0.1, 1, 10],\n",
              "                          'penalty': ['elasticnet'], 'solver': ['saga']}],\n",
              "             pre_dispatch='2*n_jobs', refit=True, return_train_score=False,\n",
              "             scoring=None, verbose=0)"
            ]
          },
          "metadata": {
            "tags": []
          },
          "execution_count": 146
        }
      ]
    },
    {
      "cell_type": "code",
      "metadata": {
        "id": "Z65zWQdoVkPU",
        "outputId": "431c5dfb-833b-465b-d429-695e6cb7d7ad",
        "colab": {
          "base_uri": "https://localhost:8080/"
        }
      },
      "source": [
        "print(\"Best parameters for logistic regression: \",gs_logistic_regression.best_params_)"
      ],
      "execution_count": null,
      "outputs": [
        {
          "output_type": "stream",
          "text": [
            "Best parameters for logistic regression:  {'C': 0.001, 'penalty': 'l2', 'solver': 'liblinear'}\n"
          ],
          "name": "stdout"
        }
      ]
    },
    {
      "cell_type": "markdown",
      "metadata": {
        "id": "utCQp9QKVkPX"
      },
      "source": [
        "#### Best params model"
      ]
    },
    {
      "cell_type": "code",
      "metadata": {
        "id": "-pTZ3-GMVkPY"
      },
      "source": [
        "bestParams_logistic_regression = LogisticRegression(C=gs_logistic_regression.best_params_['C'], penalty=gs_logistic_regression.best_params_['penalty'])"
      ],
      "execution_count": null,
      "outputs": []
    },
    {
      "cell_type": "code",
      "metadata": {
        "id": "8MnXKowyVkPa",
        "outputId": "457022f1-1d19-4b06-e7cc-2a9f07181452",
        "colab": {
          "base_uri": "https://localhost:8080/"
        }
      },
      "source": [
        "bestParams_logistic_regression.fit(train_rentTheRunWay_X, train_rentTheRunWay_Y)"
      ],
      "execution_count": null,
      "outputs": [
        {
          "output_type": "execute_result",
          "data": {
            "text/plain": [
              "LogisticRegression(C=0.001, class_weight=None, dual=False, fit_intercept=True,\n",
              "                   intercept_scaling=1, l1_ratio=None, max_iter=100,\n",
              "                   multi_class='auto', n_jobs=None, penalty='l2',\n",
              "                   random_state=None, solver='lbfgs', tol=0.0001, verbose=0,\n",
              "                   warm_start=False)"
            ]
          },
          "metadata": {
            "tags": []
          },
          "execution_count": 149
        }
      ]
    },
    {
      "cell_type": "code",
      "metadata": {
        "id": "EqNVEUy3VkPc"
      },
      "source": [
        "logistic_regression_predictions_valid_X = bestParams_logistic_regression.predict(valid_rentTheRunWay_X)"
      ],
      "execution_count": null,
      "outputs": []
    },
    {
      "cell_type": "markdown",
      "metadata": {
        "id": "gFeZNfshVkPe"
      },
      "source": [
        "#### Classification Report"
      ]
    },
    {
      "cell_type": "code",
      "metadata": {
        "id": "NkhFrPeUVkPe",
        "outputId": "70882b6b-1dc1-428b-ed4c-2212eedca195",
        "colab": {
          "base_uri": "https://localhost:8080/"
        }
      },
      "source": [
        "print(classification_report(valid_rentTheRunWay_Y, logistic_regression_predictions_valid_X, digits=5))"
      ],
      "execution_count": null,
      "outputs": [
        {
          "output_type": "stream",
          "text": [
            "              precision    recall  f1-score   support\n",
            "\n",
            "           0    0.39225   0.04437   0.07971      7303\n",
            "           1    0.74992   0.98910   0.85307     40287\n",
            "           2    0.34639   0.01715   0.03269      6704\n",
            "\n",
            "    accuracy                        0.74202     54294\n",
            "   macro avg    0.49619   0.35021   0.32182     54294\n",
            "weighted avg    0.65199   0.74202   0.64775     54294\n",
            "\n"
          ],
          "name": "stdout"
        }
      ]
    },
    {
      "cell_type": "markdown",
      "metadata": {
        "id": "irDBfRVMeOA4"
      },
      "source": [
        "## **Decision Tree**"
      ]
    },
    {
      "cell_type": "markdown",
      "metadata": {
        "id": "XMztkCPXRYsN"
      },
      "source": [
        "### **ModCloth**"
      ]
    },
    {
      "cell_type": "markdown",
      "metadata": {
        "id": "3dwxHuwheQ1m"
      },
      "source": [
        "#### GridSearchCV"
      ]
    },
    {
      "cell_type": "markdown",
      "metadata": {
        "id": "2U70ClKY2c2j"
      },
      "source": [
        "Following parameters have to be considered to find the best parameters for decision tree classifier:\n",
        "- Criterion: It describes the quality of split. It has two poissible values: gini (gini impurity) and entropy (information gain)\n",
        "- Splitter: To choose the split strategy at each node. It has two possible values: best and random.\n",
        "- max_depth: It describes the max depth of the tree.\n",
        "- min_samples_split: It describes the minimum samples required to split a node."
      ]
    },
    {
      "cell_type": "code",
      "metadata": {
        "id": "xH9uh7c3hqhM"
      },
      "source": [
        "grid_values_dt = {'criterion':['gini', 'entropy'], 'splitter': ['best', 'random'], 'max_depth': range(1,20,2), 'min_samples_split' : range(50,300,5)}"
      ],
      "execution_count": null,
      "outputs": []
    },
    {
      "cell_type": "code",
      "metadata": {
        "id": "oojosAP9jO_Y"
      },
      "source": [
        "dt=DecisionTreeClassifier()"
      ],
      "execution_count": null,
      "outputs": []
    },
    {
      "cell_type": "code",
      "metadata": {
        "id": "vQQQskVljRC9"
      },
      "source": [
        "gs_dt = GridSearchCV(dt, grid_values_dt, cv=5)"
      ],
      "execution_count": null,
      "outputs": []
    },
    {
      "cell_type": "code",
      "metadata": {
        "id": "iDtcLW2BjdIm",
        "outputId": "477a224d-d848-4d6b-fc77-6d7ff8394226",
        "colab": {
          "base_uri": "https://localhost:8080/"
        }
      },
      "source": [
        "gs_dt.fit(train_modCloth_X, train_modCloth_Y)"
      ],
      "execution_count": null,
      "outputs": [
        {
          "output_type": "execute_result",
          "data": {
            "text/plain": [
              "GridSearchCV(cv=5, error_score=nan,\n",
              "             estimator=DecisionTreeClassifier(ccp_alpha=0.0, class_weight=None,\n",
              "                                              criterion='gini', max_depth=None,\n",
              "                                              max_features=None,\n",
              "                                              max_leaf_nodes=None,\n",
              "                                              min_impurity_decrease=0.0,\n",
              "                                              min_impurity_split=None,\n",
              "                                              min_samples_leaf=1,\n",
              "                                              min_samples_split=2,\n",
              "                                              min_weight_fraction_leaf=0.0,\n",
              "                                              presort='deprecated',\n",
              "                                              random_state=None,\n",
              "                                              splitter='best'),\n",
              "             iid='deprecated', n_jobs=None,\n",
              "             param_grid={'criterion': ['gini', 'entropy'],\n",
              "                         'max_depth': range(1, 20, 2),\n",
              "                         'min_samples_split': range(50, 300, 5),\n",
              "                         'splitter': ['best', 'random']},\n",
              "             pre_dispatch='2*n_jobs', refit=True, return_train_score=False,\n",
              "             scoring=None, verbose=0)"
            ]
          },
          "metadata": {
            "tags": []
          },
          "execution_count": 158
        }
      ]
    },
    {
      "cell_type": "code",
      "metadata": {
        "id": "RptvhHCMjicq",
        "outputId": "9a7752a8-4dc6-46f1-8e3d-d9730ba6e80d",
        "colab": {
          "base_uri": "https://localhost:8080/"
        }
      },
      "source": [
        "print(\"Best parameters for decision tree: \",gs_dt.best_params_)"
      ],
      "execution_count": null,
      "outputs": [
        {
          "output_type": "stream",
          "text": [
            "Best parameters for decision tree:  {'criterion': 'gini', 'max_depth': 5, 'min_samples_split': 50, 'splitter': 'best'}\n"
          ],
          "name": "stdout"
        }
      ]
    },
    {
      "cell_type": "markdown",
      "metadata": {
        "id": "5ZjOOvW1eStD"
      },
      "source": [
        "#### Best Params Model"
      ]
    },
    {
      "cell_type": "code",
      "metadata": {
        "id": "4Xf3MkQpjkp3"
      },
      "source": [
        "bestParams_dt = DecisionTreeClassifier(criterion=gs_dt.best_params_['criterion'], max_depth=gs_dt.best_params_['max_depth'], min_samples_split=gs_dt.best_params_['min_samples_split'])"
      ],
      "execution_count": null,
      "outputs": []
    },
    {
      "cell_type": "code",
      "metadata": {
        "id": "eVIgxkVNj87c",
        "outputId": "be1a7320-c349-40ca-854b-dc87c0cb7d3a",
        "colab": {
          "base_uri": "https://localhost:8080/"
        }
      },
      "source": [
        "bestParams_dt.fit(train_modCloth_X,train_modCloth_Y)"
      ],
      "execution_count": null,
      "outputs": [
        {
          "output_type": "execute_result",
          "data": {
            "text/plain": [
              "DecisionTreeClassifier(ccp_alpha=0.0, class_weight=None, criterion='gini',\n",
              "                       max_depth=5, max_features=None, max_leaf_nodes=None,\n",
              "                       min_impurity_decrease=0.0, min_impurity_split=None,\n",
              "                       min_samples_leaf=1, min_samples_split=50,\n",
              "                       min_weight_fraction_leaf=0.0, presort='deprecated',\n",
              "                       random_state=None, splitter='best')"
            ]
          },
          "metadata": {
            "tags": []
          },
          "execution_count": 161
        }
      ]
    },
    {
      "cell_type": "code",
      "metadata": {
        "id": "ImuqaqHMkAZo"
      },
      "source": [
        "dt_predictions_valid_X = bestParams_dt.predict(valid_modCloth_X)"
      ],
      "execution_count": null,
      "outputs": []
    },
    {
      "cell_type": "markdown",
      "metadata": {
        "id": "EC1rp1WqeVIo"
      },
      "source": [
        "#### Classification report"
      ]
    },
    {
      "cell_type": "code",
      "metadata": {
        "id": "CcIZYsYtkEmg",
        "outputId": "dc3bf2ea-00dd-4746-adb8-522ae7c87a47",
        "colab": {
          "base_uri": "https://localhost:8080/"
        }
      },
      "source": [
        "print(classification_report(valid_modCloth_Y, dt_predictions_valid_X, digits=5))"
      ],
      "execution_count": null,
      "outputs": [
        {
          "output_type": "stream",
          "text": [
            "              precision    recall  f1-score   support\n",
            "\n",
            "           0    0.41459   0.06382   0.11062      3917\n",
            "           1    0.68537   0.98541   0.80845     16856\n",
            "           2    0.00000   0.00000   0.00000      4065\n",
            "\n",
            "    accuracy                        0.67880     24838\n",
            "   macro avg    0.36666   0.34974   0.30636     24838\n",
            "weighted avg    0.53050   0.67880   0.56609     24838\n",
            "\n"
          ],
          "name": "stdout"
        }
      ]
    },
    {
      "cell_type": "markdown",
      "metadata": {
        "id": "ZKZg16UcWTYX"
      },
      "source": [
        "### **RentTheRunWay**"
      ]
    },
    {
      "cell_type": "markdown",
      "metadata": {
        "id": "72ToMhHpWTYd"
      },
      "source": [
        "#### GridSearchCV"
      ]
    },
    {
      "cell_type": "markdown",
      "metadata": {
        "id": "WkteEzlTWTYd"
      },
      "source": [
        "Following parameters have to be considered to find the best parameters for decision tree classifier:\n",
        "- Criterion: It describes the quality of split. It has two poissible values: gini (gini impurity) and entropy (information gain)\n",
        "- Splitter: To choose the split strategy at each node. It has two possible values: best and random.\n",
        "- max_depth: It describes the max depth of the tree.\n",
        "- min_samples_split: It describes the minimum samples required to split a node."
      ]
    },
    {
      "cell_type": "code",
      "metadata": {
        "id": "2KOiqYjlWTYf"
      },
      "source": [
        "grid_values_dt = {'criterion':['gini', 'entropy'], 'splitter': ['best', 'random'], 'max_depth': range(1,20,2), 'min_samples_split' : range(50,300,5)}"
      ],
      "execution_count": null,
      "outputs": []
    },
    {
      "cell_type": "code",
      "metadata": {
        "id": "eSxKTVuJWTYj"
      },
      "source": [
        "dt=DecisionTreeClassifier()"
      ],
      "execution_count": null,
      "outputs": []
    },
    {
      "cell_type": "code",
      "metadata": {
        "id": "LPIOAACnWTYl"
      },
      "source": [
        "gs_dt = GridSearchCV(dt, grid_values_dt, cv=5)"
      ],
      "execution_count": null,
      "outputs": []
    },
    {
      "cell_type": "code",
      "metadata": {
        "id": "EzalWoVtWTYo",
        "outputId": "0e12c810-6c74-4c9e-e660-616d7053f3d8",
        "colab": {
          "base_uri": "https://localhost:8080/"
        }
      },
      "source": [
        "gs_dt.fit(train_rentTheRunWay_X, train_rentTheRunWay_Y)"
      ],
      "execution_count": null,
      "outputs": [
        {
          "output_type": "execute_result",
          "data": {
            "text/plain": [
              "GridSearchCV(cv=5, error_score=nan,\n",
              "             estimator=DecisionTreeClassifier(ccp_alpha=0.0, class_weight=None,\n",
              "                                              criterion='gini', max_depth=None,\n",
              "                                              max_features=None,\n",
              "                                              max_leaf_nodes=None,\n",
              "                                              min_impurity_decrease=0.0,\n",
              "                                              min_impurity_split=None,\n",
              "                                              min_samples_leaf=1,\n",
              "                                              min_samples_split=2,\n",
              "                                              min_weight_fraction_leaf=0.0,\n",
              "                                              presort='deprecated',\n",
              "                                              random_state=None,\n",
              "                                              splitter='best'),\n",
              "             iid='deprecated', n_jobs=None,\n",
              "             param_grid={'criterion': ['gini', 'entropy'],\n",
              "                         'max_depth': range(1, 20, 2),\n",
              "                         'min_samples_split': range(50, 300, 5),\n",
              "                         'splitter': ['best', 'random']},\n",
              "             pre_dispatch='2*n_jobs', refit=True, return_train_score=False,\n",
              "             scoring=None, verbose=0)"
            ]
          },
          "metadata": {
            "tags": []
          },
          "execution_count": 167
        }
      ]
    },
    {
      "cell_type": "code",
      "metadata": {
        "id": "Y7Sg2QopWTYq",
        "outputId": "e93f3071-8f33-4bce-80fd-8f04564f9f53",
        "colab": {
          "base_uri": "https://localhost:8080/"
        }
      },
      "source": [
        "print(\"Best parameters for decision tree: \",gs_dt.best_params_)"
      ],
      "execution_count": null,
      "outputs": [
        {
          "output_type": "stream",
          "text": [
            "Best parameters for decision tree:  {'criterion': 'gini', 'max_depth': 5, 'min_samples_split': 50, 'splitter': 'best'}\n"
          ],
          "name": "stdout"
        }
      ]
    },
    {
      "cell_type": "markdown",
      "metadata": {
        "id": "R7tcpqqmWTYt"
      },
      "source": [
        "#### Best Params Model"
      ]
    },
    {
      "cell_type": "code",
      "metadata": {
        "id": "84ofZhtyWTYt"
      },
      "source": [
        "bestParams_dt = DecisionTreeClassifier(criterion=gs_dt.best_params_['criterion'], max_depth=gs_dt.best_params_['max_depth'], min_samples_split=gs_dt.best_params_['min_samples_split'])"
      ],
      "execution_count": null,
      "outputs": []
    },
    {
      "cell_type": "code",
      "metadata": {
        "id": "PByYEkieWTYv",
        "outputId": "e6f27046-d983-4da2-8233-ef72989d03c9",
        "colab": {
          "base_uri": "https://localhost:8080/"
        }
      },
      "source": [
        "bestParams_dt.fit(train_rentTheRunWay_X, train_rentTheRunWay_Y)"
      ],
      "execution_count": null,
      "outputs": [
        {
          "output_type": "execute_result",
          "data": {
            "text/plain": [
              "DecisionTreeClassifier(ccp_alpha=0.0, class_weight=None, criterion='gini',\n",
              "                       max_depth=5, max_features=None, max_leaf_nodes=None,\n",
              "                       min_impurity_decrease=0.0, min_impurity_split=None,\n",
              "                       min_samples_leaf=1, min_samples_split=50,\n",
              "                       min_weight_fraction_leaf=0.0, presort='deprecated',\n",
              "                       random_state=None, splitter='best')"
            ]
          },
          "metadata": {
            "tags": []
          },
          "execution_count": 170
        }
      ]
    },
    {
      "cell_type": "code",
      "metadata": {
        "id": "gLgiCXyTWTYz"
      },
      "source": [
        "dt_predictions_valid_X = bestParams_dt.predict(valid_rentTheRunWay_X)"
      ],
      "execution_count": null,
      "outputs": []
    },
    {
      "cell_type": "markdown",
      "metadata": {
        "id": "YbkkRSe0WTY1"
      },
      "source": [
        "#### Classification report"
      ]
    },
    {
      "cell_type": "code",
      "metadata": {
        "id": "6V3wXp1iWTY1",
        "outputId": "4461ae8a-72f6-4e01-ce96-294ca2d476de",
        "colab": {
          "base_uri": "https://localhost:8080/"
        }
      },
      "source": [
        "print(classification_report(valid_rentTheRunWay_Y, dt_predictions_valid_X, digits=5))"
      ],
      "execution_count": null,
      "outputs": [
        {
          "output_type": "stream",
          "text": [
            "              precision    recall  f1-score   support\n",
            "\n",
            "           0    0.41345   0.04546   0.08191      7303\n",
            "           1    0.75065   0.98997   0.85386     40287\n",
            "           2    0.51389   0.02760   0.05238      6704\n",
            "\n",
            "    accuracy                        0.74410     54294\n",
            "   macro avg    0.55933   0.35434   0.32938     54294\n",
            "weighted avg    0.67606   0.74410   0.65106     54294\n",
            "\n"
          ],
          "name": "stdout"
        }
      ]
    },
    {
      "cell_type": "markdown",
      "metadata": {
        "id": "kM2gFun3XhzM"
      },
      "source": [
        "## **LinearSVC**"
      ]
    },
    {
      "cell_type": "markdown",
      "metadata": {
        "id": "8V1s9w_ZRic5"
      },
      "source": [
        "### **ModCloth**"
      ]
    },
    {
      "cell_type": "markdown",
      "metadata": {
        "id": "BJNjBFh6Xj0O"
      },
      "source": [
        "#### GridSearchCV"
      ]
    },
    {
      "cell_type": "markdown",
      "metadata": {
        "id": "6clNif654UOJ"
      },
      "source": [
        "Following params can be used to find the best params for SVC:\n",
        "- C: This is the regularization strength.\n",
        "- kernel: It describes the kernel type to be used for the algo. It has 5 possible values: linear, poly, rbf, sigmoid, precomputed.\n",
        "- gamma - It is the kernel coefficient for three types of kernels (rbf, poly and sigmoid)."
      ]
    },
    {
      "cell_type": "code",
      "metadata": {
        "id": "Ka0m_7tlXnlG"
      },
      "source": [
        "grid_values_linearSVC = [{'C': [0.01, 0.1, 1, 10]}]"
      ],
      "execution_count": null,
      "outputs": []
    },
    {
      "cell_type": "code",
      "metadata": {
        "id": "K4_6hMPpX_sp"
      },
      "source": [
        "model_linearSVC = LinearSVC()"
      ],
      "execution_count": null,
      "outputs": []
    },
    {
      "cell_type": "code",
      "metadata": {
        "id": "AVA08R5wYB6R"
      },
      "source": [
        "gs_linearSVC = GridSearchCV(model_linearSVC, grid_values_linearSVC, cv=5)"
      ],
      "execution_count": null,
      "outputs": []
    },
    {
      "cell_type": "code",
      "metadata": {
        "id": "0U_bRkHkYG1e",
        "outputId": "e7ead0e9-20f4-46dc-f283-959cdbb5020c",
        "colab": {
          "base_uri": "https://localhost:8080/"
        }
      },
      "source": [
        "gs_linearSVC.fit(train_modCloth_X, train_modCloth_Y)"
      ],
      "execution_count": null,
      "outputs": [
        {
          "output_type": "execute_result",
          "data": {
            "text/plain": [
              "GridSearchCV(cv=5, error_score=nan,\n",
              "             estimator=LinearSVC(C=1.0, class_weight=None, dual=True,\n",
              "                                 fit_intercept=True, intercept_scaling=1,\n",
              "                                 loss='squared_hinge', max_iter=1000,\n",
              "                                 multi_class='ovr', penalty='l2',\n",
              "                                 random_state=None, tol=0.0001, verbose=0),\n",
              "             iid='deprecated', n_jobs=None,\n",
              "             param_grid=[{'C': [0.01, 0.1, 1, 10]}], pre_dispatch='2*n_jobs',\n",
              "             refit=True, return_train_score=False, scoring=None, verbose=0)"
            ]
          },
          "metadata": {
            "tags": []
          },
          "execution_count": 73
        }
      ]
    },
    {
      "cell_type": "code",
      "metadata": {
        "id": "Rof2lJ85YMSR",
        "outputId": "a92ccf4d-38b6-4ef2-85a5-d3edca1d3576",
        "colab": {
          "base_uri": "https://localhost:8080/"
        }
      },
      "source": [
        "print(\"Best parameters for linear svc: \",gs_linearSVC.best_params_)"
      ],
      "execution_count": null,
      "outputs": [
        {
          "output_type": "stream",
          "text": [
            "Best parameters for linear svc:  {'C': 0.01}\n"
          ],
          "name": "stdout"
        }
      ]
    },
    {
      "cell_type": "markdown",
      "metadata": {
        "id": "yf7_ocBDYPZQ"
      },
      "source": [
        "#### Best Params model"
      ]
    },
    {
      "cell_type": "code",
      "metadata": {
        "id": "BMQKbODrYT--"
      },
      "source": [
        "bestParams_linearSVC = LinearSVC(C=gs_linearSVC.best_params_['C'])"
      ],
      "execution_count": null,
      "outputs": []
    },
    {
      "cell_type": "code",
      "metadata": {
        "id": "Ids3qBqfZME4",
        "outputId": "fb10a185-2569-45b5-a066-f6ffe8c4a8b6",
        "colab": {
          "base_uri": "https://localhost:8080/"
        }
      },
      "source": [
        "bestParams_linearSVC.fit(train_modCloth_X, train_modCloth_Y)"
      ],
      "execution_count": null,
      "outputs": [
        {
          "output_type": "execute_result",
          "data": {
            "text/plain": [
              "LinearSVC(C=0.01, class_weight=None, dual=True, fit_intercept=True,\n",
              "          intercept_scaling=1, loss='squared_hinge', max_iter=1000,\n",
              "          multi_class='ovr', penalty='l2', random_state=None, tol=0.0001,\n",
              "          verbose=0)"
            ]
          },
          "metadata": {
            "tags": []
          },
          "execution_count": 76
        }
      ]
    },
    {
      "cell_type": "code",
      "metadata": {
        "id": "-uOjO56UZOaV"
      },
      "source": [
        "svc_predictions_valid_X = bestParams_linearSVC.predict(valid_modCloth_X)"
      ],
      "execution_count": null,
      "outputs": []
    },
    {
      "cell_type": "markdown",
      "metadata": {
        "id": "vbUkhNmxZTRQ"
      },
      "source": [
        "#### Classification report"
      ]
    },
    {
      "cell_type": "code",
      "metadata": {
        "id": "i0aTKqO6ZV3R",
        "outputId": "d6d2a515-2f3a-4378-cdaf-796006181a55",
        "colab": {
          "base_uri": "https://localhost:8080/"
        }
      },
      "source": [
        "print(classification_report(valid_modCloth_Y, svc_predictions_valid_X, digits=5))"
      ],
      "execution_count": null,
      "outputs": [
        {
          "output_type": "stream",
          "text": [
            "              precision    recall  f1-score   support\n",
            "\n",
            "           0    0.30000   0.00154   0.00306      3896\n",
            "           1    0.68578   0.99924   0.81335     17032\n",
            "           2    0.00000   0.00000   0.00000      3910\n",
            "\n",
            "    accuracy                        0.68544     24838\n",
            "   macro avg    0.32859   0.33359   0.27214     24838\n",
            "weighted avg    0.51731   0.68544   0.55822     24838\n",
            "\n"
          ],
          "name": "stdout"
        }
      ]
    },
    {
      "cell_type": "markdown",
      "metadata": {
        "id": "R7O_SMkcWszZ"
      },
      "source": [
        "### **RentTheRunWay**"
      ]
    },
    {
      "cell_type": "markdown",
      "metadata": {
        "id": "29bf-WeyWszf"
      },
      "source": [
        "#### GridSearchCV"
      ]
    },
    {
      "cell_type": "markdown",
      "metadata": {
        "id": "KUf0RDSkWszf"
      },
      "source": [
        "Following params can be used to find the best params for SVC:\n",
        "- C: This is the regularization strength.\n",
        "- kernel: It describes the kernel type to be used for the algo. It has 5 possible values: linear, poly, rbf, sigmoid, precomputed.\n",
        "- gamma - It is the kernel coefficient for three types of kernels (rbf, poly and sigmoid)."
      ]
    },
    {
      "cell_type": "code",
      "metadata": {
        "id": "mpN4EsDIWszg"
      },
      "source": [
        "grid_values_linearSVC = [{'C': [0.01, 0.1, 1, 10]}]"
      ],
      "execution_count": null,
      "outputs": []
    },
    {
      "cell_type": "code",
      "metadata": {
        "id": "TiGZTe4bWszk"
      },
      "source": [
        "model_linearSVC = LinearSVC()"
      ],
      "execution_count": null,
      "outputs": []
    },
    {
      "cell_type": "code",
      "metadata": {
        "id": "_HnzTnI_Wszm"
      },
      "source": [
        "gs_linearSVC = GridSearchCV(model_linearSVC, grid_values_linearSVC, cv=5)"
      ],
      "execution_count": null,
      "outputs": []
    },
    {
      "cell_type": "code",
      "metadata": {
        "id": "T_V3JLvMWszo",
        "outputId": "e7f441f1-0e71-459f-9257-177618879307",
        "colab": {
          "base_uri": "https://localhost:8080/"
        }
      },
      "source": [
        "gs_linearSVC.fit(train_rentTheRunWay_X, train_rentTheRunWay_Y)"
      ],
      "execution_count": null,
      "outputs": [
        {
          "output_type": "execute_result",
          "data": {
            "text/plain": [
              "GridSearchCV(cv=5, error_score=nan,\n",
              "             estimator=LinearSVC(C=1.0, class_weight=None, dual=True,\n",
              "                                 fit_intercept=True, intercept_scaling=1,\n",
              "                                 loss='squared_hinge', max_iter=1000,\n",
              "                                 multi_class='ovr', penalty='l2',\n",
              "                                 random_state=None, tol=0.0001, verbose=0),\n",
              "             iid='deprecated', n_jobs=None,\n",
              "             param_grid=[{'C': [0.01, 0.1, 1, 10]}], pre_dispatch='2*n_jobs',\n",
              "             refit=True, return_train_score=False, scoring=None, verbose=0)"
            ]
          },
          "metadata": {
            "tags": []
          },
          "execution_count": 82
        }
      ]
    },
    {
      "cell_type": "code",
      "metadata": {
        "id": "VuuBEfogWszr",
        "outputId": "48e72ccf-9b21-45e9-c464-ae5f064fa0e0",
        "colab": {
          "base_uri": "https://localhost:8080/"
        }
      },
      "source": [
        "print(\"Best parameters for linear svc: \",gs_linearSVC.best_params_)"
      ],
      "execution_count": null,
      "outputs": [
        {
          "output_type": "stream",
          "text": [
            "Best parameters for linear svc:  {'C': 0.01}\n"
          ],
          "name": "stdout"
        }
      ]
    },
    {
      "cell_type": "markdown",
      "metadata": {
        "id": "eRdh6n9jWszt"
      },
      "source": [
        "#### Best Params model"
      ]
    },
    {
      "cell_type": "code",
      "metadata": {
        "id": "LraD6TD_Wszt"
      },
      "source": [
        "bestParams_linearSVC = LinearSVC(C=gs_linearSVC.best_params_['C'])"
      ],
      "execution_count": null,
      "outputs": []
    },
    {
      "cell_type": "code",
      "metadata": {
        "id": "7bUpdsVTWszx",
        "outputId": "99683223-15a0-4026-b03c-8443118285dd",
        "colab": {
          "base_uri": "https://localhost:8080/"
        }
      },
      "source": [
        "bestParams_linearSVC.fit(train_rentTheRunWay_X, train_rentTheRunWay_Y)"
      ],
      "execution_count": null,
      "outputs": [
        {
          "output_type": "execute_result",
          "data": {
            "text/plain": [
              "LinearSVC(C=0.01, class_weight=None, dual=True, fit_intercept=True,\n",
              "          intercept_scaling=1, loss='squared_hinge', max_iter=1000,\n",
              "          multi_class='ovr', penalty='l2', random_state=None, tol=0.0001,\n",
              "          verbose=0)"
            ]
          },
          "metadata": {
            "tags": []
          },
          "execution_count": 85
        }
      ]
    },
    {
      "cell_type": "code",
      "metadata": {
        "id": "gYVVwtZgWszz"
      },
      "source": [
        "svc_predictions_valid_X = bestParams_linearSVC.predict(valid_rentTheRunWay_X)"
      ],
      "execution_count": null,
      "outputs": []
    },
    {
      "cell_type": "markdown",
      "metadata": {
        "id": "WyIdIkVYWsz1"
      },
      "source": [
        "#### Classification report"
      ]
    },
    {
      "cell_type": "code",
      "metadata": {
        "id": "Ie-QOJPSWsz2",
        "outputId": "56cdf95d-bc0d-4140-b655-c0cfd351b524",
        "colab": {
          "base_uri": "https://localhost:8080/"
        }
      },
      "source": [
        "print(classification_report(valid_rentTheRunWay_Y, svc_predictions_valid_X, digits=5))"
      ],
      "execution_count": null,
      "outputs": [
        {
          "output_type": "stream",
          "text": [
            "              precision    recall  f1-score   support\n",
            "\n",
            "           0    0.29412   0.00134   0.00267      7447\n",
            "           1    0.80492   0.69372   0.74520     40029\n",
            "           2    0.17843   0.51716   0.26532      6818\n",
            "\n",
            "    accuracy                        0.57658     54294\n",
            "   macro avg    0.42582   0.40408   0.33773     54294\n",
            "weighted avg    0.65619   0.57658   0.58309     54294\n",
            "\n"
          ],
          "name": "stdout"
        }
      ]
    },
    {
      "cell_type": "markdown",
      "metadata": {
        "id": "ikEkuIpP_ziX"
      },
      "source": [
        "## **RandomForest Classifier**"
      ]
    },
    {
      "cell_type": "markdown",
      "metadata": {
        "id": "uWAxoQRnRo2m"
      },
      "source": [
        "### **ModCloth**"
      ]
    },
    {
      "cell_type": "markdown",
      "metadata": {
        "id": "efs2Ydx-_9iW"
      },
      "source": [
        "#### GridSearchCV"
      ]
    },
    {
      "cell_type": "markdown",
      "metadata": {
        "id": "DNSufqtg8U64"
      },
      "source": [
        "Following parameters can be varied to find best paramets for random forest classifier:\n",
        "- n_estimators: Number of trees in the forest.\n",
        "- Criterion: It describes the quality of split. It has two poissible values: gini (gini impurity) and entropy (information gain)\n",
        "- max_depth: It describes the max depth of the tree.\n",
        "- min_samples_split: It describes the minimum samples required to split a node.\n",
        "- min_samples_leaf: Minimum number of samples required to be at leaf node.\n",
        "- max_features: Number of features to consider when finding best split. Possible values: auto, sqrt, log2, or any int or float"
      ]
    },
    {
      "cell_type": "code",
      "metadata": {
        "id": "N7FatGqmA4zS"
      },
      "source": [
        "grid_values_rfc = {'criterion':['gini', 'entropy'], \n",
        "                   'max_depth': [3, 5, 7],\n",
        "                   'max_features': ['auto', 'sqrt', 'log2'],\n",
        "                   'min_samples_leaf': [3, 5, 7],\n",
        "                   'min_samples_split': [5, 10],\n",
        "                   'n_estimators': [100, 200, 500]}"
      ],
      "execution_count": null,
      "outputs": []
    },
    {
      "cell_type": "code",
      "metadata": {
        "id": "02VHE7YrH75-"
      },
      "source": [
        "rfc=RandomForestClassifier()"
      ],
      "execution_count": null,
      "outputs": []
    },
    {
      "cell_type": "code",
      "metadata": {
        "id": "EQH7E6i-H_6C"
      },
      "source": [
        "gs_rfc = GridSearchCV(rfc, grid_values_rfc, cv=5)"
      ],
      "execution_count": null,
      "outputs": []
    },
    {
      "cell_type": "code",
      "metadata": {
        "id": "ZUV0mZ5CIEqd",
        "outputId": "7741701e-29ae-4209-91e4-f357a5304c58",
        "colab": {
          "base_uri": "https://localhost:8080/"
        }
      },
      "source": [
        "gs_rfc.fit(train_modCloth_X, train_modCloth_Y)"
      ],
      "execution_count": null,
      "outputs": [
        {
          "output_type": "execute_result",
          "data": {
            "text/plain": [
              "GridSearchCV(cv=5, error_score=nan,\n",
              "             estimator=RandomForestClassifier(bootstrap=True, ccp_alpha=0.0,\n",
              "                                              class_weight=None,\n",
              "                                              criterion='gini', max_depth=None,\n",
              "                                              max_features='auto',\n",
              "                                              max_leaf_nodes=None,\n",
              "                                              max_samples=None,\n",
              "                                              min_impurity_decrease=0.0,\n",
              "                                              min_impurity_split=None,\n",
              "                                              min_samples_leaf=1,\n",
              "                                              min_samples_split=2,\n",
              "                                              min_weight_fraction_leaf=0.0,\n",
              "                                              n_estimators=100, n_jobs=None,\n",
              "                                              oob_score=False,\n",
              "                                              random_state=None, verbose=0,\n",
              "                                              warm_start=False),\n",
              "             iid='deprecated', n_jobs=None,\n",
              "             param_grid={'criterion': ['gini', 'entropy'],\n",
              "                         'max_depth': [3, 5, 7],\n",
              "                         'max_features': ['auto', 'sqrt', 'log2'],\n",
              "                         'min_samples_leaf': [3, 5, 7],\n",
              "                         'min_samples_split': [5, 10],\n",
              "                         'n_estimators': [100, 200, 500]},\n",
              "             pre_dispatch='2*n_jobs', refit=True, return_train_score=False,\n",
              "             scoring=None, verbose=0)"
            ]
          },
          "metadata": {
            "tags": []
          },
          "execution_count": 76
        }
      ]
    },
    {
      "cell_type": "code",
      "metadata": {
        "id": "P3XYU_PzIHZq",
        "outputId": "2c055b05-b8af-4a8d-fdb5-e7aef32396f0",
        "colab": {
          "base_uri": "https://localhost:8080/"
        }
      },
      "source": [
        "print(\"Best parameters for rfc: \",gs_rfc.best_params_)"
      ],
      "execution_count": null,
      "outputs": [
        {
          "output_type": "stream",
          "text": [
            "Best parameters for rfc:  {'criterion': 'gini', 'max_depth': 7, 'max_features': 'auto', 'min_samples_leaf': 7, 'min_samples_split': 5, 'n_estimators': 100}\n"
          ],
          "name": "stdout"
        }
      ]
    },
    {
      "cell_type": "markdown",
      "metadata": {
        "id": "7Z5H_6Sb__XB"
      },
      "source": [
        "#### Best Params Model"
      ]
    },
    {
      "cell_type": "code",
      "metadata": {
        "id": "LLDsl5L0IJhw"
      },
      "source": [
        "bestParams_rfc = RandomForestClassifier(criterion=gs_rfc.best_params_['criterion'],\n",
        "                                        max_depth=gs_rfc.best_params_['max_depth'],\n",
        "                                        min_samples_split=gs_rfc.best_params_['min_samples_split'],\n",
        "                                        max_features=gs_rfc.best_params_['max_features'],\n",
        "                                        min_samples_leaf=gs_rfc.best_params_['min_samples_leaf'],\n",
        "                                        n_estimators=gs_rfc.best_params_['n_estimators'])"
      ],
      "execution_count": null,
      "outputs": []
    },
    {
      "cell_type": "code",
      "metadata": {
        "id": "MzcdRZbeImNw",
        "outputId": "c5bb38bf-9b9d-4a1b-fc50-e8ac2693f945",
        "colab": {
          "base_uri": "https://localhost:8080/"
        }
      },
      "source": [
        "bestParams_rfc.fit(train_modCloth_X,train_modCloth_Y)"
      ],
      "execution_count": null,
      "outputs": [
        {
          "output_type": "execute_result",
          "data": {
            "text/plain": [
              "RandomForestClassifier(bootstrap=True, ccp_alpha=0.0, class_weight=None,\n",
              "                       criterion='gini', max_depth=7, max_features='auto',\n",
              "                       max_leaf_nodes=None, max_samples=None,\n",
              "                       min_impurity_decrease=0.0, min_impurity_split=None,\n",
              "                       min_samples_leaf=7, min_samples_split=5,\n",
              "                       min_weight_fraction_leaf=0.0, n_estimators=100,\n",
              "                       n_jobs=None, oob_score=False, random_state=None,\n",
              "                       verbose=0, warm_start=False)"
            ]
          },
          "metadata": {
            "tags": []
          },
          "execution_count": 81
        }
      ]
    },
    {
      "cell_type": "code",
      "metadata": {
        "id": "zrzDKawXIniw"
      },
      "source": [
        "rfc_predictions_valid_X = bestParams_rfc.predict(valid_modCloth_X)"
      ],
      "execution_count": null,
      "outputs": []
    },
    {
      "cell_type": "markdown",
      "metadata": {
        "id": "hG88H9OXABod"
      },
      "source": [
        "#### Classification report"
      ]
    },
    {
      "cell_type": "code",
      "metadata": {
        "id": "kf9GvkMCIs-j",
        "outputId": "7f2933a6-ad35-4ce1-cbae-cfa6dc641aa1",
        "colab": {
          "base_uri": "https://localhost:8080/"
        }
      },
      "source": [
        "print(classification_report(valid_modCloth_Y, rfc_predictions_valid_X, digits=5))"
      ],
      "execution_count": null,
      "outputs": [
        {
          "output_type": "stream",
          "text": [
            "              precision    recall  f1-score   support\n",
            "\n",
            "           0    1.00000   0.00051   0.00102      3904\n",
            "           1    0.68292   1.00000   0.81159     16961\n",
            "           2    0.00000   0.00000   0.00000      3973\n",
            "\n",
            "    accuracy                        0.68295     24838\n",
            "   macro avg    0.56097   0.33350   0.27087     24838\n",
            "weighted avg    0.62352   0.68295   0.55437     24838\n",
            "\n"
          ],
          "name": "stdout"
        }
      ]
    },
    {
      "cell_type": "markdown",
      "metadata": {
        "id": "llyB0JmgXCWW"
      },
      "source": [
        "### **RentTheRunWay**"
      ]
    },
    {
      "cell_type": "markdown",
      "metadata": {
        "id": "9NCNg5_UXCWc"
      },
      "source": [
        "#### GridSearchCV"
      ]
    },
    {
      "cell_type": "markdown",
      "metadata": {
        "id": "RyiW49-SXCWd"
      },
      "source": [
        "Following parameters can be varied to find best paramets for random forest classifier:\n",
        "- n_estimators: Number of trees in the forest.\n",
        "- Criterion: It describes the quality of split. It has two poissible values: gini (gini impurity) and entropy (information gain)\n",
        "- max_depth: It describes the max depth of the tree.\n",
        "- min_samples_split: It describes the minimum samples required to split a node.\n",
        "- min_samples_leaf: Minimum number of samples required to be at leaf node.\n",
        "- max_features: Number of features to consider when finding best split. Possible values: auto, sqrt, log2, or any int or float"
      ]
    },
    {
      "cell_type": "code",
      "metadata": {
        "id": "ymzOSr7BXCWd"
      },
      "source": [
        "grid_values_rfc = {'criterion':['gini', 'entropy'], \n",
        "                   'max_depth': [5, 7],\n",
        "                   'max_features': ['auto', 'sqrt'],\n",
        "                   'min_samples_leaf': [5, 7],\n",
        "                   'min_samples_split': [5, 10]}"
      ],
      "execution_count": null,
      "outputs": []
    },
    {
      "cell_type": "code",
      "metadata": {
        "id": "3oPvNChAXCWh"
      },
      "source": [
        "rfc=RandomForestClassifier()"
      ],
      "execution_count": null,
      "outputs": []
    },
    {
      "cell_type": "code",
      "metadata": {
        "id": "jhdHMLO-XCWk"
      },
      "source": [
        "gs_rfc = GridSearchCV(rfc, grid_values_rfc, cv=5)"
      ],
      "execution_count": null,
      "outputs": []
    },
    {
      "cell_type": "code",
      "metadata": {
        "id": "ZAT4PcnSXCWm",
        "outputId": "401ad8b0-71d9-4329-c7a6-639666ab192f",
        "colab": {
          "base_uri": "https://localhost:8080/"
        }
      },
      "source": [
        "gs_rfc.fit(train_rentTheRunWay_X, train_rentTheRunWay_Y)"
      ],
      "execution_count": null,
      "outputs": [
        {
          "output_type": "execute_result",
          "data": {
            "text/plain": [
              "GridSearchCV(cv=5, error_score=nan,\n",
              "             estimator=RandomForestClassifier(bootstrap=True, ccp_alpha=0.0,\n",
              "                                              class_weight=None,\n",
              "                                              criterion='gini', max_depth=None,\n",
              "                                              max_features='auto',\n",
              "                                              max_leaf_nodes=None,\n",
              "                                              max_samples=None,\n",
              "                                              min_impurity_decrease=0.0,\n",
              "                                              min_impurity_split=None,\n",
              "                                              min_samples_leaf=1,\n",
              "                                              min_samples_split=2,\n",
              "                                              min_weight_fraction_leaf=0.0,\n",
              "                                              n_estimators=100, n_jobs=None,\n",
              "                                              oob_score=False,\n",
              "                                              random_state=None, verbose=0,\n",
              "                                              warm_start=False),\n",
              "             iid='deprecated', n_jobs=None,\n",
              "             param_grid={'criterion': ['gini', 'entropy'], 'max_depth': [5, 7],\n",
              "                         'max_features': ['auto', 'sqrt'],\n",
              "                         'min_samples_leaf': [5, 7],\n",
              "                         'min_samples_split': [5, 10]},\n",
              "             pre_dispatch='2*n_jobs', refit=True, return_train_score=False,\n",
              "             scoring=None, verbose=0)"
            ]
          },
          "metadata": {
            "tags": []
          },
          "execution_count": 91
        }
      ]
    },
    {
      "cell_type": "code",
      "metadata": {
        "id": "83PzIU_8XCWp",
        "outputId": "48c27a81-7a12-466c-d9c4-027cbe4b1356",
        "colab": {
          "base_uri": "https://localhost:8080/"
        }
      },
      "source": [
        "print(\"Best parameters for rfc: \",gs_rfc.best_params_)"
      ],
      "execution_count": null,
      "outputs": [
        {
          "output_type": "stream",
          "text": [
            "Best parameters for rfc:  {'criterion': 'gini', 'max_depth': 7, 'max_features': 'auto', 'min_samples_leaf': 7, 'min_samples_split': 5}\n"
          ],
          "name": "stdout"
        }
      ]
    },
    {
      "cell_type": "markdown",
      "metadata": {
        "id": "w86qnTNvXCWr"
      },
      "source": [
        "#### Best Params Model"
      ]
    },
    {
      "cell_type": "code",
      "metadata": {
        "id": "pVly3gLQXCWr"
      },
      "source": [
        "bestParams_rfc = RandomForestClassifier(criterion=gs_rfc.best_params_['criterion'],\n",
        "                                        max_depth=gs_rfc.best_params_['max_depth'],\n",
        "                                        min_samples_split=gs_rfc.best_params_['min_samples_split'],\n",
        "                                        max_features=gs_rfc.best_params_['max_features'],\n",
        "                                        min_samples_leaf=gs_rfc.best_params_['min_samples_leaf'],\n",
        "                                        n_estimators=100)"
      ],
      "execution_count": null,
      "outputs": []
    },
    {
      "cell_type": "code",
      "metadata": {
        "id": "7iaVXZijXCWt",
        "outputId": "9d1ec8ba-0cc1-41de-8094-0fc73760a126",
        "colab": {
          "base_uri": "https://localhost:8080/"
        }
      },
      "source": [
        "bestParams_rfc.fit(train_rentTheRunWay_X, train_rentTheRunWay_Y)"
      ],
      "execution_count": null,
      "outputs": [
        {
          "output_type": "execute_result",
          "data": {
            "text/plain": [
              "RandomForestClassifier(bootstrap=True, ccp_alpha=0.0, class_weight=None,\n",
              "                       criterion='gini', max_depth=7, max_features='auto',\n",
              "                       max_leaf_nodes=None, max_samples=None,\n",
              "                       min_impurity_decrease=0.0, min_impurity_split=None,\n",
              "                       min_samples_leaf=7, min_samples_split=5,\n",
              "                       min_weight_fraction_leaf=0.0, n_estimators=100,\n",
              "                       n_jobs=None, oob_score=False, random_state=None,\n",
              "                       verbose=0, warm_start=False)"
            ]
          },
          "metadata": {
            "tags": []
          },
          "execution_count": 94
        }
      ]
    },
    {
      "cell_type": "code",
      "metadata": {
        "id": "o1zyi9XtXCWw"
      },
      "source": [
        "rfc_predictions_valid_X = bestParams_rfc.predict(valid_rentTheRunWay_X)"
      ],
      "execution_count": null,
      "outputs": []
    },
    {
      "cell_type": "markdown",
      "metadata": {
        "id": "apA_11q3XCWy"
      },
      "source": [
        "#### Classification report"
      ]
    },
    {
      "cell_type": "code",
      "metadata": {
        "id": "nedcGPkLXCWy",
        "outputId": "0d526385-e17f-47b4-a3d9-e8ead3b136dc",
        "colab": {
          "base_uri": "https://localhost:8080/"
        }
      },
      "source": [
        "print(classification_report(valid_rentTheRunWay_Y, rfc_predictions_valid_X, digits=5))"
      ],
      "execution_count": null,
      "outputs": [
        {
          "output_type": "stream",
          "text": [
            "              precision    recall  f1-score   support\n",
            "\n",
            "           0    1.00000   0.00013   0.00027      7462\n",
            "           1    0.73844   1.00000   0.84954     40090\n",
            "           2    1.00000   0.00044   0.00089      6742\n",
            "\n",
            "    accuracy                        0.73846     54294\n",
            "   macro avg    0.91281   0.33353   0.28357     54294\n",
            "weighted avg    0.80687   0.73846   0.62744     54294\n",
            "\n"
          ],
          "name": "stdout"
        }
      ]
    },
    {
      "cell_type": "markdown",
      "metadata": {
        "id": "7QlOSh2nYj1K"
      },
      "source": [
        "## **Keras NN Model**"
      ]
    },
    {
      "cell_type": "markdown",
      "metadata": {
        "id": "lsh_R61PRwwx"
      },
      "source": [
        "### **ModCloth**"
      ]
    },
    {
      "cell_type": "markdown",
      "metadata": {
        "id": "rdIuCahu2Si8"
      },
      "source": [
        "#### Convert categorical output to numerical via one-hot encoding"
      ]
    },
    {
      "cell_type": "code",
      "metadata": {
        "id": "B8eOVBhn2him"
      },
      "source": [
        "# # Encoding categorical unique values as integers\n",
        "# encoder = LabelEncoder()\n",
        "# encoder.fit(train_modCloth_Y)\n",
        "# encoded_train_modCloth_Y = encoder.transform(train_modCloth_Y)\n",
        "\n",
        "# # Performing one-hot encoding\n",
        "# dummy_train_modCloth_Y = np_utils.to_categorical(encoded_train_modCloth_Y)\n",
        "\n",
        "dummy_train_modCloth_Y = np_utils.to_categorical(train_modCloth_Y, num_classes=3)"
      ],
      "execution_count": null,
      "outputs": []
    },
    {
      "cell_type": "markdown",
      "metadata": {
        "id": "6YbKXVFk3NLU"
      },
      "source": [
        "#### Defining our NN model"
      ]
    },
    {
      "cell_type": "code",
      "metadata": {
        "id": "YpKKNKcp3PEN"
      },
      "source": [
        "def threeLayeredModel(optimizer='adam', init='glorot_uniform'):\n",
        "  model = Sequential()\n",
        "\n",
        "  # Defining model layers\n",
        "  model.add(Dense(11, input_dim=11, kernel_initializer=init, activation='relu'))\n",
        "  model.add(Dense(7, kernel_initializer=init, activation='relu'))\n",
        "  model.add(Dense(3,kernel_initializer=init, activation='sigmoid'))\n",
        "  \n",
        "  # Compile model\n",
        "  model.compile(loss='categorical_crossentropy', optimizer=optimizer, metrics=['accuracy'])\n",
        "  return model"
      ],
      "execution_count": null,
      "outputs": []
    },
    {
      "cell_type": "markdown",
      "metadata": {
        "id": "JXM_A14fAlmj"
      },
      "source": [
        "#### GridSearchCV"
      ]
    },
    {
      "cell_type": "code",
      "metadata": {
        "id": "ijVUk95rAoGu"
      },
      "source": [
        "grid_values_keras_NN = {\n",
        "  'optimizer': ['sgd', 'rmsprop', 'adam'],\n",
        "  'init': ['glorot_uniform', 'random_normal', 'random_uniform'],\n",
        "  'batch_size': [50, 100],\n",
        "  'epochs': [5]\n",
        "}"
      ],
      "execution_count": null,
      "outputs": []
    },
    {
      "cell_type": "code",
      "metadata": {
        "id": "gWWo58Vv4nAw"
      },
      "source": [
        "estimator = KerasClassifier(build_fn=threeLayeredModel, verbose=1)"
      ],
      "execution_count": null,
      "outputs": []
    },
    {
      "cell_type": "code",
      "metadata": {
        "id": "2Mz11NU2Cm6t"
      },
      "source": [
        "gs_keras_NN = GridSearchCV(estimator=estimator, param_grid=grid_values_keras_NN)"
      ],
      "execution_count": null,
      "outputs": []
    },
    {
      "cell_type": "code",
      "metadata": {
        "id": "iN4K5-FrDBwI",
        "outputId": "83fb64d0-22fb-4fe6-8a6d-2d4aaed1c85e",
        "colab": {
          "base_uri": "https://localhost:8080/"
        }
      },
      "source": [
        "gs_keras_NN.fit(train_modCloth_X, dummy_train_modCloth_Y)"
      ],
      "execution_count": null,
      "outputs": [
        {
          "output_type": "stream",
          "text": [
            "Epoch 1/5\n",
            "928/928 [==============================] - 2s 2ms/step - loss: 5.0821 - accuracy: 0.6844\n",
            "Epoch 2/5\n",
            "928/928 [==============================] - 2s 2ms/step - loss: 5.0717 - accuracy: 0.6853\n",
            "Epoch 3/5\n",
            "928/928 [==============================] - 2s 2ms/step - loss: 5.0717 - accuracy: 0.6853\n",
            "Epoch 4/5\n",
            "928/928 [==============================] - 2s 2ms/step - loss: 5.0717 - accuracy: 0.6853\n",
            "Epoch 5/5\n",
            "928/928 [==============================] - 2s 2ms/step - loss: 5.0717 - accuracy: 0.6853\n",
            "232/232 [==============================] - 0s 1ms/step - loss: 5.0700 - accuracy: 0.6854\n",
            "Epoch 1/5\n",
            "928/928 [==============================] - 2s 2ms/step - loss: 13.5554 - accuracy: 0.1590\n",
            "Epoch 2/5\n",
            "928/928 [==============================] - 2s 2ms/step - loss: 13.5554 - accuracy: 0.1590\n",
            "Epoch 3/5\n",
            "928/928 [==============================] - 2s 2ms/step - loss: 13.5554 - accuracy: 0.1590\n",
            "Epoch 4/5\n",
            "928/928 [==============================] - 2s 2ms/step - loss: 13.5554 - accuracy: 0.1590\n",
            "Epoch 5/5\n",
            "928/928 [==============================] - 2s 2ms/step - loss: 13.5554 - accuracy: 0.1590\n",
            "232/232 [==============================] - 0s 1ms/step - loss: 13.6596 - accuracy: 0.1525\n",
            "Epoch 1/5\n",
            "928/928 [==============================] - 2s 2ms/step - loss: 1.2539 - accuracy: 0.6535\n",
            "Epoch 2/5\n",
            "928/928 [==============================] - 2s 2ms/step - loss: 0.8423 - accuracy: 0.6850\n",
            "Epoch 3/5\n",
            "928/928 [==============================] - 2s 2ms/step - loss: 0.8411 - accuracy: 0.6850\n",
            "Epoch 4/5\n",
            "928/928 [==============================] - 2s 2ms/step - loss: 0.8398 - accuracy: 0.6850\n",
            "Epoch 5/5\n",
            "928/928 [==============================] - 2s 2ms/step - loss: 0.8391 - accuracy: 0.6850\n",
            "232/232 [==============================] - 0s 1ms/step - loss: 0.8385 - accuracy: 0.6869\n",
            "Epoch 1/5\n",
            "928/928 [==============================] - 2s 2ms/step - loss: 3.1211 - accuracy: 0.1760\n",
            "Epoch 2/5\n",
            "928/928 [==============================] - 2s 2ms/step - loss: 3.1209 - accuracy: 0.1567\n",
            "Epoch 3/5\n",
            "928/928 [==============================] - 2s 2ms/step - loss: 3.1209 - accuracy: 0.1567\n",
            "Epoch 4/5\n",
            "928/928 [==============================] - 2s 2ms/step - loss: 3.1209 - accuracy: 0.1567\n",
            "Epoch 5/5\n",
            "928/928 [==============================] - 2s 2ms/step - loss: 3.1209 - accuracy: 0.1567\n",
            "232/232 [==============================] - 0s 1ms/step - loss: 3.1446 - accuracy: 0.1584\n",
            "Epoch 1/5\n",
            "928/928 [==============================] - 2s 2ms/step - loss: 11.2842 - accuracy: 0.1567\n",
            "Epoch 2/5\n",
            "928/928 [==============================] - 2s 2ms/step - loss: 11.2692 - accuracy: 0.1567\n",
            "Epoch 3/5\n",
            "928/928 [==============================] - 2s 2ms/step - loss: 11.2692 - accuracy: 0.1567\n",
            "Epoch 4/5\n",
            "928/928 [==============================] - 2s 2ms/step - loss: 11.2692 - accuracy: 0.1567\n",
            "Epoch 5/5\n",
            "928/928 [==============================] - 2s 2ms/step - loss: 11.2692 - accuracy: 0.1567\n",
            "232/232 [==============================] - 0s 1ms/step - loss: 11.2470 - accuracy: 0.1618\n",
            "Epoch 1/5\n",
            "928/928 [==============================] - 2s 2ms/step - loss: 2.9392 - accuracy: 0.6853\n",
            "Epoch 2/5\n",
            "928/928 [==============================] - 2s 2ms/step - loss: 2.9367 - accuracy: 0.6853\n",
            "Epoch 3/5\n",
            "928/928 [==============================] - 2s 2ms/step - loss: 2.9355 - accuracy: 0.6853\n",
            "Epoch 4/5\n",
            "928/928 [==============================] - 2s 2ms/step - loss: 2.9344 - accuracy: 0.6853\n",
            "Epoch 5/5\n",
            "928/928 [==============================] - 2s 2ms/step - loss: 2.9340 - accuracy: 0.6853\n",
            "232/232 [==============================] - 0s 1ms/step - loss: 2.9062 - accuracy: 0.6854\n",
            "Epoch 1/5\n",
            "928/928 [==============================] - 2s 2ms/step - loss: 0.9015 - accuracy: 0.6706\n",
            "Epoch 2/5\n",
            "928/928 [==============================] - 2s 2ms/step - loss: 0.8341 - accuracy: 0.6848\n",
            "Epoch 3/5\n",
            "928/928 [==============================] - 2s 2ms/step - loss: 0.8293 - accuracy: 0.6848\n",
            "Epoch 4/5\n",
            "928/928 [==============================] - 2s 2ms/step - loss: 0.8254 - accuracy: 0.6848\n",
            "Epoch 5/5\n",
            "928/928 [==============================] - 2s 2ms/step - loss: 0.8220 - accuracy: 0.6848\n",
            "232/232 [==============================] - 0s 1ms/step - loss: 0.8310 - accuracy: 0.6876\n",
            "Epoch 1/5\n",
            "928/928 [==============================] - 2s 2ms/step - loss: 0.8914 - accuracy: 0.6764\n",
            "Epoch 2/5\n",
            "928/928 [==============================] - 2s 2ms/step - loss: 0.8451 - accuracy: 0.6850\n",
            "Epoch 3/5\n",
            "928/928 [==============================] - 2s 2ms/step - loss: 0.8363 - accuracy: 0.6850\n",
            "Epoch 4/5\n",
            "928/928 [==============================] - 2s 2ms/step - loss: 0.8312 - accuracy: 0.6850\n",
            "Epoch 5/5\n",
            "928/928 [==============================] - 2s 2ms/step - loss: 0.8275 - accuracy: 0.6850\n",
            "232/232 [==============================] - 0s 1ms/step - loss: 0.8480 - accuracy: 0.6869\n",
            "Epoch 1/5\n",
            "928/928 [==============================] - 2s 2ms/step - loss: 0.8755 - accuracy: 0.6820\n",
            "Epoch 2/5\n",
            "928/928 [==============================] - 2s 2ms/step - loss: 0.8241 - accuracy: 0.6860\n",
            "Epoch 3/5\n",
            "928/928 [==============================] - 2s 2ms/step - loss: 0.8181 - accuracy: 0.6857\n",
            "Epoch 4/5\n",
            "928/928 [==============================] - 2s 2ms/step - loss: 0.8154 - accuracy: 0.6859\n",
            "Epoch 5/5\n",
            "928/928 [==============================] - 2s 2ms/step - loss: 0.8147 - accuracy: 0.6859\n",
            "232/232 [==============================] - 0s 1ms/step - loss: 0.8181 - accuracy: 0.6812\n",
            "Epoch 1/5\n",
            "928/928 [==============================] - 2s 2ms/step - loss: 1.0986 - accuracy: 0.1577\n",
            "Epoch 2/5\n",
            "928/928 [==============================] - 2s 2ms/step - loss: 1.0986 - accuracy: 0.1577\n",
            "Epoch 3/5\n",
            "928/928 [==============================] - 2s 2ms/step - loss: 1.0986 - accuracy: 0.1577\n",
            "Epoch 4/5\n",
            "928/928 [==============================] - 2s 2ms/step - loss: 1.0986 - accuracy: 0.1577\n",
            "Epoch 5/5\n",
            "928/928 [==============================] - 2s 2ms/step - loss: 1.0986 - accuracy: 0.1577\n",
            "232/232 [==============================] - 0s 1ms/step - loss: 1.0986 - accuracy: 0.1540\n",
            "Epoch 1/5\n",
            "928/928 [==============================] - 2s 2ms/step - loss: 1.3597 - accuracy: 0.6512\n",
            "Epoch 2/5\n",
            "928/928 [==============================] - 2s 2ms/step - loss: 0.8729 - accuracy: 0.6851\n",
            "Epoch 3/5\n",
            "928/928 [==============================] - 2s 2ms/step - loss: 0.8448 - accuracy: 0.6852\n",
            "Epoch 4/5\n",
            "928/928 [==============================] - 2s 2ms/step - loss: 0.8416 - accuracy: 0.6852\n",
            "Epoch 5/5\n",
            "928/928 [==============================] - 2s 2ms/step - loss: 0.8412 - accuracy: 0.6852\n",
            "232/232 [==============================] - 0s 1ms/step - loss: 0.8407 - accuracy: 0.6854\n",
            "Epoch 1/5\n",
            "928/928 [==============================] - 2s 2ms/step - loss: 1.1040 - accuracy: 0.6549\n",
            "Epoch 2/5\n",
            "928/928 [==============================] - 2s 2ms/step - loss: 0.8306 - accuracy: 0.6848\n",
            "Epoch 3/5\n",
            "928/928 [==============================] - 2s 2ms/step - loss: 0.8242 - accuracy: 0.6848\n",
            "Epoch 4/5\n",
            "928/928 [==============================] - 2s 2ms/step - loss: 0.8204 - accuracy: 0.6848\n",
            "Epoch 5/5\n",
            "928/928 [==============================] - 2s 2ms/step - loss: 0.8183 - accuracy: 0.6848\n",
            "232/232 [==============================] - 0s 1ms/step - loss: 0.8276 - accuracy: 0.6876\n",
            "Epoch 1/5\n",
            "928/928 [==============================] - 2s 2ms/step - loss: 0.8669 - accuracy: 0.6655\n",
            "Epoch 2/5\n",
            "928/928 [==============================] - 2s 2ms/step - loss: 0.8348 - accuracy: 0.6850\n",
            "Epoch 3/5\n",
            "928/928 [==============================] - 2s 2ms/step - loss: 0.8296 - accuracy: 0.6850\n",
            "Epoch 4/5\n",
            "928/928 [==============================] - 2s 2ms/step - loss: 0.8231 - accuracy: 0.6850\n",
            "Epoch 5/5\n",
            "928/928 [==============================] - 2s 2ms/step - loss: 0.8193 - accuracy: 0.6850\n",
            "232/232 [==============================] - 0s 2ms/step - loss: 0.8187 - accuracy: 0.6869\n",
            "Epoch 1/5\n",
            "928/928 [==============================] - 2s 2ms/step - loss: 1.1798 - accuracy: 0.6140\n",
            "Epoch 2/5\n",
            "928/928 [==============================] - 2s 2ms/step - loss: 0.8440 - accuracy: 0.6859\n",
            "Epoch 3/5\n",
            "928/928 [==============================] - 2s 2ms/step - loss: 0.8371 - accuracy: 0.6860\n",
            "Epoch 4/5\n",
            "928/928 [==============================] - 2s 2ms/step - loss: 0.8330 - accuracy: 0.6860\n",
            "Epoch 5/5\n",
            "928/928 [==============================] - 2s 2ms/step - loss: 0.8296 - accuracy: 0.6860\n",
            "232/232 [==============================] - 0s 1ms/step - loss: 0.8288 - accuracy: 0.6827\n",
            "Epoch 1/5\n",
            "928/928 [==============================] - 2s 2ms/step - loss: 11.2692 - accuracy: 0.1577\n",
            "Epoch 2/5\n",
            "928/928 [==============================] - 2s 2ms/step - loss: 11.2692 - accuracy: 0.1577\n",
            "Epoch 3/5\n",
            "928/928 [==============================] - 2s 2ms/step - loss: 11.2692 - accuracy: 0.1577\n",
            "Epoch 4/5\n",
            "928/928 [==============================] - 2s 2ms/step - loss: 11.2692 - accuracy: 0.1577\n",
            "Epoch 5/5\n",
            "928/928 [==============================] - 2s 2ms/step - loss: 11.2692 - accuracy: 0.1577\n",
            "232/232 [==============================] - 0s 1ms/step - loss: 11.2471 - accuracy: 0.1540\n",
            "Epoch 1/5\n",
            "928/928 [==============================] - 2s 2ms/step - loss: 0.8518 - accuracy: 0.6835\n",
            "Epoch 2/5\n",
            "928/928 [==============================] - 2s 2ms/step - loss: 0.8410 - accuracy: 0.6853\n",
            "Epoch 3/5\n",
            "928/928 [==============================] - 2s 2ms/step - loss: 0.8391 - accuracy: 0.6853\n",
            "Epoch 4/5\n",
            "928/928 [==============================] - 2s 2ms/step - loss: 0.8382 - accuracy: 0.6853\n",
            "Epoch 5/5\n",
            "928/928 [==============================] - 2s 2ms/step - loss: 0.8375 - accuracy: 0.6853\n",
            "232/232 [==============================] - 0s 1ms/step - loss: 0.8380 - accuracy: 0.6854\n",
            "Epoch 1/5\n",
            "928/928 [==============================] - 2s 2ms/step - loss: 0.8485 - accuracy: 0.6837\n",
            "Epoch 2/5\n",
            "928/928 [==============================] - 2s 2ms/step - loss: 0.8409 - accuracy: 0.6848\n",
            "Epoch 3/5\n",
            "928/928 [==============================] - 2s 2ms/step - loss: 0.8396 - accuracy: 0.6848\n",
            "Epoch 4/5\n",
            "928/928 [==============================] - 2s 2ms/step - loss: 0.8389 - accuracy: 0.6848\n",
            "Epoch 5/5\n",
            "928/928 [==============================] - 2s 2ms/step - loss: 0.8382 - accuracy: 0.6848\n",
            "232/232 [==============================] - 0s 1ms/step - loss: 0.8362 - accuracy: 0.6876\n",
            "Epoch 1/5\n",
            "928/928 [==============================] - 2s 2ms/step - loss: 0.8485 - accuracy: 0.6850\n",
            "Epoch 2/5\n",
            "928/928 [==============================] - 2s 2ms/step - loss: 0.8412 - accuracy: 0.6850\n",
            "Epoch 3/5\n",
            "928/928 [==============================] - 2s 2ms/step - loss: 0.8390 - accuracy: 0.6850\n",
            "Epoch 4/5\n",
            "928/928 [==============================] - 2s 2ms/step - loss: 0.8381 - accuracy: 0.6850\n",
            "Epoch 5/5\n",
            "928/928 [==============================] - 2s 2ms/step - loss: 0.8374 - accuracy: 0.6850\n",
            "232/232 [==============================] - 0s 1ms/step - loss: 0.8366 - accuracy: 0.6869\n",
            "Epoch 1/5\n",
            "928/928 [==============================] - 2s 2ms/step - loss: 0.8667 - accuracy: 0.6839\n",
            "Epoch 2/5\n",
            "928/928 [==============================] - 2s 2ms/step - loss: 0.8383 - accuracy: 0.6860\n",
            "Epoch 3/5\n",
            "928/928 [==============================] - 2s 2ms/step - loss: 0.8372 - accuracy: 0.6860\n",
            "Epoch 4/5\n",
            "928/928 [==============================] - 2s 2ms/step - loss: 0.8364 - accuracy: 0.6860\n",
            "Epoch 5/5\n",
            "928/928 [==============================] - 2s 2ms/step - loss: 0.8360 - accuracy: 0.6860\n",
            "232/232 [==============================] - 0s 1ms/step - loss: 0.8407 - accuracy: 0.6827\n",
            "Epoch 1/5\n",
            "928/928 [==============================] - 2s 2ms/step - loss: 0.8654 - accuracy: 0.6844\n",
            "Epoch 2/5\n",
            "928/928 [==============================] - 2s 2ms/step - loss: 0.8401 - accuracy: 0.6856\n",
            "Epoch 3/5\n",
            "928/928 [==============================] - 2s 2ms/step - loss: 0.8384 - accuracy: 0.6856\n",
            "Epoch 4/5\n",
            "928/928 [==============================] - 2s 2ms/step - loss: 0.8376 - accuracy: 0.6856\n",
            "Epoch 5/5\n",
            "928/928 [==============================] - 2s 2ms/step - loss: 0.8370 - accuracy: 0.6856\n",
            "232/232 [==============================] - 0s 1ms/step - loss: 0.8462 - accuracy: 0.6842\n",
            "Epoch 1/5\n",
            "928/928 [==============================] - 2s 2ms/step - loss: 0.8465 - accuracy: 0.6848\n",
            "Epoch 2/5\n",
            "928/928 [==============================] - 2s 2ms/step - loss: 0.8305 - accuracy: 0.6853\n",
            "Epoch 3/5\n",
            "928/928 [==============================] - 2s 2ms/step - loss: 0.8238 - accuracy: 0.6853\n",
            "Epoch 4/5\n",
            "928/928 [==============================] - 2s 2ms/step - loss: 0.8179 - accuracy: 0.6853\n",
            "Epoch 5/5\n",
            "928/928 [==============================] - 2s 2ms/step - loss: 0.8165 - accuracy: 0.6853\n",
            "232/232 [==============================] - 0s 1ms/step - loss: 0.8231 - accuracy: 0.6854\n",
            "Epoch 1/5\n",
            "928/928 [==============================] - 2s 2ms/step - loss: 0.8459 - accuracy: 0.6842\n",
            "Epoch 2/5\n",
            "928/928 [==============================] - 2s 2ms/step - loss: 0.8332 - accuracy: 0.6848\n",
            "Epoch 3/5\n",
            "928/928 [==============================] - 2s 2ms/step - loss: 0.8281 - accuracy: 0.6848\n",
            "Epoch 4/5\n",
            "928/928 [==============================] - 2s 2ms/step - loss: 0.8224 - accuracy: 0.6848\n",
            "Epoch 5/5\n",
            "928/928 [==============================] - 2s 2ms/step - loss: 0.8177 - accuracy: 0.6847\n",
            "232/232 [==============================] - 0s 1ms/step - loss: 0.8282 - accuracy: 0.6873\n",
            "Epoch 1/5\n",
            "928/928 [==============================] - 2s 2ms/step - loss: 0.8454 - accuracy: 0.6824\n",
            "Epoch 2/5\n",
            "928/928 [==============================] - 2s 2ms/step - loss: 0.8336 - accuracy: 0.6850\n",
            "Epoch 3/5\n",
            "928/928 [==============================] - 2s 2ms/step - loss: 0.8304 - accuracy: 0.6850\n",
            "Epoch 4/5\n",
            "928/928 [==============================] - 2s 2ms/step - loss: 0.8266 - accuracy: 0.6850\n",
            "Epoch 5/5\n",
            "928/928 [==============================] - 2s 2ms/step - loss: 0.8219 - accuracy: 0.6850\n",
            "232/232 [==============================] - 0s 1ms/step - loss: 0.8182 - accuracy: 0.6869\n",
            "Epoch 1/5\n",
            "928/928 [==============================] - 2s 2ms/step - loss: 0.8507 - accuracy: 0.6853\n",
            "Epoch 2/5\n",
            "928/928 [==============================] - 2s 2ms/step - loss: 0.8300 - accuracy: 0.6860\n",
            "Epoch 3/5\n",
            "928/928 [==============================] - 2s 2ms/step - loss: 0.8239 - accuracy: 0.6860\n",
            "Epoch 4/5\n",
            "928/928 [==============================] - 2s 2ms/step - loss: 0.8184 - accuracy: 0.6860\n",
            "Epoch 5/5\n",
            "928/928 [==============================] - 2s 2ms/step - loss: 0.8150 - accuracy: 0.6860\n",
            "232/232 [==============================] - 0s 1ms/step - loss: 0.8159 - accuracy: 0.6827\n",
            "Epoch 1/5\n",
            "928/928 [==============================] - 2s 2ms/step - loss: 0.8525 - accuracy: 0.6848\n",
            "Epoch 2/5\n",
            "928/928 [==============================] - 2s 2ms/step - loss: 0.8339 - accuracy: 0.6856\n",
            "Epoch 3/5\n",
            "928/928 [==============================] - 2s 2ms/step - loss: 0.8301 - accuracy: 0.6856\n",
            "Epoch 4/5\n",
            "928/928 [==============================] - 2s 2ms/step - loss: 0.8265 - accuracy: 0.6856\n",
            "Epoch 5/5\n",
            "928/928 [==============================] - 2s 2ms/step - loss: 0.8223 - accuracy: 0.6856\n",
            "232/232 [==============================] - 0s 1ms/step - loss: 0.8240 - accuracy: 0.6842\n",
            "Epoch 1/5\n",
            "928/928 [==============================] - 2s 2ms/step - loss: 0.8435 - accuracy: 0.6853\n",
            "Epoch 2/5\n",
            "928/928 [==============================] - 2s 2ms/step - loss: 0.8293 - accuracy: 0.6853\n",
            "Epoch 3/5\n",
            "928/928 [==============================] - 2s 2ms/step - loss: 0.8214 - accuracy: 0.6853\n",
            "Epoch 4/5\n",
            "928/928 [==============================] - 2s 2ms/step - loss: 0.8156 - accuracy: 0.6853\n",
            "Epoch 5/5\n",
            "928/928 [==============================] - 2s 2ms/step - loss: 0.8133 - accuracy: 0.6853\n",
            "232/232 [==============================] - 0s 1ms/step - loss: 0.8096 - accuracy: 0.6854\n",
            "Epoch 1/5\n",
            "928/928 [==============================] - 2s 2ms/step - loss: 0.8623 - accuracy: 0.6790\n",
            "Epoch 2/5\n",
            "928/928 [==============================] - 2s 2ms/step - loss: 0.8324 - accuracy: 0.6848\n",
            "Epoch 3/5\n",
            "928/928 [==============================] - 2s 2ms/step - loss: 0.8270 - accuracy: 0.6848\n",
            "Epoch 4/5\n",
            "928/928 [==============================] - 2s 2ms/step - loss: 0.8204 - accuracy: 0.6848\n",
            "Epoch 5/5\n",
            "928/928 [==============================] - 2s 2ms/step - loss: 0.8154 - accuracy: 0.6848\n",
            "232/232 [==============================] - 0s 1ms/step - loss: 0.8119 - accuracy: 0.6876\n",
            "Epoch 1/5\n",
            "928/928 [==============================] - 2s 2ms/step - loss: 0.8450 - accuracy: 0.6842\n",
            "Epoch 2/5\n",
            "928/928 [==============================] - 2s 2ms/step - loss: 0.8284 - accuracy: 0.6850\n",
            "Epoch 3/5\n",
            "928/928 [==============================] - 2s 2ms/step - loss: 0.8203 - accuracy: 0.6850\n",
            "Epoch 4/5\n",
            "928/928 [==============================] - 2s 2ms/step - loss: 0.8158 - accuracy: 0.6850\n",
            "Epoch 5/5\n",
            "928/928 [==============================] - 2s 2ms/step - loss: 0.8138 - accuracy: 0.6850\n",
            "232/232 [==============================] - 0s 1ms/step - loss: 0.8098 - accuracy: 0.6869\n",
            "Epoch 1/5\n",
            "928/928 [==============================] - 2s 2ms/step - loss: 0.8499 - accuracy: 0.6820\n",
            "Epoch 2/5\n",
            "928/928 [==============================] - 2s 2ms/step - loss: 0.8311 - accuracy: 0.6860\n",
            "Epoch 3/5\n",
            "928/928 [==============================] - 2s 2ms/step - loss: 0.8256 - accuracy: 0.6860\n",
            "Epoch 4/5\n",
            "928/928 [==============================] - 2s 2ms/step - loss: 0.8202 - accuracy: 0.6860\n",
            "Epoch 5/5\n",
            "928/928 [==============================] - 2s 2ms/step - loss: 0.8168 - accuracy: 0.6860\n",
            "232/232 [==============================] - 0s 1ms/step - loss: 0.8203 - accuracy: 0.6827\n",
            "Epoch 1/5\n",
            "928/928 [==============================] - 2s 2ms/step - loss: 0.8486 - accuracy: 0.6856\n",
            "Epoch 2/5\n",
            "928/928 [==============================] - 2s 2ms/step - loss: 0.8308 - accuracy: 0.6856\n",
            "Epoch 3/5\n",
            "928/928 [==============================] - 2s 2ms/step - loss: 0.8237 - accuracy: 0.6856\n",
            "Epoch 4/5\n",
            "928/928 [==============================] - 2s 2ms/step - loss: 0.8165 - accuracy: 0.6856\n",
            "Epoch 5/5\n",
            "928/928 [==============================] - 2s 2ms/step - loss: 0.8146 - accuracy: 0.6856\n",
            "232/232 [==============================] - 0s 2ms/step - loss: 0.8135 - accuracy: 0.6842\n",
            "Epoch 1/5\n",
            "928/928 [==============================] - 2s 2ms/step - loss: 0.9544 - accuracy: 0.6820\n",
            "Epoch 2/5\n",
            "928/928 [==============================] - 2s 2ms/step - loss: 0.8414 - accuracy: 0.6853\n",
            "Epoch 3/5\n",
            "928/928 [==============================] - 2s 2ms/step - loss: 0.8390 - accuracy: 0.6853\n",
            "Epoch 4/5\n",
            "928/928 [==============================] - 2s 2ms/step - loss: 0.8378 - accuracy: 0.6853\n",
            "Epoch 5/5\n",
            "928/928 [==============================] - 2s 2ms/step - loss: 0.8368 - accuracy: 0.6853\n",
            "232/232 [==============================] - 0s 1ms/step - loss: 0.8422 - accuracy: 0.6854\n",
            "Epoch 1/5\n",
            "928/928 [==============================] - 2s 2ms/step - loss: 0.8539 - accuracy: 0.6848\n",
            "Epoch 2/5\n",
            "928/928 [==============================] - 2s 2ms/step - loss: 0.8415 - accuracy: 0.6848\n",
            "Epoch 3/5\n",
            "928/928 [==============================] - 2s 2ms/step - loss: 0.8399 - accuracy: 0.6848\n",
            "Epoch 4/5\n",
            "928/928 [==============================] - 2s 2ms/step - loss: 0.8386 - accuracy: 0.6848\n",
            "Epoch 5/5\n",
            "928/928 [==============================] - 2s 2ms/step - loss: 0.8381 - accuracy: 0.6848\n",
            "232/232 [==============================] - 0s 1ms/step - loss: 0.8386 - accuracy: 0.6876\n",
            "Epoch 1/5\n",
            "928/928 [==============================] - 2s 2ms/step - loss: 0.8696 - accuracy: 0.6789\n",
            "Epoch 2/5\n",
            "928/928 [==============================] - 2s 2ms/step - loss: 0.8409 - accuracy: 0.6850\n",
            "Epoch 3/5\n",
            "928/928 [==============================] - 2s 2ms/step - loss: 0.8386 - accuracy: 0.6850\n",
            "Epoch 4/5\n",
            "928/928 [==============================] - 2s 2ms/step - loss: 0.8377 - accuracy: 0.6850\n",
            "Epoch 5/5\n",
            "928/928 [==============================] - 2s 2ms/step - loss: 0.8373 - accuracy: 0.6850\n",
            "232/232 [==============================] - 0s 1ms/step - loss: 0.8356 - accuracy: 0.6869\n",
            "Epoch 1/5\n",
            "928/928 [==============================] - 2s 2ms/step - loss: 0.8517 - accuracy: 0.6828\n",
            "Epoch 2/5\n",
            "928/928 [==============================] - 2s 2ms/step - loss: 0.8403 - accuracy: 0.6860\n",
            "Epoch 3/5\n",
            "928/928 [==============================] - 2s 2ms/step - loss: 0.8375 - accuracy: 0.6860\n",
            "Epoch 4/5\n",
            "928/928 [==============================] - 2s 2ms/step - loss: 0.8367 - accuracy: 0.6860\n",
            "Epoch 5/5\n",
            "928/928 [==============================] - 2s 2ms/step - loss: 0.8359 - accuracy: 0.6860\n",
            "232/232 [==============================] - 0s 1ms/step - loss: 0.8429 - accuracy: 0.6827\n",
            "Epoch 1/5\n",
            "928/928 [==============================] - 2s 2ms/step - loss: 0.8514 - accuracy: 0.6853\n",
            "Epoch 2/5\n",
            "928/928 [==============================] - 2s 2ms/step - loss: 0.8403 - accuracy: 0.6856\n",
            "Epoch 3/5\n",
            "928/928 [==============================] - 2s 2ms/step - loss: 0.8383 - accuracy: 0.6856\n",
            "Epoch 4/5\n",
            "928/928 [==============================] - 2s 2ms/step - loss: 0.8375 - accuracy: 0.6856\n",
            "Epoch 5/5\n",
            "928/928 [==============================] - 2s 2ms/step - loss: 0.8368 - accuracy: 0.6856\n",
            "232/232 [==============================] - 0s 1ms/step - loss: 0.8372 - accuracy: 0.6842\n",
            "Epoch 1/5\n",
            "928/928 [==============================] - 2s 2ms/step - loss: 0.8453 - accuracy: 0.6853\n",
            "Epoch 2/5\n",
            "928/928 [==============================] - 2s 2ms/step - loss: 0.8314 - accuracy: 0.6853\n",
            "Epoch 3/5\n",
            "928/928 [==============================] - 2s 2ms/step - loss: 0.8253 - accuracy: 0.6853\n",
            "Epoch 4/5\n",
            "928/928 [==============================] - 2s 2ms/step - loss: 0.8191 - accuracy: 0.6853\n",
            "Epoch 5/5\n",
            "928/928 [==============================] - 2s 2ms/step - loss: 0.8152 - accuracy: 0.6853\n",
            "232/232 [==============================] - 0s 1ms/step - loss: 0.8175 - accuracy: 0.6854\n",
            "Epoch 1/5\n",
            "928/928 [==============================] - 2s 2ms/step - loss: 0.8474 - accuracy: 0.6842\n",
            "Epoch 2/5\n",
            "928/928 [==============================] - 2s 2ms/step - loss: 0.8316 - accuracy: 0.6848\n",
            "Epoch 3/5\n",
            "928/928 [==============================] - 2s 2ms/step - loss: 0.8248 - accuracy: 0.6848\n",
            "Epoch 4/5\n",
            "928/928 [==============================] - 2s 2ms/step - loss: 0.8196 - accuracy: 0.6848\n",
            "Epoch 5/5\n",
            "928/928 [==============================] - 2s 2ms/step - loss: 0.8169 - accuracy: 0.6849\n",
            "232/232 [==============================] - 0s 1ms/step - loss: 0.8319 - accuracy: 0.6876\n",
            "Epoch 1/5\n",
            "928/928 [==============================] - 2s 2ms/step - loss: 0.8458 - accuracy: 0.6846\n",
            "Epoch 2/5\n",
            "928/928 [==============================] - 2s 2ms/step - loss: 0.8309 - accuracy: 0.6850\n",
            "Epoch 3/5\n",
            "928/928 [==============================] - 2s 2ms/step - loss: 0.8249 - accuracy: 0.6850\n",
            "Epoch 4/5\n",
            "928/928 [==============================] - 2s 2ms/step - loss: 0.8189 - accuracy: 0.6850\n",
            "Epoch 5/5\n",
            "928/928 [==============================] - 2s 2ms/step - loss: 0.8169 - accuracy: 0.6850\n",
            "232/232 [==============================] - 0s 1ms/step - loss: 0.8238 - accuracy: 0.6869\n",
            "Epoch 1/5\n",
            "928/928 [==============================] - 2s 2ms/step - loss: 0.8500 - accuracy: 0.6855\n",
            "Epoch 2/5\n",
            "928/928 [==============================] - 2s 2ms/step - loss: 0.8309 - accuracy: 0.6860\n",
            "Epoch 3/5\n",
            "928/928 [==============================] - 2s 2ms/step - loss: 0.8255 - accuracy: 0.6860\n",
            "Epoch 4/5\n",
            "928/928 [==============================] - 2s 2ms/step - loss: 0.8205 - accuracy: 0.6860\n",
            "Epoch 5/5\n",
            "928/928 [==============================] - 2s 2ms/step - loss: 0.8166 - accuracy: 0.6860\n",
            "232/232 [==============================] - 0s 1ms/step - loss: 0.8303 - accuracy: 0.6827\n",
            "Epoch 1/5\n",
            "928/928 [==============================] - 2s 2ms/step - loss: 0.8529 - accuracy: 0.6849\n",
            "Epoch 2/5\n",
            "928/928 [==============================] - 2s 2ms/step - loss: 0.8334 - accuracy: 0.6856\n",
            "Epoch 3/5\n",
            "928/928 [==============================] - 2s 2ms/step - loss: 0.8296 - accuracy: 0.6856\n",
            "Epoch 4/5\n",
            "928/928 [==============================] - 2s 2ms/step - loss: 0.8255 - accuracy: 0.6856\n",
            "Epoch 5/5\n",
            "928/928 [==============================] - 2s 2ms/step - loss: 0.8211 - accuracy: 0.6856\n",
            "232/232 [==============================] - 0s 1ms/step - loss: 0.8197 - accuracy: 0.6842\n",
            "Epoch 1/5\n",
            "928/928 [==============================] - 2s 2ms/step - loss: 0.8521 - accuracy: 0.6848\n",
            "Epoch 2/5\n",
            "928/928 [==============================] - 2s 2ms/step - loss: 0.8322 - accuracy: 0.6853\n",
            "Epoch 3/5\n",
            "928/928 [==============================] - 2s 2ms/step - loss: 0.8265 - accuracy: 0.6853\n",
            "Epoch 4/5\n",
            "928/928 [==============================] - 2s 2ms/step - loss: 0.8214 - accuracy: 0.6853\n",
            "Epoch 5/5\n",
            "928/928 [==============================] - 2s 2ms/step - loss: 0.8179 - accuracy: 0.6853\n",
            "232/232 [==============================] - 0s 1ms/step - loss: 0.8149 - accuracy: 0.6854\n",
            "Epoch 1/5\n",
            "928/928 [==============================] - 2s 2ms/step - loss: 0.8534 - accuracy: 0.6830\n",
            "Epoch 2/5\n",
            "928/928 [==============================] - 2s 2ms/step - loss: 0.8335 - accuracy: 0.6848\n",
            "Epoch 3/5\n",
            "928/928 [==============================] - 2s 2ms/step - loss: 0.8285 - accuracy: 0.6848\n",
            "Epoch 4/5\n",
            "928/928 [==============================] - 2s 2ms/step - loss: 0.8224 - accuracy: 0.6848\n",
            "Epoch 5/5\n",
            "928/928 [==============================] - 2s 2ms/step - loss: 0.8172 - accuracy: 0.6848\n",
            "232/232 [==============================] - 0s 1ms/step - loss: 0.8115 - accuracy: 0.6877\n",
            "Epoch 1/5\n",
            "928/928 [==============================] - 2s 2ms/step - loss: 0.8494 - accuracy: 0.6844\n",
            "Epoch 2/5\n",
            "928/928 [==============================] - 2s 2ms/step - loss: 0.8327 - accuracy: 0.6850\n",
            "Epoch 3/5\n",
            "928/928 [==============================] - 2s 2ms/step - loss: 0.8281 - accuracy: 0.6850\n",
            "Epoch 4/5\n",
            "928/928 [==============================] - 2s 2ms/step - loss: 0.8231 - accuracy: 0.6850\n",
            "Epoch 5/5\n",
            "928/928 [==============================] - 2s 2ms/step - loss: 0.8184 - accuracy: 0.6850\n",
            "232/232 [==============================] - 0s 1ms/step - loss: 0.8153 - accuracy: 0.6869\n",
            "Epoch 1/5\n",
            "928/928 [==============================] - 2s 2ms/step - loss: 0.8444 - accuracy: 0.6860\n",
            "Epoch 2/5\n",
            "928/928 [==============================] - 2s 2ms/step - loss: 0.8280 - accuracy: 0.6860\n",
            "Epoch 3/5\n",
            "928/928 [==============================] - 2s 2ms/step - loss: 0.8205 - accuracy: 0.6860\n",
            "Epoch 4/5\n",
            "928/928 [==============================] - 2s 2ms/step - loss: 0.8154 - accuracy: 0.6860\n",
            "Epoch 5/5\n",
            "928/928 [==============================] - 2s 2ms/step - loss: 0.8142 - accuracy: 0.6860\n",
            "232/232 [==============================] - 0s 2ms/step - loss: 0.8145 - accuracy: 0.6827\n",
            "Epoch 1/5\n",
            "928/928 [==============================] - 2s 2ms/step - loss: 0.8504 - accuracy: 0.6848\n",
            "Epoch 2/5\n",
            "928/928 [==============================] - 2s 2ms/step - loss: 0.8320 - accuracy: 0.6856\n",
            "Epoch 3/5\n",
            "928/928 [==============================] - 2s 2ms/step - loss: 0.8274 - accuracy: 0.6856\n",
            "Epoch 4/5\n",
            "928/928 [==============================] - 2s 2ms/step - loss: 0.8211 - accuracy: 0.6856\n",
            "Epoch 5/5\n",
            "928/928 [==============================] - 2s 2ms/step - loss: 0.8162 - accuracy: 0.6856\n",
            "232/232 [==============================] - 0s 1ms/step - loss: 0.8222 - accuracy: 0.6842\n",
            "Epoch 1/5\n",
            "464/464 [==============================] - 1s 2ms/step - loss: 0.8500 - accuracy: 0.6849\n",
            "Epoch 2/5\n",
            "464/464 [==============================] - 1s 2ms/step - loss: 0.8372 - accuracy: 0.6853\n",
            "Epoch 3/5\n",
            "464/464 [==============================] - 1s 2ms/step - loss: 0.8370 - accuracy: 0.6853\n",
            "Epoch 4/5\n",
            "464/464 [==============================] - 1s 2ms/step - loss: 0.8363 - accuracy: 0.6853\n",
            "Epoch 5/5\n",
            "464/464 [==============================] - 1s 2ms/step - loss: 0.8360 - accuracy: 0.6853\n",
            "116/116 [==============================] - 0s 1ms/step - loss: 0.8333 - accuracy: 0.6854\n",
            "Epoch 1/5\n",
            "464/464 [==============================] - 1s 2ms/step - loss: 4.4865 - accuracy: 0.5038\n",
            "Epoch 2/5\n",
            "464/464 [==============================] - 1s 2ms/step - loss: 0.8420 - accuracy: 0.6847\n",
            "Epoch 3/5\n",
            "464/464 [==============================] - 1s 2ms/step - loss: 0.8398 - accuracy: 0.6847\n",
            "Epoch 4/5\n",
            "464/464 [==============================] - 1s 2ms/step - loss: 0.8392 - accuracy: 0.6847\n",
            "Epoch 5/5\n",
            "464/464 [==============================] - 1s 2ms/step - loss: 0.8387 - accuracy: 0.6847\n",
            "116/116 [==============================] - 0s 1ms/step - loss: 0.8317 - accuracy: 0.6875\n",
            "Epoch 1/5\n",
            "464/464 [==============================] - 1s 2ms/step - loss: 3.1169 - accuracy: 0.6841\n",
            "Epoch 2/5\n",
            "464/464 [==============================] - 1s 2ms/step - loss: 3.1143 - accuracy: 0.6850\n",
            "Epoch 3/5\n",
            "464/464 [==============================] - 1s 2ms/step - loss: 3.1143 - accuracy: 0.6850\n",
            "Epoch 4/5\n",
            "464/464 [==============================] - 1s 2ms/step - loss: 3.1143 - accuracy: 0.6850\n",
            "Epoch 5/5\n",
            "464/464 [==============================] - 1s 2ms/step - loss: 3.1142 - accuracy: 0.6850\n",
            "116/116 [==============================] - 0s 1ms/step - loss: 3.1127 - accuracy: 0.6869\n",
            "Epoch 1/5\n",
            "464/464 [==============================] - 1s 2ms/step - loss: 13.5812 - accuracy: 0.1574\n",
            "Epoch 2/5\n",
            "464/464 [==============================] - 1s 2ms/step - loss: 13.5812 - accuracy: 0.1574\n",
            "Epoch 3/5\n",
            "464/464 [==============================] - 1s 2ms/step - loss: 13.5812 - accuracy: 0.1574\n",
            "Epoch 4/5\n",
            "464/464 [==============================] - 1s 2ms/step - loss: 13.5812 - accuracy: 0.1574\n",
            "Epoch 5/5\n",
            "464/464 [==============================] - 1s 2ms/step - loss: 13.5812 - accuracy: 0.1574\n",
            "116/116 [==============================] - 0s 1ms/step - loss: 13.5564 - accuracy: 0.1589\n",
            "Epoch 1/5\n",
            "464/464 [==============================] - 1s 2ms/step - loss: 1.1030 - accuracy: 0.1590\n",
            "Epoch 2/5\n",
            "464/464 [==============================] - 1s 2ms/step - loss: 1.0986 - accuracy: 0.1577\n",
            "Epoch 3/5\n",
            "464/464 [==============================] - 1s 2ms/step - loss: 1.0986 - accuracy: 0.1577\n",
            "Epoch 4/5\n",
            "464/464 [==============================] - 1s 2ms/step - loss: 1.0986 - accuracy: 0.1577\n",
            "Epoch 5/5\n",
            "464/464 [==============================] - 1s 2ms/step - loss: 1.0986 - accuracy: 0.1577\n",
            "116/116 [==============================] - 0s 1ms/step - loss: 1.0986 - accuracy: 0.1540\n",
            "Epoch 1/5\n",
            "464/464 [==============================] - 1s 2ms/step - loss: 1.0303 - accuracy: 0.6648\n",
            "Epoch 2/5\n",
            "464/464 [==============================] - 1s 2ms/step - loss: 0.8413 - accuracy: 0.6852\n",
            "Epoch 3/5\n",
            "464/464 [==============================] - 1s 2ms/step - loss: 0.8339 - accuracy: 0.6852\n",
            "Epoch 4/5\n",
            "464/464 [==============================] - 1s 2ms/step - loss: 0.8295 - accuracy: 0.6852\n",
            "Epoch 5/5\n",
            "464/464 [==============================] - 1s 2ms/step - loss: 0.8251 - accuracy: 0.6853\n",
            "116/116 [==============================] - 0s 1ms/step - loss: 0.8223 - accuracy: 0.6854\n",
            "Epoch 1/5\n",
            "464/464 [==============================] - 1s 2ms/step - loss: 5.0804 - accuracy: 0.6848\n",
            "Epoch 2/5\n",
            "464/464 [==============================] - 1s 2ms/step - loss: 5.0804 - accuracy: 0.6848\n",
            "Epoch 3/5\n",
            "464/464 [==============================] - 1s 2ms/step - loss: 5.0804 - accuracy: 0.6848\n",
            "Epoch 4/5\n",
            "464/464 [==============================] - 1s 2ms/step - loss: 5.0804 - accuracy: 0.6848\n",
            "Epoch 5/5\n",
            "464/464 [==============================] - 1s 2ms/step - loss: 5.0804 - accuracy: 0.6848\n",
            "116/116 [==============================] - 0s 1ms/step - loss: 5.0353 - accuracy: 0.6876\n",
            "Epoch 1/5\n",
            "464/464 [==============================] - 1s 2ms/step - loss: 0.9331 - accuracy: 0.6159\n",
            "Epoch 2/5\n",
            "464/464 [==============================] - 1s 2ms/step - loss: 0.8593 - accuracy: 0.6850\n",
            "Epoch 3/5\n",
            "464/464 [==============================] - 1s 2ms/step - loss: 0.8474 - accuracy: 0.6850\n",
            "Epoch 4/5\n",
            "464/464 [==============================] - 1s 2ms/step - loss: 0.8405 - accuracy: 0.6850\n",
            "Epoch 5/5\n",
            "464/464 [==============================] - 1s 2ms/step - loss: 0.8366 - accuracy: 0.6850\n",
            "116/116 [==============================] - 0s 1ms/step - loss: 0.8359 - accuracy: 0.6869\n",
            "Epoch 1/5\n",
            "464/464 [==============================] - 1s 2ms/step - loss: 2.9423 - accuracy: 0.6860\n",
            "Epoch 2/5\n",
            "464/464 [==============================] - 1s 2ms/step - loss: 2.9338 - accuracy: 0.6860\n",
            "Epoch 3/5\n",
            "464/464 [==============================] - 1s 2ms/step - loss: 2.9327 - accuracy: 0.6860\n",
            "Epoch 4/5\n",
            "464/464 [==============================] - 1s 2ms/step - loss: 2.9311 - accuracy: 0.6860\n",
            "Epoch 5/5\n",
            "464/464 [==============================] - 1s 2ms/step - loss: 2.9296 - accuracy: 0.6859\n",
            "116/116 [==============================] - 0s 1ms/step - loss: 3.0202 - accuracy: 0.6801\n",
            "Epoch 1/5\n",
            "464/464 [==============================] - 1s 2ms/step - loss: 2.9374 - accuracy: 0.6856\n",
            "Epoch 2/5\n",
            "464/464 [==============================] - 1s 2ms/step - loss: 2.9250 - accuracy: 0.6856\n",
            "Epoch 3/5\n",
            "464/464 [==============================] - 1s 2ms/step - loss: 2.9245 - accuracy: 0.6856\n",
            "Epoch 4/5\n",
            "464/464 [==============================] - 1s 2ms/step - loss: 2.9212 - accuracy: 0.6856\n",
            "Epoch 5/5\n",
            "464/464 [==============================] - 1s 2ms/step - loss: 2.9192 - accuracy: 0.6856\n",
            "116/116 [==============================] - 0s 1ms/step - loss: 2.9840 - accuracy: 0.6842\n",
            "Epoch 1/5\n",
            "464/464 [==============================] - 1s 2ms/step - loss: 1.3254 - accuracy: 0.6269\n",
            "Epoch 2/5\n",
            "464/464 [==============================] - 1s 2ms/step - loss: 0.9430 - accuracy: 0.6853\n",
            "Epoch 3/5\n",
            "464/464 [==============================] - 1s 2ms/step - loss: 0.8828 - accuracy: 0.6853\n",
            "Epoch 4/5\n",
            "464/464 [==============================] - 1s 2ms/step - loss: 0.8548 - accuracy: 0.6853\n",
            "Epoch 5/5\n",
            "464/464 [==============================] - 1s 2ms/step - loss: 0.8445 - accuracy: 0.6853\n",
            "116/116 [==============================] - 0s 1ms/step - loss: 0.8423 - accuracy: 0.6854\n",
            "Epoch 1/5\n",
            "464/464 [==============================] - 1s 2ms/step - loss: 1.2264 - accuracy: 0.1562\n",
            "Epoch 2/5\n",
            "464/464 [==============================] - 1s 2ms/step - loss: 1.0192 - accuracy: 0.1562\n",
            "Epoch 3/5\n",
            "464/464 [==============================] - 1s 2ms/step - loss: 1.0172 - accuracy: 0.1562\n",
            "Epoch 4/5\n",
            "464/464 [==============================] - 1s 2ms/step - loss: 1.0163 - accuracy: 0.1562\n",
            "Epoch 5/5\n",
            "464/464 [==============================] - 1s 2ms/step - loss: 1.0160 - accuracy: 0.1562\n",
            "116/116 [==============================] - 0s 1ms/step - loss: 1.0085 - accuracy: 0.1599\n",
            "Epoch 1/5\n",
            "464/464 [==============================] - 1s 2ms/step - loss: 1.0638 - accuracy: 0.6674\n",
            "Epoch 2/5\n",
            "464/464 [==============================] - 1s 2ms/step - loss: 1.0158 - accuracy: 0.6822\n",
            "Epoch 3/5\n",
            "464/464 [==============================] - 1s 2ms/step - loss: 1.0126 - accuracy: 0.6845\n",
            "Epoch 4/5\n",
            "464/464 [==============================] - 1s 2ms/step - loss: 0.9613 - accuracy: 0.6849\n",
            "Epoch 5/5\n",
            "464/464 [==============================] - 1s 2ms/step - loss: 0.8299 - accuracy: 0.6850\n",
            "116/116 [==============================] - 0s 1ms/step - loss: 0.8181 - accuracy: 0.6869\n",
            "Epoch 1/5\n",
            "464/464 [==============================] - 1s 2ms/step - loss: 1.0249 - accuracy: 0.3161\n",
            "Epoch 2/5\n",
            "464/464 [==============================] - 1s 2ms/step - loss: 1.0191 - accuracy: 0.4802\n",
            "Epoch 3/5\n",
            "464/464 [==============================] - 1s 2ms/step - loss: 1.0152 - accuracy: 0.5497\n",
            "Epoch 4/5\n",
            "464/464 [==============================] - 1s 2ms/step - loss: 0.8521 - accuracy: 0.6860\n",
            "Epoch 5/5\n",
            "464/464 [==============================] - 1s 2ms/step - loss: 0.8283 - accuracy: 0.6860\n",
            "116/116 [==============================] - 0s 1ms/step - loss: 0.8299 - accuracy: 0.6827\n",
            "Epoch 1/5\n",
            "464/464 [==============================] - 1s 2ms/step - loss: 0.8828 - accuracy: 0.6812\n",
            "Epoch 2/5\n",
            "464/464 [==============================] - 1s 2ms/step - loss: 0.8302 - accuracy: 0.6856\n",
            "Epoch 3/5\n",
            "464/464 [==============================] - 1s 2ms/step - loss: 0.8229 - accuracy: 0.6856\n",
            "Epoch 4/5\n",
            "464/464 [==============================] - 1s 2ms/step - loss: 0.8170 - accuracy: 0.6856\n",
            "Epoch 5/5\n",
            "464/464 [==============================] - 1s 2ms/step - loss: 0.8132 - accuracy: 0.6856\n",
            "116/116 [==============================] - 0s 1ms/step - loss: 0.8142 - accuracy: 0.6842\n",
            "Epoch 1/5\n",
            "464/464 [==============================] - 1s 2ms/step - loss: 0.8590 - accuracy: 0.6833\n",
            "Epoch 2/5\n",
            "464/464 [==============================] - 1s 2ms/step - loss: 0.8429 - accuracy: 0.6853\n",
            "Epoch 3/5\n",
            "464/464 [==============================] - 1s 2ms/step - loss: 0.8420 - accuracy: 0.6853\n",
            "Epoch 4/5\n",
            "464/464 [==============================] - 1s 2ms/step - loss: 0.8409 - accuracy: 0.6853\n",
            "Epoch 5/5\n",
            "464/464 [==============================] - 1s 2ms/step - loss: 0.8397 - accuracy: 0.6853\n",
            "116/116 [==============================] - 0s 1ms/step - loss: 0.8380 - accuracy: 0.6854\n",
            "Epoch 1/5\n",
            "464/464 [==============================] - 1s 2ms/step - loss: 0.8533 - accuracy: 0.6797\n",
            "Epoch 2/5\n",
            "464/464 [==============================] - 1s 2ms/step - loss: 0.8417 - accuracy: 0.6848\n",
            "Epoch 3/5\n",
            "464/464 [==============================] - 1s 2ms/step - loss: 0.8399 - accuracy: 0.6848\n",
            "Epoch 4/5\n",
            "464/464 [==============================] - 1s 2ms/step - loss: 0.8390 - accuracy: 0.6848\n",
            "Epoch 5/5\n",
            "464/464 [==============================] - 1s 2ms/step - loss: 0.8389 - accuracy: 0.6848\n",
            "116/116 [==============================] - 0s 1ms/step - loss: 0.8321 - accuracy: 0.6876\n",
            "Epoch 1/5\n",
            "464/464 [==============================] - 1s 2ms/step - loss: 0.8581 - accuracy: 0.6775\n",
            "Epoch 2/5\n",
            "464/464 [==============================] - 1s 2ms/step - loss: 0.8422 - accuracy: 0.6850\n",
            "Epoch 3/5\n",
            "464/464 [==============================] - 1s 2ms/step - loss: 0.8405 - accuracy: 0.6850\n",
            "Epoch 4/5\n",
            "464/464 [==============================] - 1s 2ms/step - loss: 0.8388 - accuracy: 0.6850\n",
            "Epoch 5/5\n",
            "464/464 [==============================] - 1s 2ms/step - loss: 0.8376 - accuracy: 0.6850\n",
            "116/116 [==============================] - 0s 1ms/step - loss: 0.8350 - accuracy: 0.6869\n",
            "Epoch 1/5\n",
            "464/464 [==============================] - 1s 2ms/step - loss: 0.8531 - accuracy: 0.6806\n",
            "Epoch 2/5\n",
            "464/464 [==============================] - 1s 2ms/step - loss: 0.8399 - accuracy: 0.6860\n",
            "Epoch 3/5\n",
            "464/464 [==============================] - 1s 2ms/step - loss: 0.8383 - accuracy: 0.6860\n",
            "Epoch 4/5\n",
            "464/464 [==============================] - 1s 2ms/step - loss: 0.8372 - accuracy: 0.6860\n",
            "Epoch 5/5\n",
            "464/464 [==============================] - 1s 2ms/step - loss: 0.8367 - accuracy: 0.6860\n",
            "116/116 [==============================] - 0s 1ms/step - loss: 0.8412 - accuracy: 0.6827\n",
            "Epoch 1/5\n",
            "464/464 [==============================] - 1s 2ms/step - loss: 0.8523 - accuracy: 0.6845\n",
            "Epoch 2/5\n",
            "464/464 [==============================] - 1s 2ms/step - loss: 0.8411 - accuracy: 0.6856\n",
            "Epoch 3/5\n",
            "464/464 [==============================] - 1s 2ms/step - loss: 0.8397 - accuracy: 0.6856\n",
            "Epoch 4/5\n",
            "464/464 [==============================] - 1s 2ms/step - loss: 0.8385 - accuracy: 0.6856\n",
            "Epoch 5/5\n",
            "464/464 [==============================] - 1s 2ms/step - loss: 0.8377 - accuracy: 0.6856\n",
            "116/116 [==============================] - 0s 1ms/step - loss: 0.8376 - accuracy: 0.6842\n",
            "Epoch 1/5\n",
            "464/464 [==============================] - 1s 2ms/step - loss: 0.8557 - accuracy: 0.6840\n",
            "Epoch 2/5\n",
            "464/464 [==============================] - 1s 2ms/step - loss: 0.8358 - accuracy: 0.6853\n",
            "Epoch 3/5\n",
            "464/464 [==============================] - 1s 2ms/step - loss: 0.8320 - accuracy: 0.6853\n",
            "Epoch 4/5\n",
            "464/464 [==============================] - 1s 2ms/step - loss: 0.8299 - accuracy: 0.6853\n",
            "Epoch 5/5\n",
            "464/464 [==============================] - 1s 2ms/step - loss: 0.8271 - accuracy: 0.6853\n",
            "116/116 [==============================] - 0s 1ms/step - loss: 0.8254 - accuracy: 0.6854\n",
            "Epoch 1/5\n",
            "464/464 [==============================] - 1s 2ms/step - loss: 0.8631 - accuracy: 0.6848\n",
            "Epoch 2/5\n",
            "464/464 [==============================] - 1s 2ms/step - loss: 0.8370 - accuracy: 0.6848\n",
            "Epoch 3/5\n",
            "464/464 [==============================] - 1s 2ms/step - loss: 0.8331 - accuracy: 0.6848\n",
            "Epoch 4/5\n",
            "464/464 [==============================] - 1s 2ms/step - loss: 0.8304 - accuracy: 0.6848\n",
            "Epoch 5/5\n",
            "464/464 [==============================] - 1s 2ms/step - loss: 0.8274 - accuracy: 0.6848\n",
            "116/116 [==============================] - 0s 1ms/step - loss: 0.8193 - accuracy: 0.6876\n",
            "Epoch 1/5\n",
            "464/464 [==============================] - 1s 2ms/step - loss: 1.0242 - accuracy: 0.6837\n",
            "Epoch 2/5\n",
            "464/464 [==============================] - 1s 2ms/step - loss: 0.9165 - accuracy: 0.6850\n",
            "Epoch 3/5\n",
            "464/464 [==============================] - 1s 2ms/step - loss: 0.8598 - accuracy: 0.6850\n",
            "Epoch 4/5\n",
            "464/464 [==============================] - 1s 2ms/step - loss: 0.8433 - accuracy: 0.6850\n",
            "Epoch 5/5\n",
            "464/464 [==============================] - 1s 2ms/step - loss: 0.8416 - accuracy: 0.6850\n",
            "116/116 [==============================] - 0s 1ms/step - loss: 0.8387 - accuracy: 0.6869\n",
            "Epoch 1/5\n",
            "464/464 [==============================] - 1s 2ms/step - loss: 0.8538 - accuracy: 0.6803\n",
            "Epoch 2/5\n",
            "464/464 [==============================] - 1s 2ms/step - loss: 0.8307 - accuracy: 0.6860\n",
            "Epoch 3/5\n",
            "464/464 [==============================] - 1s 2ms/step - loss: 0.8253 - accuracy: 0.6860\n",
            "Epoch 4/5\n",
            "464/464 [==============================] - 1s 2ms/step - loss: 0.8191 - accuracy: 0.6860\n",
            "Epoch 5/5\n",
            "464/464 [==============================] - 1s 2ms/step - loss: 0.8161 - accuracy: 0.6859\n",
            "116/116 [==============================] - 0s 1ms/step - loss: 0.8163 - accuracy: 0.6833\n",
            "Epoch 1/5\n",
            "464/464 [==============================] - 1s 2ms/step - loss: 0.8497 - accuracy: 0.6856\n",
            "Epoch 2/5\n",
            "464/464 [==============================] - 1s 2ms/step - loss: 0.8342 - accuracy: 0.6856\n",
            "Epoch 3/5\n",
            "464/464 [==============================] - 1s 2ms/step - loss: 0.8301 - accuracy: 0.6856\n",
            "Epoch 4/5\n",
            "464/464 [==============================] - 1s 2ms/step - loss: 0.8262 - accuracy: 0.6856\n",
            "Epoch 5/5\n",
            "464/464 [==============================] - 1s 2ms/step - loss: 0.8214 - accuracy: 0.6856\n",
            "116/116 [==============================] - 0s 1ms/step - loss: 0.8229 - accuracy: 0.6842\n",
            "Epoch 1/5\n",
            "464/464 [==============================] - 1s 2ms/step - loss: 0.8593 - accuracy: 0.6821\n",
            "Epoch 2/5\n",
            "464/464 [==============================] - 1s 2ms/step - loss: 0.8349 - accuracy: 0.6853\n",
            "Epoch 3/5\n",
            "464/464 [==============================] - 1s 2ms/step - loss: 0.8296 - accuracy: 0.6853\n",
            "Epoch 4/5\n",
            "464/464 [==============================] - 1s 2ms/step - loss: 0.8249 - accuracy: 0.6853\n",
            "Epoch 5/5\n",
            "464/464 [==============================] - 1s 2ms/step - loss: 0.8210 - accuracy: 0.6853\n",
            "116/116 [==============================] - 0s 1ms/step - loss: 0.8169 - accuracy: 0.6854\n",
            "Epoch 1/5\n",
            "464/464 [==============================] - 1s 2ms/step - loss: 0.8588 - accuracy: 0.6848\n",
            "Epoch 2/5\n",
            "464/464 [==============================] - 1s 2ms/step - loss: 0.8363 - accuracy: 0.6848\n",
            "Epoch 3/5\n",
            "464/464 [==============================] - 1s 2ms/step - loss: 0.8322 - accuracy: 0.6848\n",
            "Epoch 4/5\n",
            "464/464 [==============================] - 1s 2ms/step - loss: 0.8290 - accuracy: 0.6848\n",
            "Epoch 5/5\n",
            "464/464 [==============================] - 1s 2ms/step - loss: 0.8252 - accuracy: 0.6848\n",
            "116/116 [==============================] - 0s 1ms/step - loss: 0.8170 - accuracy: 0.6876\n",
            "Epoch 1/5\n",
            "464/464 [==============================] - 1s 2ms/step - loss: 0.8520 - accuracy: 0.6850\n",
            "Epoch 2/5\n",
            "464/464 [==============================] - 1s 2ms/step - loss: 0.8320 - accuracy: 0.6850\n",
            "Epoch 3/5\n",
            "464/464 [==============================] - 1s 2ms/step - loss: 0.8275 - accuracy: 0.6850\n",
            "Epoch 4/5\n",
            "464/464 [==============================] - 1s 2ms/step - loss: 0.8227 - accuracy: 0.6850\n",
            "Epoch 5/5\n",
            "464/464 [==============================] - 1s 2ms/step - loss: 0.8173 - accuracy: 0.6850\n",
            "116/116 [==============================] - 0s 1ms/step - loss: 0.8134 - accuracy: 0.6869\n",
            "Epoch 1/5\n",
            "464/464 [==============================] - 1s 2ms/step - loss: 0.8559 - accuracy: 0.6848\n",
            "Epoch 2/5\n",
            "464/464 [==============================] - 1s 2ms/step - loss: 0.8326 - accuracy: 0.6860\n",
            "Epoch 3/5\n",
            "464/464 [==============================] - 1s 2ms/step - loss: 0.8287 - accuracy: 0.6860\n",
            "Epoch 4/5\n",
            "464/464 [==============================] - 1s 2ms/step - loss: 0.8243 - accuracy: 0.6860\n",
            "Epoch 5/5\n",
            "464/464 [==============================] - 1s 2ms/step - loss: 0.8201 - accuracy: 0.6860\n",
            "116/116 [==============================] - 0s 2ms/step - loss: 0.8211 - accuracy: 0.6827\n",
            "Epoch 1/5\n",
            "464/464 [==============================] - 1s 2ms/step - loss: 0.8559 - accuracy: 0.6808\n",
            "Epoch 2/5\n",
            "464/464 [==============================] - 1s 2ms/step - loss: 0.8343 - accuracy: 0.6856\n",
            "Epoch 3/5\n",
            "464/464 [==============================] - 1s 2ms/step - loss: 0.8298 - accuracy: 0.6856\n",
            "Epoch 4/5\n",
            "464/464 [==============================] - 1s 2ms/step - loss: 0.8247 - accuracy: 0.6856\n",
            "Epoch 5/5\n",
            "464/464 [==============================] - 1s 2ms/step - loss: 0.8176 - accuracy: 0.6856\n",
            "116/116 [==============================] - 0s 1ms/step - loss: 0.8242 - accuracy: 0.6842\n",
            "Epoch 1/5\n",
            "464/464 [==============================] - 1s 2ms/step - loss: 0.8654 - accuracy: 0.6817\n",
            "Epoch 2/5\n",
            "464/464 [==============================] - 1s 2ms/step - loss: 0.8418 - accuracy: 0.6853\n",
            "Epoch 3/5\n",
            "464/464 [==============================] - 1s 2ms/step - loss: 0.8407 - accuracy: 0.6853\n",
            "Epoch 4/5\n",
            "464/464 [==============================] - 1s 2ms/step - loss: 0.8392 - accuracy: 0.6853\n",
            "Epoch 5/5\n",
            "464/464 [==============================] - 1s 2ms/step - loss: 0.8378 - accuracy: 0.6853\n",
            "116/116 [==============================] - 0s 1ms/step - loss: 0.8369 - accuracy: 0.6854\n",
            "Epoch 1/5\n",
            "464/464 [==============================] - 1s 2ms/step - loss: 0.8684 - accuracy: 0.6806\n",
            "Epoch 2/5\n",
            "464/464 [==============================] - 1s 2ms/step - loss: 0.8421 - accuracy: 0.6848\n",
            "Epoch 3/5\n",
            "464/464 [==============================] - 1s 2ms/step - loss: 0.8410 - accuracy: 0.6848\n",
            "Epoch 4/5\n",
            "464/464 [==============================] - 1s 2ms/step - loss: 0.8397 - accuracy: 0.6848\n",
            "Epoch 5/5\n",
            "464/464 [==============================] - 1s 2ms/step - loss: 0.8388 - accuracy: 0.6848\n",
            "116/116 [==============================] - 0s 1ms/step - loss: 0.8324 - accuracy: 0.6876\n",
            "Epoch 1/5\n",
            "464/464 [==============================] - 1s 2ms/step - loss: 0.8673 - accuracy: 0.6850\n",
            "Epoch 2/5\n",
            "464/464 [==============================] - 1s 2ms/step - loss: 0.8425 - accuracy: 0.6850\n",
            "Epoch 3/5\n",
            "464/464 [==============================] - 1s 2ms/step - loss: 0.8416 - accuracy: 0.6850\n",
            "Epoch 4/5\n",
            "464/464 [==============================] - 1s 2ms/step - loss: 0.8401 - accuracy: 0.6850\n",
            "Epoch 5/5\n",
            "464/464 [==============================] - 1s 2ms/step - loss: 0.8389 - accuracy: 0.6850\n",
            "116/116 [==============================] - 0s 1ms/step - loss: 0.8356 - accuracy: 0.6869\n",
            "Epoch 1/5\n",
            "464/464 [==============================] - 1s 2ms/step - loss: 0.8796 - accuracy: 0.6848\n",
            "Epoch 2/5\n",
            "464/464 [==============================] - 1s 2ms/step - loss: 0.8409 - accuracy: 0.6860\n",
            "Epoch 3/5\n",
            "464/464 [==============================] - 1s 2ms/step - loss: 0.8398 - accuracy: 0.6860\n",
            "Epoch 4/5\n",
            "464/464 [==============================] - 1s 2ms/step - loss: 0.8380 - accuracy: 0.6860\n",
            "Epoch 5/5\n",
            "464/464 [==============================] - 1s 2ms/step - loss: 0.8369 - accuracy: 0.6860\n",
            "116/116 [==============================] - 0s 1ms/step - loss: 0.8409 - accuracy: 0.6827\n",
            "Epoch 1/5\n",
            "464/464 [==============================] - 1s 2ms/step - loss: 0.8598 - accuracy: 0.6856\n",
            "Epoch 2/5\n",
            "464/464 [==============================] - 1s 2ms/step - loss: 0.8408 - accuracy: 0.6856\n",
            "Epoch 3/5\n",
            "464/464 [==============================] - 1s 2ms/step - loss: 0.8397 - accuracy: 0.6856\n",
            "Epoch 4/5\n",
            "464/464 [==============================] - 1s 2ms/step - loss: 0.8380 - accuracy: 0.6856\n",
            "Epoch 5/5\n",
            "464/464 [==============================] - 1s 2ms/step - loss: 0.8370 - accuracy: 0.6856\n",
            "116/116 [==============================] - 0s 1ms/step - loss: 0.8369 - accuracy: 0.6842\n",
            "Epoch 1/5\n",
            "464/464 [==============================] - 1s 2ms/step - loss: 0.8500 - accuracy: 0.6843\n",
            "Epoch 2/5\n",
            "464/464 [==============================] - 1s 2ms/step - loss: 0.8333 - accuracy: 0.6853\n",
            "Epoch 3/5\n",
            "464/464 [==============================] - 1s 2ms/step - loss: 0.8287 - accuracy: 0.6853\n",
            "Epoch 4/5\n",
            "464/464 [==============================] - 1s 2ms/step - loss: 0.8238 - accuracy: 0.6853\n",
            "Epoch 5/5\n",
            "464/464 [==============================] - 1s 2ms/step - loss: 0.8188 - accuracy: 0.6853\n",
            "116/116 [==============================] - 0s 1ms/step - loss: 0.8147 - accuracy: 0.6854\n",
            "Epoch 1/5\n",
            "464/464 [==============================] - 1s 2ms/step - loss: 0.8554 - accuracy: 0.6836\n",
            "Epoch 2/5\n",
            "464/464 [==============================] - 1s 2ms/step - loss: 0.8345 - accuracy: 0.6848\n",
            "Epoch 3/5\n",
            "464/464 [==============================] - 1s 2ms/step - loss: 0.8305 - accuracy: 0.6848\n",
            "Epoch 4/5\n",
            "464/464 [==============================] - 1s 2ms/step - loss: 0.8256 - accuracy: 0.6848\n",
            "Epoch 5/5\n",
            "464/464 [==============================] - 1s 2ms/step - loss: 0.8210 - accuracy: 0.6848\n",
            "116/116 [==============================] - 0s 1ms/step - loss: 0.8127 - accuracy: 0.6876\n",
            "Epoch 1/5\n",
            "464/464 [==============================] - 1s 2ms/step - loss: 0.8523 - accuracy: 0.6848\n",
            "Epoch 2/5\n",
            "464/464 [==============================] - 1s 2ms/step - loss: 0.8321 - accuracy: 0.6850\n",
            "Epoch 3/5\n",
            "464/464 [==============================] - 1s 2ms/step - loss: 0.8284 - accuracy: 0.6850\n",
            "Epoch 4/5\n",
            "464/464 [==============================] - 1s 2ms/step - loss: 0.8233 - accuracy: 0.6850\n",
            "Epoch 5/5\n",
            "464/464 [==============================] - 1s 2ms/step - loss: 0.8195 - accuracy: 0.6850\n",
            "116/116 [==============================] - 0s 1ms/step - loss: 0.8144 - accuracy: 0.6869\n",
            "Epoch 1/5\n",
            "464/464 [==============================] - 1s 2ms/step - loss: 0.8550 - accuracy: 0.6860\n",
            "Epoch 2/5\n",
            "464/464 [==============================] - 1s 2ms/step - loss: 0.8333 - accuracy: 0.6860\n",
            "Epoch 3/5\n",
            "464/464 [==============================] - 1s 2ms/step - loss: 0.8289 - accuracy: 0.6860\n",
            "Epoch 4/5\n",
            "464/464 [==============================] - 1s 2ms/step - loss: 0.8246 - accuracy: 0.6860\n",
            "Epoch 5/5\n",
            "464/464 [==============================] - 1s 2ms/step - loss: 0.8200 - accuracy: 0.6860\n",
            "116/116 [==============================] - 0s 1ms/step - loss: 0.8230 - accuracy: 0.6827\n",
            "Epoch 1/5\n",
            "464/464 [==============================] - 1s 2ms/step - loss: 0.8633 - accuracy: 0.6843\n",
            "Epoch 2/5\n",
            "464/464 [==============================] - 1s 2ms/step - loss: 0.8353 - accuracy: 0.6856\n",
            "Epoch 3/5\n",
            "464/464 [==============================] - 1s 2ms/step - loss: 0.8303 - accuracy: 0.6856\n",
            "Epoch 4/5\n",
            "464/464 [==============================] - 1s 2ms/step - loss: 0.8259 - accuracy: 0.6856\n",
            "Epoch 5/5\n",
            "464/464 [==============================] - 1s 2ms/step - loss: 0.8199 - accuracy: 0.6857\n",
            "116/116 [==============================] - 0s 1ms/step - loss: 0.8221 - accuracy: 0.6842\n",
            "Epoch 1/5\n",
            "464/464 [==============================] - 1s 2ms/step - loss: 0.8566 - accuracy: 0.6853\n",
            "Epoch 2/5\n",
            "464/464 [==============================] - 1s 2ms/step - loss: 0.8333 - accuracy: 0.6853\n",
            "Epoch 3/5\n",
            "464/464 [==============================] - 1s 2ms/step - loss: 0.8283 - accuracy: 0.6853\n",
            "Epoch 4/5\n",
            "464/464 [==============================] - 1s 2ms/step - loss: 0.8229 - accuracy: 0.6853\n",
            "Epoch 5/5\n",
            "464/464 [==============================] - 1s 2ms/step - loss: 0.8182 - accuracy: 0.6853\n",
            "116/116 [==============================] - 0s 1ms/step - loss: 0.8148 - accuracy: 0.6854\n",
            "Epoch 1/5\n",
            "464/464 [==============================] - 1s 2ms/step - loss: 0.8596 - accuracy: 0.6813\n",
            "Epoch 2/5\n",
            "464/464 [==============================] - 1s 2ms/step - loss: 0.8322 - accuracy: 0.6848\n",
            "Epoch 3/5\n",
            "464/464 [==============================] - 1s 2ms/step - loss: 0.8262 - accuracy: 0.6848\n",
            "Epoch 4/5\n",
            "464/464 [==============================] - 1s 2ms/step - loss: 0.8198 - accuracy: 0.6848\n",
            "Epoch 5/5\n",
            "464/464 [==============================] - 1s 2ms/step - loss: 0.8171 - accuracy: 0.6848\n",
            "116/116 [==============================] - 0s 1ms/step - loss: 0.8119 - accuracy: 0.6876\n",
            "Epoch 1/5\n",
            "464/464 [==============================] - 1s 2ms/step - loss: 0.8602 - accuracy: 0.6838\n",
            "Epoch 2/5\n",
            "464/464 [==============================] - 1s 2ms/step - loss: 0.8334 - accuracy: 0.6850\n",
            "Epoch 3/5\n",
            "464/464 [==============================] - 1s 2ms/step - loss: 0.8286 - accuracy: 0.6850\n",
            "Epoch 4/5\n",
            "464/464 [==============================] - 1s 2ms/step - loss: 0.8235 - accuracy: 0.6850\n",
            "Epoch 5/5\n",
            "464/464 [==============================] - 1s 2ms/step - loss: 0.8201 - accuracy: 0.6850\n",
            "116/116 [==============================] - 0s 1ms/step - loss: 0.8149 - accuracy: 0.6869\n",
            "Epoch 1/5\n",
            "464/464 [==============================] - 1s 2ms/step - loss: 0.8659 - accuracy: 0.6748\n",
            "Epoch 2/5\n",
            "464/464 [==============================] - 1s 2ms/step - loss: 0.8335 - accuracy: 0.6860\n",
            "Epoch 3/5\n",
            "464/464 [==============================] - 1s 2ms/step - loss: 0.8288 - accuracy: 0.6860\n",
            "Epoch 4/5\n",
            "464/464 [==============================] - 1s 2ms/step - loss: 0.8248 - accuracy: 0.6860\n",
            "Epoch 5/5\n",
            "464/464 [==============================] - 1s 2ms/step - loss: 0.8208 - accuracy: 0.6860\n",
            "116/116 [==============================] - 0s 1ms/step - loss: 0.8240 - accuracy: 0.6827\n",
            "Epoch 1/5\n",
            "464/464 [==============================] - 1s 2ms/step - loss: 0.8626 - accuracy: 0.6832\n",
            "Epoch 2/5\n",
            "464/464 [==============================] - 1s 2ms/step - loss: 0.8337 - accuracy: 0.6856\n",
            "Epoch 3/5\n",
            "464/464 [==============================] - 1s 2ms/step - loss: 0.8285 - accuracy: 0.6856\n",
            "Epoch 4/5\n",
            "464/464 [==============================] - 1s 2ms/step - loss: 0.8234 - accuracy: 0.6856\n",
            "Epoch 5/5\n",
            "464/464 [==============================] - 1s 2ms/step - loss: 0.8189 - accuracy: 0.6856\n",
            "116/116 [==============================] - 0s 1ms/step - loss: 0.8171 - accuracy: 0.6842\n",
            "Epoch 1/5\n",
            "580/580 [==============================] - 1s 2ms/step - loss: 0.8466 - accuracy: 0.6843\n",
            "Epoch 2/5\n",
            "580/580 [==============================] - 1s 2ms/step - loss: 0.8310 - accuracy: 0.6854\n",
            "Epoch 3/5\n",
            "580/580 [==============================] - 1s 2ms/step - loss: 0.8247 - accuracy: 0.6854\n",
            "Epoch 4/5\n",
            "580/580 [==============================] - 1s 2ms/step - loss: 0.8189 - accuracy: 0.6854\n",
            "Epoch 5/5\n",
            "580/580 [==============================] - 1s 2ms/step - loss: 0.8153 - accuracy: 0.6854\n"
          ],
          "name": "stdout"
        },
        {
          "output_type": "execute_result",
          "data": {
            "text/plain": [
              "GridSearchCV(cv=None, error_score=nan,\n",
              "             estimator=<tensorflow.python.keras.wrappers.scikit_learn.KerasClassifier object at 0x7f6dc188eb00>,\n",
              "             iid='deprecated', n_jobs=None,\n",
              "             param_grid={'batch_size': [50, 100], 'epochs': [5],\n",
              "                         'init': ['glorot_uniform', 'random_normal',\n",
              "                                  'random_uniform'],\n",
              "                         'optimizer': ['sgd', 'rmsprop', 'adam']},\n",
              "             pre_dispatch='2*n_jobs', refit=True, return_train_score=False,\n",
              "             scoring=None, verbose=0)"
            ]
          },
          "metadata": {
            "tags": []
          },
          "execution_count": 71
        }
      ]
    },
    {
      "cell_type": "code",
      "metadata": {
        "id": "NjOZvtQ5DGhU",
        "outputId": "6e958872-cc4b-4e62-bc29-7e352788e3ce",
        "colab": {
          "base_uri": "https://localhost:8080/"
        }
      },
      "source": [
        "print(\"Best parameters for logistic regression: \",gs_keras_NN.best_params_)"
      ],
      "execution_count": null,
      "outputs": [
        {
          "output_type": "stream",
          "text": [
            "Best parameters for logistic regression:  {'batch_size': 100, 'epochs': 5, 'init': 'random_normal', 'optimizer': 'rmsprop'}\n"
          ],
          "name": "stdout"
        }
      ]
    },
    {
      "cell_type": "markdown",
      "metadata": {
        "id": "uGEzZSOSDJyn"
      },
      "source": [
        "#### Best Params Model"
      ]
    },
    {
      "cell_type": "code",
      "metadata": {
        "id": "kQeFIMxzDLwc"
      },
      "source": [
        "bestParams_keras_NN = KerasClassifier(build_fn=threeLayeredModel,\n",
        "                                      optimizer=gs_keras_NN.best_params_['optimizer'],\n",
        "                                      init=gs_keras_NN.best_params_['init'],\n",
        "                                      epochs=250,\n",
        "                                      batch_size=gs_keras_NN.best_params_['batch_size'],\n",
        "                                      verbose=0)"
      ],
      "execution_count": null,
      "outputs": []
    },
    {
      "cell_type": "code",
      "metadata": {
        "id": "BIQcUGM54v8P",
        "outputId": "60bc4703-8a8f-43d2-9af5-6c5630d338b4",
        "colab": {
          "base_uri": "https://localhost:8080/"
        }
      },
      "source": [
        "bestParams_keras_NN.fit(train_modCloth_X, dummy_train_modCloth_Y)"
      ],
      "execution_count": null,
      "outputs": [
        {
          "output_type": "execute_result",
          "data": {
            "text/plain": [
              "<tensorflow.python.keras.callbacks.History at 0x7f6dc1430978>"
            ]
          },
          "metadata": {
            "tags": []
          },
          "execution_count": 74
        }
      ]
    },
    {
      "cell_type": "code",
      "metadata": {
        "id": "CS8noUBC4-VV",
        "outputId": "3a0d8d16-545f-4129-903d-cb8062cf5fb1",
        "colab": {
          "base_uri": "https://localhost:8080/"
        }
      },
      "source": [
        "keras_NN_predictions_valid_X = bestParams_keras_NN.predict(valid_modCloth_X)\n",
        "# decoded_keras_NN_predictions_valid_X = encoder.inverse_transform(keras_NN_predictions_valid_X)"
      ],
      "execution_count": null,
      "outputs": [
        {
          "output_type": "stream",
          "text": [
            "WARNING:tensorflow:From /usr/local/lib/python3.6/dist-packages/tensorflow/python/keras/wrappers/scikit_learn.py:241: Sequential.predict_classes (from tensorflow.python.keras.engine.sequential) is deprecated and will be removed after 2021-01-01.\n",
            "Instructions for updating:\n",
            "Please use instead:* `np.argmax(model.predict(x), axis=-1)`,   if your model does multi-class classification   (e.g. if it uses a `softmax` last-layer activation).* `(model.predict(x) > 0.5).astype(\"int32\")`,   if your model does binary classification   (e.g. if it uses a `sigmoid` last-layer activation).\n"
          ],
          "name": "stdout"
        }
      ]
    },
    {
      "cell_type": "markdown",
      "metadata": {
        "id": "_y-YMFKVV-Cm"
      },
      "source": [
        "#### Classification Report"
      ]
    },
    {
      "cell_type": "code",
      "metadata": {
        "id": "Hn0jefnAWHid",
        "outputId": "d9b5f37b-2421-411b-afa5-7371f4ee9b25",
        "colab": {
          "base_uri": "https://localhost:8080/"
        }
      },
      "source": [
        "# print(classification_report(valid_modCloth_Y, decoded_keras_NN_predictions_valid_X, digits=5))\n",
        "print(classification_report(valid_modCloth_Y, keras_NN_predictions_valid_X, digits=5))"
      ],
      "execution_count": null,
      "outputs": [
        {
          "output_type": "stream",
          "text": [
            "              precision    recall  f1-score   support\n",
            "\n",
            "           0    0.42009   0.04743   0.08524      3879\n",
            "           1    0.69119   0.98979   0.81397     17039\n",
            "           2    0.00000   0.00000   0.00000      3920\n",
            "\n",
            "    accuracy                        0.68641     24838\n",
            "   macro avg    0.37043   0.34574   0.29974     24838\n",
            "weighted avg    0.53977   0.68641   0.57170     24838\n",
            "\n"
          ],
          "name": "stdout"
        }
      ]
    },
    {
      "cell_type": "markdown",
      "metadata": {
        "id": "SwiBUjSQXZ2V"
      },
      "source": [
        "### **RentTheRunWay**"
      ]
    },
    {
      "cell_type": "markdown",
      "metadata": {
        "id": "h4wW2I21XZ2b"
      },
      "source": [
        "#### Convert categorical output to numerical via one-hot encoding"
      ]
    },
    {
      "cell_type": "code",
      "metadata": {
        "id": "tFaQFHyOXZ2c"
      },
      "source": [
        "# # Encoding categorical unique values as integers\n",
        "# encoder = LabelEncoder()\n",
        "# encoder.fit(train_rentTheRunWay_Y)\n",
        "# encoded_train_rentTheRunWay_Y = encoder.transform(train_rentTheRunWay_Y)\n",
        "\n",
        "# # Performing one-hot encoding\n",
        "# dummy_train_rentTheRunWay_Y = np_utils.to_categorical(encoded_train_rentTheRunWay_Y)\n",
        "\n",
        "dummy_train_rentTheRunWay_Y = np_utils.to_categorical(train_rentTheRunWay_Y, num_classes=3)"
      ],
      "execution_count": null,
      "outputs": []
    },
    {
      "cell_type": "markdown",
      "metadata": {
        "id": "hlHRhUisXZ2g"
      },
      "source": [
        "#### Defining our NN model"
      ]
    },
    {
      "cell_type": "code",
      "metadata": {
        "id": "kwV7xlQ8XZ2g"
      },
      "source": [
        "def threeLayeredModel(optimizer='adam', init='glorot_uniform'):\n",
        "  model = Sequential()\n",
        "\n",
        "  # Defining model layers\n",
        "  model.add(Dense(14, input_dim=14, kernel_initializer=init, activation='relu'))\n",
        "  model.add(Dense(9, kernel_initializer=init, activation='relu'))\n",
        "  model.add(Dense(3,kernel_initializer=init, activation='sigmoid'))\n",
        "  \n",
        "  # Compile model\n",
        "  model.compile(loss='categorical_crossentropy', optimizer=optimizer, metrics=['accuracy'])\n",
        "  return model"
      ],
      "execution_count": null,
      "outputs": []
    },
    {
      "cell_type": "markdown",
      "metadata": {
        "id": "uchr7arJXZ2j"
      },
      "source": [
        "#### GridSearchCV"
      ]
    },
    {
      "cell_type": "code",
      "metadata": {
        "id": "9CANccsIXZ2j"
      },
      "source": [
        "grid_values_keras_NN = {\n",
        "  'optimizer': ['sgd', 'rmsprop', 'adam'],\n",
        "  'init': ['glorot_uniform', 'random_normal', 'random_uniform'],\n",
        "  'batch_size': [50, 100],\n",
        "  'epochs': [5]\n",
        "}"
      ],
      "execution_count": null,
      "outputs": []
    },
    {
      "cell_type": "code",
      "metadata": {
        "id": "eHINpTQDXZ2l"
      },
      "source": [
        "estimator = KerasClassifier(build_fn=threeLayeredModel, verbose=1)"
      ],
      "execution_count": null,
      "outputs": []
    },
    {
      "cell_type": "code",
      "metadata": {
        "id": "6kqEGVdWXZ2n"
      },
      "source": [
        "gs_keras_NN = GridSearchCV(estimator=estimator, param_grid=grid_values_keras_NN)"
      ],
      "execution_count": null,
      "outputs": []
    },
    {
      "cell_type": "code",
      "metadata": {
        "id": "vyVh3AhMXZ2p",
        "outputId": "0f5808ac-2dcf-4362-9312-d22cca0ba938",
        "colab": {
          "base_uri": "https://localhost:8080/"
        }
      },
      "source": [
        "gs_keras_NN.fit(train_rentTheRunWay_X, dummy_train_rentTheRunWay_Y)"
      ],
      "execution_count": null,
      "outputs": [
        {
          "output_type": "stream",
          "text": [
            "Epoch 1/5\n",
            "2027/2027 [==============================] - 4s 2ms/step - loss: 4.1791 - accuracy: 0.7405\n",
            "Epoch 2/5\n",
            "2027/2027 [==============================] - 4s 2ms/step - loss: 4.1800 - accuracy: 0.7407\n",
            "Epoch 3/5\n",
            "2027/2027 [==============================] - 4s 2ms/step - loss: 4.1800 - accuracy: 0.7407\n",
            "Epoch 4/5\n",
            "2027/2027 [==============================] - 4s 2ms/step - loss: 4.1800 - accuracy: 0.7407\n",
            "Epoch 5/5\n",
            "2027/2027 [==============================] - 4s 2ms/step - loss: 4.1800 - accuracy: 0.7407\n",
            "507/507 [==============================] - 1s 1ms/step - loss: 4.1929 - accuracy: 0.7399\n",
            "Epoch 1/5\n",
            "2027/2027 [==============================] - 4s 2ms/step - loss: 1.0990 - accuracy: 0.1184\n",
            "Epoch 2/5\n",
            "2027/2027 [==============================] - 4s 2ms/step - loss: 1.0986 - accuracy: 0.1541\n",
            "Epoch 3/5\n",
            "2027/2027 [==============================] - 4s 2ms/step - loss: 1.0986 - accuracy: 0.1857\n",
            "Epoch 4/5\n",
            "2027/2027 [==============================] - 4s 2ms/step - loss: 1.0986 - accuracy: 0.2145\n",
            "Epoch 5/5\n",
            "2027/2027 [==============================] - 4s 2ms/step - loss: 1.0986 - accuracy: 0.2371\n",
            "507/507 [==============================] - 1s 1ms/step - loss: 1.0986 - accuracy: 0.2440\n",
            "Epoch 1/5\n",
            "2027/2027 [==============================] - 4s 2ms/step - loss: 4.1932 - accuracy: 0.7394\n",
            "Epoch 2/5\n",
            "2027/2027 [==============================] - 4s 2ms/step - loss: 4.1805 - accuracy: 0.7406\n",
            "Epoch 3/5\n",
            "2027/2027 [==============================] - 4s 2ms/step - loss: 4.1805 - accuracy: 0.7406\n",
            "Epoch 4/5\n",
            "2027/2027 [==============================] - 4s 2ms/step - loss: 4.1805 - accuracy: 0.7406\n",
            "Epoch 5/5\n",
            "2027/2027 [==============================] - 4s 2ms/step - loss: 4.1805 - accuracy: 0.7406\n",
            "507/507 [==============================] - 1s 1ms/step - loss: 4.1909 - accuracy: 0.7400\n",
            "Epoch 1/5\n",
            "2027/2027 [==============================] - 4s 2ms/step - loss: 10.6691 - accuracy: 0.3380\n",
            "Epoch 2/5\n",
            "2027/2027 [==============================] - 4s 2ms/step - loss: 3.6274 - accuracy: 0.4989\n",
            "Epoch 3/5\n",
            "2027/2027 [==============================] - 4s 2ms/step - loss: 2.7766 - accuracy: 0.1250\n",
            "Epoch 4/5\n",
            "2027/2027 [==============================] - 4s 2ms/step - loss: 2.7766 - accuracy: 0.1303\n",
            "Epoch 5/5\n",
            "2027/2027 [==============================] - 4s 2ms/step - loss: 2.7766 - accuracy: 0.1379\n",
            "507/507 [==============================] - 1s 1ms/step - loss: 2.7837 - accuracy: 0.1467\n",
            "Epoch 1/5\n",
            "2027/2027 [==============================] - 4s 2ms/step - loss: 2.7795 - accuracy: 0.7402\n",
            "Epoch 2/5\n",
            "2027/2027 [==============================] - 4s 2ms/step - loss: 2.7795 - accuracy: 0.7402\n",
            "Epoch 3/5\n",
            "2027/2027 [==============================] - 4s 2ms/step - loss: 2.7795 - accuracy: 0.7402\n",
            "Epoch 4/5\n",
            "2027/2027 [==============================] - 4s 2ms/step - loss: 2.7795 - accuracy: 0.7402\n",
            "Epoch 5/5\n",
            "2027/2027 [==============================] - 4s 2ms/step - loss: 2.7795 - accuracy: 0.7402\n",
            "507/507 [==============================] - 1s 1ms/step - loss: 2.7723 - accuracy: 0.7417\n",
            "Epoch 1/5\n",
            "2027/2027 [==============================] - 4s 2ms/step - loss: 0.7956 - accuracy: 0.7360\n",
            "Epoch 2/5\n",
            "2027/2027 [==============================] - 4s 2ms/step - loss: 0.7515 - accuracy: 0.7392\n",
            "Epoch 3/5\n",
            "2027/2027 [==============================] - 4s 2ms/step - loss: 0.7357 - accuracy: 0.7404\n",
            "Epoch 4/5\n",
            "2027/2027 [==============================] - 5s 2ms/step - loss: 0.7264 - accuracy: 0.7404\n",
            "Epoch 5/5\n",
            "2027/2027 [==============================] - 5s 2ms/step - loss: 0.7211 - accuracy: 0.7401\n",
            "507/507 [==============================] - 1s 2ms/step - loss: 0.7315 - accuracy: 0.7396\n",
            "Epoch 1/5\n",
            "2027/2027 [==============================] - 5s 2ms/step - loss: 13.9362 - accuracy: 0.1354\n",
            "Epoch 2/5\n",
            "2027/2027 [==============================] - 4s 2ms/step - loss: 13.9362 - accuracy: 0.1354\n",
            "Epoch 3/5\n",
            "2027/2027 [==============================] - 4s 2ms/step - loss: 13.9362 - accuracy: 0.1354\n",
            "Epoch 4/5\n",
            "2027/2027 [==============================] - 4s 2ms/step - loss: 13.9362 - accuracy: 0.1354\n",
            "Epoch 5/5\n",
            "2027/2027 [==============================] - 4s 2ms/step - loss: 13.9362 - accuracy: 0.1354\n",
            "507/507 [==============================] - 1s 1ms/step - loss: 13.9533 - accuracy: 0.1343\n",
            "Epoch 1/5\n",
            "2027/2027 [==============================] - 4s 2ms/step - loss: 0.7917 - accuracy: 0.7389\n",
            "Epoch 2/5\n",
            "2027/2027 [==============================] - 4s 2ms/step - loss: 0.7449 - accuracy: 0.7406\n",
            "Epoch 3/5\n",
            "2027/2027 [==============================] - 4s 2ms/step - loss: 0.7283 - accuracy: 0.7406\n",
            "Epoch 4/5\n",
            "2027/2027 [==============================] - 4s 2ms/step - loss: 0.7198 - accuracy: 0.7406\n",
            "Epoch 5/5\n",
            "2027/2027 [==============================] - 4s 2ms/step - loss: 0.7130 - accuracy: 0.7406\n",
            "507/507 [==============================] - 1s 1ms/step - loss: 0.7054 - accuracy: 0.7400\n",
            "Epoch 1/5\n",
            "2027/2027 [==============================] - 4s 2ms/step - loss: 0.8322 - accuracy: 0.7412\n",
            "Epoch 2/5\n",
            "2027/2027 [==============================] - 5s 2ms/step - loss: 0.7445 - accuracy: 0.7413\n",
            "Epoch 3/5\n",
            "2027/2027 [==============================] - 4s 2ms/step - loss: 0.7404 - accuracy: 0.7413\n",
            "Epoch 4/5\n",
            "2027/2027 [==============================] - 4s 2ms/step - loss: 0.7382 - accuracy: 0.7413\n",
            "Epoch 5/5\n",
            "2027/2027 [==============================] - 4s 2ms/step - loss: 0.7358 - accuracy: 0.7413\n",
            "507/507 [==============================] - 1s 1ms/step - loss: 0.7382 - accuracy: 0.7375\n",
            "Epoch 1/5\n",
            "2027/2027 [==============================] - 4s 2ms/step - loss: 4.1873 - accuracy: 0.7402\n",
            "Epoch 2/5\n",
            "2027/2027 [==============================] - 4s 2ms/step - loss: 4.1873 - accuracy: 0.7402\n",
            "Epoch 3/5\n",
            "2027/2027 [==============================] - 4s 2ms/step - loss: 4.1873 - accuracy: 0.7402\n",
            "Epoch 4/5\n",
            "2027/2027 [==============================] - 4s 2ms/step - loss: 4.1873 - accuracy: 0.7402\n",
            "Epoch 5/5\n",
            "2027/2027 [==============================] - 4s 2ms/step - loss: 4.1873 - accuracy: 0.7402\n",
            "507/507 [==============================] - 1s 1ms/step - loss: 4.1638 - accuracy: 0.7417\n",
            "Epoch 1/5\n",
            "2027/2027 [==============================] - 4s 2ms/step - loss: 0.9972 - accuracy: 0.1837\n",
            "Epoch 2/5\n",
            "2027/2027 [==============================] - 4s 2ms/step - loss: 0.8256 - accuracy: 0.6186\n",
            "Epoch 3/5\n",
            "2027/2027 [==============================] - 4s 2ms/step - loss: 0.7248 - accuracy: 0.7407\n",
            "Epoch 4/5\n",
            "2027/2027 [==============================] - 4s 2ms/step - loss: 0.7162 - accuracy: 0.7407\n",
            "Epoch 5/5\n",
            "2027/2027 [==============================] - 4s 2ms/step - loss: 0.7122 - accuracy: 0.7411\n",
            "507/507 [==============================] - 1s 1ms/step - loss: 0.7026 - accuracy: 0.7404\n",
            "Epoch 1/5\n",
            "2027/2027 [==============================] - 4s 2ms/step - loss: 0.9460 - accuracy: 0.7398\n",
            "Epoch 2/5\n",
            "2027/2027 [==============================] - 4s 2ms/step - loss: 0.7366 - accuracy: 0.7398\n",
            "Epoch 3/5\n",
            "2027/2027 [==============================] - 4s 2ms/step - loss: 0.7250 - accuracy: 0.7398\n",
            "Epoch 4/5\n",
            "2027/2027 [==============================] - 4s 2ms/step - loss: 0.7122 - accuracy: 0.7405\n",
            "Epoch 5/5\n",
            "2027/2027 [==============================] - 4s 2ms/step - loss: 0.7074 - accuracy: 0.7405\n",
            "507/507 [==============================] - 1s 1ms/step - loss: 0.7011 - accuracy: 0.7446\n",
            "Epoch 1/5\n",
            "2027/2027 [==============================] - 4s 2ms/step - loss: 2.7813 - accuracy: 0.7406\n",
            "Epoch 2/5\n",
            "2027/2027 [==============================] - 4s 2ms/step - loss: 2.7813 - accuracy: 0.7406\n",
            "Epoch 3/5\n",
            "2027/2027 [==============================] - 4s 2ms/step - loss: 2.7813 - accuracy: 0.7406\n",
            "Epoch 4/5\n",
            "2027/2027 [==============================] - 4s 2ms/step - loss: 2.7813 - accuracy: 0.7406\n",
            "Epoch 5/5\n",
            "2027/2027 [==============================] - 4s 2ms/step - loss: 2.7813 - accuracy: 0.7406\n",
            "507/507 [==============================] - 1s 1ms/step - loss: 2.7649 - accuracy: 0.7400\n",
            "Epoch 1/5\n",
            "2027/2027 [==============================] - 4s 2ms/step - loss: 0.8668 - accuracy: 0.7409\n",
            "Epoch 2/5\n",
            "2027/2027 [==============================] - 4s 2ms/step - loss: 0.7529 - accuracy: 0.7413\n",
            "Epoch 3/5\n",
            "2027/2027 [==============================] - 4s 2ms/step - loss: 0.7509 - accuracy: 0.7413\n",
            "Epoch 4/5\n",
            "2027/2027 [==============================] - 4s 2ms/step - loss: 0.7509 - accuracy: 0.7413\n",
            "Epoch 5/5\n",
            "2027/2027 [==============================] - 4s 2ms/step - loss: 0.7509 - accuracy: 0.7413\n",
            "507/507 [==============================] - 1s 1ms/step - loss: 0.7576 - accuracy: 0.7375\n",
            "Epoch 1/5\n",
            "2027/2027 [==============================] - 4s 2ms/step - loss: 0.9357 - accuracy: 0.5432\n",
            "Epoch 2/5\n",
            "2027/2027 [==============================] - 4s 2ms/step - loss: 0.7354 - accuracy: 0.7402\n",
            "Epoch 3/5\n",
            "2027/2027 [==============================] - 4s 2ms/step - loss: 0.7231 - accuracy: 0.7402\n",
            "Epoch 4/5\n",
            "2027/2027 [==============================] - 4s 2ms/step - loss: 0.7124 - accuracy: 0.7402\n",
            "Epoch 5/5\n",
            "2027/2027 [==============================] - 4s 2ms/step - loss: 0.7060 - accuracy: 0.7401\n",
            "507/507 [==============================] - 1s 1ms/step - loss: 0.6973 - accuracy: 0.7411\n",
            "Epoch 1/5\n",
            "2027/2027 [==============================] - 4s 2ms/step - loss: 0.7555 - accuracy: 0.7407\n",
            "Epoch 2/5\n",
            "2027/2027 [==============================] - 4s 2ms/step - loss: 0.7517 - accuracy: 0.7407\n",
            "Epoch 3/5\n",
            "2027/2027 [==============================] - 4s 2ms/step - loss: 0.7483 - accuracy: 0.7407\n",
            "Epoch 4/5\n",
            "2027/2027 [==============================] - 4s 2ms/step - loss: 0.7449 - accuracy: 0.7407\n",
            "Epoch 5/5\n",
            "2027/2027 [==============================] - 4s 2ms/step - loss: 0.7415 - accuracy: 0.7407\n",
            "507/507 [==============================] - 1s 1ms/step - loss: 0.7479 - accuracy: 0.7399\n",
            "Epoch 1/5\n",
            "2027/2027 [==============================] - 4s 2ms/step - loss: 0.7575 - accuracy: 0.7396\n",
            "Epoch 2/5\n",
            "2027/2027 [==============================] - 4s 2ms/step - loss: 0.7533 - accuracy: 0.7398\n",
            "Epoch 3/5\n",
            "2027/2027 [==============================] - 4s 2ms/step - loss: 0.7507 - accuracy: 0.7398\n",
            "Epoch 4/5\n",
            "2027/2027 [==============================] - 4s 2ms/step - loss: 0.7468 - accuracy: 0.7398\n",
            "Epoch 5/5\n",
            "2027/2027 [==============================] - 4s 2ms/step - loss: 0.7437 - accuracy: 0.7398\n",
            "507/507 [==============================] - 1s 1ms/step - loss: 0.7337 - accuracy: 0.7435\n",
            "Epoch 1/5\n",
            "2027/2027 [==============================] - 4s 2ms/step - loss: 0.7549 - accuracy: 0.7406\n",
            "Epoch 2/5\n",
            "2027/2027 [==============================] - 4s 2ms/step - loss: 0.7508 - accuracy: 0.7406\n",
            "Epoch 3/5\n",
            "2027/2027 [==============================] - 4s 2ms/step - loss: 0.7470 - accuracy: 0.7406\n",
            "Epoch 4/5\n",
            "2027/2027 [==============================] - 4s 2ms/step - loss: 0.7431 - accuracy: 0.7406\n",
            "Epoch 5/5\n",
            "2027/2027 [==============================] - 4s 2ms/step - loss: 0.7399 - accuracy: 0.7406\n",
            "507/507 [==============================] - 1s 1ms/step - loss: 0.7346 - accuracy: 0.7400\n",
            "Epoch 1/5\n",
            "2027/2027 [==============================] - 4s 2ms/step - loss: 0.7542 - accuracy: 0.7407\n",
            "Epoch 2/5\n",
            "2027/2027 [==============================] - 4s 2ms/step - loss: 0.7494 - accuracy: 0.7413\n",
            "Epoch 3/5\n",
            "2027/2027 [==============================] - 4s 2ms/step - loss: 0.7447 - accuracy: 0.7413\n",
            "Epoch 4/5\n",
            "2027/2027 [==============================] - 4s 2ms/step - loss: 0.7407 - accuracy: 0.7413\n",
            "Epoch 5/5\n",
            "2027/2027 [==============================] - 4s 2ms/step - loss: 0.7382 - accuracy: 0.7413\n",
            "507/507 [==============================] - 1s 1ms/step - loss: 0.7414 - accuracy: 0.7375\n",
            "Epoch 1/5\n",
            "2027/2027 [==============================] - 4s 2ms/step - loss: 0.7573 - accuracy: 0.7386\n",
            "Epoch 2/5\n",
            "2027/2027 [==============================] - 4s 2ms/step - loss: 0.7515 - accuracy: 0.7402\n",
            "Epoch 3/5\n",
            "2027/2027 [==============================] - 4s 2ms/step - loss: 0.7474 - accuracy: 0.7402\n",
            "Epoch 4/5\n",
            "2027/2027 [==============================] - 4s 2ms/step - loss: 0.7433 - accuracy: 0.7402\n",
            "Epoch 5/5\n",
            "2027/2027 [==============================] - 4s 2ms/step - loss: 0.7408 - accuracy: 0.7402\n",
            "507/507 [==============================] - 1s 1ms/step - loss: 0.7315 - accuracy: 0.7417\n",
            "Epoch 1/5\n",
            "2027/2027 [==============================] - 4s 2ms/step - loss: 0.7582 - accuracy: 0.7387\n",
            "Epoch 2/5\n",
            "2027/2027 [==============================] - 5s 2ms/step - loss: 0.7422 - accuracy: 0.7407\n",
            "Epoch 3/5\n",
            "2027/2027 [==============================] - 5s 3ms/step - loss: 0.7289 - accuracy: 0.7407\n",
            "Epoch 4/5\n",
            "2027/2027 [==============================] - 5s 2ms/step - loss: 0.7223 - accuracy: 0.7410\n",
            "Epoch 5/5\n",
            "2027/2027 [==============================] - 4s 2ms/step - loss: 0.7167 - accuracy: 0.7416\n",
            "507/507 [==============================] - 1s 1ms/step - loss: 0.7205 - accuracy: 0.7410\n",
            "Epoch 1/5\n",
            "2027/2027 [==============================] - 4s 2ms/step - loss: 0.7542 - accuracy: 0.7394\n",
            "Epoch 2/5\n",
            "2027/2027 [==============================] - 4s 2ms/step - loss: 0.7346 - accuracy: 0.7398\n",
            "Epoch 3/5\n",
            "2027/2027 [==============================] - 4s 2ms/step - loss: 0.7142 - accuracy: 0.7400\n",
            "Epoch 4/5\n",
            "2027/2027 [==============================] - 4s 2ms/step - loss: 0.7073 - accuracy: 0.7407\n",
            "Epoch 5/5\n",
            "2027/2027 [==============================] - 4s 2ms/step - loss: 0.7057 - accuracy: 0.7406\n",
            "507/507 [==============================] - 1s 1ms/step - loss: 0.7118 - accuracy: 0.7443\n",
            "Epoch 1/5\n",
            "2027/2027 [==============================] - 4s 2ms/step - loss: 0.7518 - accuracy: 0.7402\n",
            "Epoch 2/5\n",
            "2027/2027 [==============================] - 4s 2ms/step - loss: 0.7323 - accuracy: 0.7406\n",
            "Epoch 3/5\n",
            "2027/2027 [==============================] - 4s 2ms/step - loss: 0.7193 - accuracy: 0.7408\n",
            "Epoch 4/5\n",
            "2027/2027 [==============================] - 4s 2ms/step - loss: 0.7102 - accuracy: 0.7417\n",
            "Epoch 5/5\n",
            "2027/2027 [==============================] - 4s 2ms/step - loss: 0.7048 - accuracy: 0.7422\n",
            "507/507 [==============================] - 1s 1ms/step - loss: 0.7030 - accuracy: 0.7415\n",
            "Epoch 1/5\n",
            "2027/2027 [==============================] - 5s 2ms/step - loss: 0.7444 - accuracy: 0.7407\n",
            "Epoch 2/5\n",
            "2027/2027 [==============================] - 4s 2ms/step - loss: 0.7160 - accuracy: 0.7415\n",
            "Epoch 3/5\n",
            "2027/2027 [==============================] - 4s 2ms/step - loss: 0.7062 - accuracy: 0.7419\n",
            "Epoch 4/5\n",
            "2027/2027 [==============================] - 4s 2ms/step - loss: 0.7037 - accuracy: 0.7423\n",
            "Epoch 5/5\n",
            "2027/2027 [==============================] - 4s 2ms/step - loss: 0.7022 - accuracy: 0.7428\n",
            "507/507 [==============================] - 1s 1ms/step - loss: 0.7032 - accuracy: 0.7399\n",
            "Epoch 1/5\n",
            "2027/2027 [==============================] - 4s 2ms/step - loss: 0.7531 - accuracy: 0.7402\n",
            "Epoch 2/5\n",
            "2027/2027 [==============================] - 4s 2ms/step - loss: 0.7303 - accuracy: 0.7402\n",
            "Epoch 3/5\n",
            "2027/2027 [==============================] - 4s 2ms/step - loss: 0.7162 - accuracy: 0.7402\n",
            "Epoch 4/5\n",
            "2027/2027 [==============================] - 4s 2ms/step - loss: 0.7079 - accuracy: 0.7405\n",
            "Epoch 5/5\n",
            "2027/2027 [==============================] - 4s 2ms/step - loss: 0.7051 - accuracy: 0.7412\n",
            "507/507 [==============================] - 1s 1ms/step - loss: 0.6979 - accuracy: 0.7434\n",
            "Epoch 1/5\n",
            "2027/2027 [==============================] - 4s 2ms/step - loss: 0.7520 - accuracy: 0.7352\n",
            "Epoch 2/5\n",
            "2027/2027 [==============================] - 4s 2ms/step - loss: 0.7263 - accuracy: 0.7407\n",
            "Epoch 3/5\n",
            "2027/2027 [==============================] - 4s 2ms/step - loss: 0.7088 - accuracy: 0.7410\n",
            "Epoch 4/5\n",
            "2027/2027 [==============================] - 4s 2ms/step - loss: 0.7017 - accuracy: 0.7418\n",
            "Epoch 5/5\n",
            "2027/2027 [==============================] - 4s 2ms/step - loss: 0.6999 - accuracy: 0.7421\n",
            "507/507 [==============================] - 1s 1ms/step - loss: 0.6954 - accuracy: 0.7415\n",
            "Epoch 1/5\n",
            "2027/2027 [==============================] - 4s 2ms/step - loss: 0.7492 - accuracy: 0.7398\n",
            "Epoch 2/5\n",
            "2027/2027 [==============================] - 4s 2ms/step - loss: 0.7177 - accuracy: 0.7398\n",
            "Epoch 3/5\n",
            "2027/2027 [==============================] - 4s 2ms/step - loss: 0.7043 - accuracy: 0.7402\n",
            "Epoch 4/5\n",
            "2027/2027 [==============================] - 4s 2ms/step - loss: 0.7031 - accuracy: 0.7406\n",
            "Epoch 5/5\n",
            "2027/2027 [==============================] - 4s 2ms/step - loss: 0.7018 - accuracy: 0.7407\n",
            "507/507 [==============================] - 1s 2ms/step - loss: 0.6943 - accuracy: 0.7441\n",
            "Epoch 1/5\n",
            "2027/2027 [==============================] - 4s 2ms/step - loss: 0.7507 - accuracy: 0.7406\n",
            "Epoch 2/5\n",
            "2027/2027 [==============================] - 4s 2ms/step - loss: 0.7235 - accuracy: 0.7406\n",
            "Epoch 3/5\n",
            "2027/2027 [==============================] - 4s 2ms/step - loss: 0.7050 - accuracy: 0.7408\n",
            "Epoch 4/5\n",
            "2027/2027 [==============================] - 4s 2ms/step - loss: 0.7018 - accuracy: 0.7420\n",
            "Epoch 5/5\n",
            "2027/2027 [==============================] - 4s 2ms/step - loss: 0.7011 - accuracy: 0.7421\n",
            "507/507 [==============================] - 1s 1ms/step - loss: 0.7093 - accuracy: 0.7413\n",
            "Epoch 1/5\n",
            "2027/2027 [==============================] - 4s 2ms/step - loss: 0.7500 - accuracy: 0.7413\n",
            "Epoch 2/5\n",
            "2027/2027 [==============================] - 4s 2ms/step - loss: 0.7202 - accuracy: 0.7413\n",
            "Epoch 3/5\n",
            "2027/2027 [==============================] - 4s 2ms/step - loss: 0.7035 - accuracy: 0.7414\n",
            "Epoch 4/5\n",
            "2027/2027 [==============================] - 4s 2ms/step - loss: 0.6998 - accuracy: 0.7426\n",
            "Epoch 5/5\n",
            "2027/2027 [==============================] - 4s 2ms/step - loss: 0.6992 - accuracy: 0.7422\n",
            "507/507 [==============================] - 1s 1ms/step - loss: 0.7091 - accuracy: 0.7392\n",
            "Epoch 1/5\n",
            "2027/2027 [==============================] - 4s 2ms/step - loss: 0.7487 - accuracy: 0.7402\n",
            "Epoch 2/5\n",
            "2027/2027 [==============================] - 4s 2ms/step - loss: 0.7222 - accuracy: 0.7402\n",
            "Epoch 3/5\n",
            "2027/2027 [==============================] - 4s 2ms/step - loss: 0.7067 - accuracy: 0.7402\n",
            "Epoch 4/5\n",
            "2027/2027 [==============================] - 4s 2ms/step - loss: 0.7033 - accuracy: 0.7407\n",
            "Epoch 5/5\n",
            "2027/2027 [==============================] - 4s 2ms/step - loss: 0.7027 - accuracy: 0.7413\n",
            "507/507 [==============================] - 1s 1ms/step - loss: 0.6940 - accuracy: 0.7427\n",
            "Epoch 1/5\n",
            "2027/2027 [==============================] - 4s 2ms/step - loss: 0.7578 - accuracy: 0.7407\n",
            "Epoch 2/5\n",
            "2027/2027 [==============================] - 4s 2ms/step - loss: 0.7531 - accuracy: 0.7407\n",
            "Epoch 3/5\n",
            "2027/2027 [==============================] - 4s 2ms/step - loss: 0.7511 - accuracy: 0.7407\n",
            "Epoch 4/5\n",
            "2027/2027 [==============================] - 4s 2ms/step - loss: 0.7482 - accuracy: 0.7407\n",
            "Epoch 5/5\n",
            "2027/2027 [==============================] - 4s 2ms/step - loss: 0.7449 - accuracy: 0.7407\n",
            "507/507 [==============================] - 1s 1ms/step - loss: 0.7375 - accuracy: 0.7399\n",
            "Epoch 1/5\n",
            "2027/2027 [==============================] - 4s 2ms/step - loss: 0.7598 - accuracy: 0.7387\n",
            "Epoch 2/5\n",
            "2027/2027 [==============================] - 4s 2ms/step - loss: 0.7544 - accuracy: 0.7398\n",
            "Epoch 3/5\n",
            "2027/2027 [==============================] - 4s 2ms/step - loss: 0.7517 - accuracy: 0.7398\n",
            "Epoch 4/5\n",
            "2027/2027 [==============================] - 4s 2ms/step - loss: 0.7477 - accuracy: 0.7398\n",
            "Epoch 5/5\n",
            "2027/2027 [==============================] - 4s 2ms/step - loss: 0.7447 - accuracy: 0.7398\n",
            "507/507 [==============================] - 1s 1ms/step - loss: 0.7447 - accuracy: 0.7435\n",
            "Epoch 1/5\n",
            "2027/2027 [==============================] - 4s 2ms/step - loss: 0.7583 - accuracy: 0.7406\n",
            "Epoch 2/5\n",
            "2027/2027 [==============================] - 4s 2ms/step - loss: 0.7532 - accuracy: 0.7406\n",
            "Epoch 3/5\n",
            "2027/2027 [==============================] - 4s 2ms/step - loss: 0.7518 - accuracy: 0.7406\n",
            "Epoch 4/5\n",
            "2027/2027 [==============================] - 4s 2ms/step - loss: 0.7490 - accuracy: 0.7406\n",
            "Epoch 5/5\n",
            "2027/2027 [==============================] - 4s 2ms/step - loss: 0.7455 - accuracy: 0.7406\n",
            "507/507 [==============================] - 1s 1ms/step - loss: 0.7434 - accuracy: 0.7400\n",
            "Epoch 1/5\n",
            "2027/2027 [==============================] - 4s 2ms/step - loss: 0.7576 - accuracy: 0.7403\n",
            "Epoch 2/5\n",
            "2027/2027 [==============================] - 4s 2ms/step - loss: 0.7520 - accuracy: 0.7413\n",
            "Epoch 3/5\n",
            "2027/2027 [==============================] - 4s 2ms/step - loss: 0.7519 - accuracy: 0.7413\n",
            "Epoch 4/5\n",
            "2027/2027 [==============================] - 4s 2ms/step - loss: 0.7509 - accuracy: 0.7413\n",
            "Epoch 5/5\n",
            "2027/2027 [==============================] - 4s 2ms/step - loss: 0.7481 - accuracy: 0.7413\n",
            "507/507 [==============================] - 1s 1ms/step - loss: 0.7520 - accuracy: 0.7375\n",
            "Epoch 1/5\n",
            "2027/2027 [==============================] - 4s 2ms/step - loss: 0.7601 - accuracy: 0.7398\n",
            "Epoch 2/5\n",
            "2027/2027 [==============================] - 4s 2ms/step - loss: 0.7541 - accuracy: 0.7402\n",
            "Epoch 3/5\n",
            "2027/2027 [==============================] - 4s 2ms/step - loss: 0.7525 - accuracy: 0.7402\n",
            "Epoch 4/5\n",
            "2027/2027 [==============================] - 4s 2ms/step - loss: 0.7499 - accuracy: 0.7402\n",
            "Epoch 5/5\n",
            "2027/2027 [==============================] - 4s 2ms/step - loss: 0.7458 - accuracy: 0.7402\n",
            "507/507 [==============================] - 1s 2ms/step - loss: 0.7351 - accuracy: 0.7417\n",
            "Epoch 1/5\n",
            "2027/2027 [==============================] - 5s 2ms/step - loss: 0.7516 - accuracy: 0.7400\n",
            "Epoch 2/5\n",
            "2027/2027 [==============================] - 4s 2ms/step - loss: 0.7299 - accuracy: 0.7407\n",
            "Epoch 3/5\n",
            "2027/2027 [==============================] - 4s 2ms/step - loss: 0.7103 - accuracy: 0.7409\n",
            "Epoch 4/5\n",
            "2027/2027 [==============================] - 4s 2ms/step - loss: 0.7045 - accuracy: 0.7421\n",
            "Epoch 5/5\n",
            "2027/2027 [==============================] - 4s 2ms/step - loss: 0.7025 - accuracy: 0.7423\n",
            "507/507 [==============================] - 1s 1ms/step - loss: 0.7091 - accuracy: 0.7394\n",
            "Epoch 1/5\n",
            "2027/2027 [==============================] - 4s 2ms/step - loss: 0.7545 - accuracy: 0.7398\n",
            "Epoch 2/5\n",
            "2027/2027 [==============================] - 4s 2ms/step - loss: 0.7371 - accuracy: 0.7398\n",
            "Epoch 3/5\n",
            "2027/2027 [==============================] - 4s 2ms/step - loss: 0.7217 - accuracy: 0.7401\n",
            "Epoch 4/5\n",
            "2027/2027 [==============================] - 4s 2ms/step - loss: 0.7099 - accuracy: 0.7408\n",
            "Epoch 5/5\n",
            "2027/2027 [==============================] - 4s 2ms/step - loss: 0.7069 - accuracy: 0.7411\n",
            "507/507 [==============================] - 1s 1ms/step - loss: 0.6983 - accuracy: 0.7443\n",
            "Epoch 1/5\n",
            "2027/2027 [==============================] - 4s 2ms/step - loss: 0.7513 - accuracy: 0.7406\n",
            "Epoch 2/5\n",
            "2027/2027 [==============================] - 4s 2ms/step - loss: 0.7235 - accuracy: 0.7406\n",
            "Epoch 3/5\n",
            "2027/2027 [==============================] - 4s 2ms/step - loss: 0.7077 - accuracy: 0.7408\n",
            "Epoch 4/5\n",
            "2027/2027 [==============================] - 4s 2ms/step - loss: 0.7050 - accuracy: 0.7414\n",
            "Epoch 5/5\n",
            "2027/2027 [==============================] - 4s 2ms/step - loss: 0.7034 - accuracy: 0.7419\n",
            "507/507 [==============================] - 1s 1ms/step - loss: 0.7070 - accuracy: 0.7414\n",
            "Epoch 1/5\n",
            "2027/2027 [==============================] - 4s 2ms/step - loss: 0.7509 - accuracy: 0.7413\n",
            "Epoch 2/5\n",
            "2027/2027 [==============================] - 4s 2ms/step - loss: 0.7263 - accuracy: 0.7413\n",
            "Epoch 3/5\n",
            "2027/2027 [==============================] - 4s 2ms/step - loss: 0.7073 - accuracy: 0.7415\n",
            "Epoch 4/5\n",
            "2027/2027 [==============================] - 4s 2ms/step - loss: 0.7044 - accuracy: 0.7418\n",
            "Epoch 5/5\n",
            "2027/2027 [==============================] - 4s 2ms/step - loss: 0.7031 - accuracy: 0.7421\n",
            "507/507 [==============================] - 1s 1ms/step - loss: 0.7176 - accuracy: 0.7391\n",
            "Epoch 1/5\n",
            "2027/2027 [==============================] - 4s 2ms/step - loss: 0.7522 - accuracy: 0.7400\n",
            "Epoch 2/5\n",
            "2027/2027 [==============================] - 4s 2ms/step - loss: 0.7299 - accuracy: 0.7402\n",
            "Epoch 3/5\n",
            "2027/2027 [==============================] - 4s 2ms/step - loss: 0.7119 - accuracy: 0.7406\n",
            "Epoch 4/5\n",
            "2027/2027 [==============================] - 4s 2ms/step - loss: 0.7065 - accuracy: 0.7408\n",
            "Epoch 5/5\n",
            "2027/2027 [==============================] - 4s 2ms/step - loss: 0.7049 - accuracy: 0.7411\n",
            "507/507 [==============================] - 1s 1ms/step - loss: 0.6945 - accuracy: 0.7434\n",
            "Epoch 1/5\n",
            "2027/2027 [==============================] - 4s 2ms/step - loss: 0.7556 - accuracy: 0.7397\n",
            "Epoch 2/5\n",
            "2027/2027 [==============================] - 4s 2ms/step - loss: 0.7309 - accuracy: 0.7407\n",
            "Epoch 3/5\n",
            "2027/2027 [==============================] - 4s 2ms/step - loss: 0.7149 - accuracy: 0.7410\n",
            "Epoch 4/5\n",
            "2027/2027 [==============================] - 4s 2ms/step - loss: 0.7054 - accuracy: 0.7417\n",
            "Epoch 5/5\n",
            "2027/2027 [==============================] - 4s 2ms/step - loss: 0.7023 - accuracy: 0.7416\n",
            "507/507 [==============================] - 1s 1ms/step - loss: 0.7018 - accuracy: 0.7420\n",
            "Epoch 1/5\n",
            "2027/2027 [==============================] - 4s 2ms/step - loss: 0.7570 - accuracy: 0.7393\n",
            "Epoch 2/5\n",
            "2027/2027 [==============================] - 4s 2ms/step - loss: 0.7365 - accuracy: 0.7398\n",
            "Epoch 3/5\n",
            "2027/2027 [==============================] - 4s 2ms/step - loss: 0.7234 - accuracy: 0.7400\n",
            "Epoch 4/5\n",
            "2027/2027 [==============================] - 4s 2ms/step - loss: 0.7126 - accuracy: 0.7404\n",
            "Epoch 5/5\n",
            "2027/2027 [==============================] - 4s 2ms/step - loss: 0.7064 - accuracy: 0.7412\n",
            "507/507 [==============================] - 1s 1ms/step - loss: 0.6968 - accuracy: 0.7446\n",
            "Epoch 1/5\n",
            "2027/2027 [==============================] - 4s 2ms/step - loss: 0.7538 - accuracy: 0.7406\n",
            "Epoch 2/5\n",
            "2027/2027 [==============================] - 4s 2ms/step - loss: 0.7297 - accuracy: 0.7406\n",
            "Epoch 3/5\n",
            "2027/2027 [==============================] - 4s 2ms/step - loss: 0.7087 - accuracy: 0.7408\n",
            "Epoch 4/5\n",
            "2027/2027 [==============================] - 4s 2ms/step - loss: 0.7027 - accuracy: 0.7417\n",
            "Epoch 5/5\n",
            "2027/2027 [==============================] - 4s 2ms/step - loss: 0.7011 - accuracy: 0.7418\n",
            "507/507 [==============================] - 1s 1ms/step - loss: 0.7037 - accuracy: 0.7423\n",
            "Epoch 1/5\n",
            "2027/2027 [==============================] - 4s 2ms/step - loss: 0.7558 - accuracy: 0.7392\n",
            "Epoch 2/5\n",
            "2027/2027 [==============================] - 4s 2ms/step - loss: 0.7333 - accuracy: 0.7413\n",
            "Epoch 3/5\n",
            "2027/2027 [==============================] - 4s 2ms/step - loss: 0.7125 - accuracy: 0.7413\n",
            "Epoch 4/5\n",
            "2027/2027 [==============================] - 4s 2ms/step - loss: 0.7021 - accuracy: 0.7420\n",
            "Epoch 5/5\n",
            "2027/2027 [==============================] - 4s 2ms/step - loss: 0.6992 - accuracy: 0.7426\n",
            "507/507 [==============================] - 1s 1ms/step - loss: 0.7057 - accuracy: 0.7393\n",
            "Epoch 1/5\n",
            "2027/2027 [==============================] - 4s 2ms/step - loss: 0.7549 - accuracy: 0.7394\n",
            "Epoch 2/5\n",
            "2027/2027 [==============================] - 4s 2ms/step - loss: 0.7371 - accuracy: 0.7402\n",
            "Epoch 3/5\n",
            "2027/2027 [==============================] - 4s 2ms/step - loss: 0.7172 - accuracy: 0.7404\n",
            "Epoch 4/5\n",
            "2027/2027 [==============================] - 4s 2ms/step - loss: 0.7054 - accuracy: 0.7413\n",
            "Epoch 5/5\n",
            "2027/2027 [==============================] - 4s 2ms/step - loss: 0.7019 - accuracy: 0.7414\n",
            "507/507 [==============================] - 1s 1ms/step - loss: 0.6944 - accuracy: 0.7435\n",
            "Epoch 1/5\n",
            "1014/1014 [==============================] - 2s 2ms/step - loss: 12.1190 - accuracy: 0.1246\n",
            "Epoch 2/5\n",
            "1014/1014 [==============================] - 2s 2ms/step - loss: 12.1178 - accuracy: 0.1246\n",
            "Epoch 3/5\n",
            "1014/1014 [==============================] - 2s 2ms/step - loss: 12.1178 - accuracy: 0.1246\n",
            "Epoch 4/5\n",
            "1014/1014 [==============================] - 2s 2ms/step - loss: 12.1178 - accuracy: 0.1246\n",
            "Epoch 5/5\n",
            "1014/1014 [==============================] - 2s 2ms/step - loss: 12.1178 - accuracy: 0.1246\n",
            "254/254 [==============================] - 0s 1ms/step - loss: 12.1055 - accuracy: 0.1233\n",
            "Epoch 1/5\n",
            "1014/1014 [==============================] - 2s 2ms/step - loss: 2.7813 - accuracy: 0.7398\n",
            "Epoch 2/5\n",
            "1014/1014 [==============================] - 2s 2ms/step - loss: 2.7813 - accuracy: 0.7398\n",
            "Epoch 3/5\n",
            "1014/1014 [==============================] - 2s 2ms/step - loss: 2.7813 - accuracy: 0.7398\n",
            "Epoch 4/5\n",
            "1014/1014 [==============================] - 2s 2ms/step - loss: 2.7813 - accuracy: 0.7398\n",
            "Epoch 5/5\n",
            "1014/1014 [==============================] - 2s 2ms/step - loss: 2.7813 - accuracy: 0.7398\n",
            "254/254 [==============================] - 0s 1ms/step - loss: 2.7649 - accuracy: 0.7435\n",
            "Epoch 1/5\n",
            "1014/1014 [==============================] - 2s 2ms/step - loss: 14.1196 - accuracy: 0.1240\n",
            "Epoch 2/5\n",
            "1014/1014 [==============================] - 2s 2ms/step - loss: 14.1196 - accuracy: 0.1240\n",
            "Epoch 3/5\n",
            "1014/1014 [==============================] - 2s 2ms/step - loss: 14.1196 - accuracy: 0.1240\n",
            "Epoch 4/5\n",
            "1014/1014 [==============================] - 2s 2ms/step - loss: 14.1196 - accuracy: 0.1240\n",
            "Epoch 5/5\n",
            "1014/1014 [==============================] - 2s 2ms/step - loss: 14.1196 - accuracy: 0.1240\n",
            "254/254 [==============================] - 0s 1ms/step - loss: 14.0920 - accuracy: 0.1257\n",
            "Epoch 1/5\n",
            "1014/1014 [==============================] - 2s 2ms/step - loss: 1.1001 - accuracy: 0.1357\n",
            "Epoch 2/5\n",
            "1014/1014 [==============================] - 2s 2ms/step - loss: 1.0986 - accuracy: 0.1351\n",
            "Epoch 3/5\n",
            "1014/1014 [==============================] - 2s 2ms/step - loss: 1.0986 - accuracy: 0.1351\n",
            "Epoch 4/5\n",
            "1014/1014 [==============================] - 2s 2ms/step - loss: 1.0986 - accuracy: 0.1351\n",
            "Epoch 5/5\n",
            "1014/1014 [==============================] - 2s 2ms/step - loss: 1.0986 - accuracy: 0.1351\n",
            "254/254 [==============================] - 0s 1ms/step - loss: 1.0986 - accuracy: 0.1357\n",
            "Epoch 1/5\n",
            "1014/1014 [==============================] - 2s 2ms/step - loss: 1.0957 - accuracy: 0.7137\n",
            "Epoch 2/5\n",
            "1014/1014 [==============================] - 2s 2ms/step - loss: 0.8449 - accuracy: 0.6224\n",
            "Epoch 3/5\n",
            "1014/1014 [==============================] - 2s 2ms/step - loss: 0.7562 - accuracy: 0.7402\n",
            "Epoch 4/5\n",
            "1014/1014 [==============================] - 2s 2ms/step - loss: 0.7552 - accuracy: 0.7402\n",
            "Epoch 5/5\n",
            "1014/1014 [==============================] - 2s 2ms/step - loss: 0.7541 - accuracy: 0.7402\n",
            "254/254 [==============================] - 0s 1ms/step - loss: 0.7477 - accuracy: 0.7417\n",
            "Epoch 1/5\n",
            "1014/1014 [==============================] - 2s 2ms/step - loss: 0.8067 - accuracy: 0.7407\n",
            "Epoch 2/5\n",
            "1014/1014 [==============================] - 2s 2ms/step - loss: 0.7546 - accuracy: 0.7407\n",
            "Epoch 3/5\n",
            "1014/1014 [==============================] - 2s 2ms/step - loss: 0.7428 - accuracy: 0.7407\n",
            "Epoch 4/5\n",
            "1014/1014 [==============================] - 2s 2ms/step - loss: 0.7341 - accuracy: 0.7407\n",
            "Epoch 5/5\n",
            "1014/1014 [==============================] - 2s 2ms/step - loss: 0.7286 - accuracy: 0.7407\n",
            "254/254 [==============================] - 0s 1ms/step - loss: 0.7955 - accuracy: 0.7399\n",
            "Epoch 1/5\n",
            "1014/1014 [==============================] - 2s 2ms/step - loss: 13.9360 - accuracy: 0.1354\n",
            "Epoch 2/5\n",
            "1014/1014 [==============================] - 2s 2ms/step - loss: 13.9360 - accuracy: 0.1354\n",
            "Epoch 3/5\n",
            "1014/1014 [==============================] - 2s 2ms/step - loss: 13.9360 - accuracy: 0.1354\n",
            "Epoch 4/5\n",
            "1014/1014 [==============================] - 2s 2ms/step - loss: 13.9360 - accuracy: 0.1354\n",
            "Epoch 5/5\n",
            "1014/1014 [==============================] - 2s 2ms/step - loss: 13.9360 - accuracy: 0.1354\n",
            "254/254 [==============================] - 0s 1ms/step - loss: 13.9533 - accuracy: 0.1343\n",
            "Epoch 1/5\n",
            "1014/1014 [==============================] - 2s 2ms/step - loss: 0.7836 - accuracy: 0.7406\n",
            "Epoch 2/5\n",
            "1014/1014 [==============================] - 2s 2ms/step - loss: 0.7549 - accuracy: 0.7406\n",
            "Epoch 3/5\n",
            "1014/1014 [==============================] - 2s 2ms/step - loss: 0.7441 - accuracy: 0.7406\n",
            "Epoch 4/5\n",
            "1014/1014 [==============================] - 2s 2ms/step - loss: 0.7372 - accuracy: 0.7406\n",
            "Epoch 5/5\n",
            "1014/1014 [==============================] - 2s 2ms/step - loss: 0.7297 - accuracy: 0.7406\n",
            "254/254 [==============================] - 0s 1ms/step - loss: 0.7142 - accuracy: 0.7400\n",
            "Epoch 1/5\n",
            "1014/1014 [==============================] - 2s 2ms/step - loss: 0.8374 - accuracy: 0.7413\n",
            "Epoch 2/5\n",
            "1014/1014 [==============================] - 3s 2ms/step - loss: 0.7340 - accuracy: 0.7413\n",
            "Epoch 3/5\n",
            "1014/1014 [==============================] - 3s 2ms/step - loss: 0.7201 - accuracy: 0.7413\n",
            "Epoch 4/5\n",
            "1014/1014 [==============================] - 3s 3ms/step - loss: 0.7153 - accuracy: 0.7413\n",
            "Epoch 5/5\n",
            "1014/1014 [==============================] - 2s 2ms/step - loss: 0.7118 - accuracy: 0.7413\n",
            "254/254 [==============================] - 0s 1ms/step - loss: 0.7081 - accuracy: 0.7375\n",
            "Epoch 1/5\n",
            "1014/1014 [==============================] - 2s 2ms/step - loss: 12.1109 - accuracy: 0.1353\n",
            "Epoch 2/5\n",
            "1014/1014 [==============================] - 2s 2ms/step - loss: 12.1109 - accuracy: 0.1352\n",
            "Epoch 3/5\n",
            "1014/1014 [==============================] - 2s 2ms/step - loss: 12.1109 - accuracy: 0.1352\n",
            "Epoch 4/5\n",
            "1014/1014 [==============================] - 2s 2ms/step - loss: 12.1109 - accuracy: 0.1353\n",
            "Epoch 5/5\n",
            "1014/1014 [==============================] - 2s 2ms/step - loss: 12.1109 - accuracy: 0.1353\n",
            "254/254 [==============================] - 0s 1ms/step - loss: 12.1334 - accuracy: 0.1348\n",
            "Epoch 1/5\n",
            "1014/1014 [==============================] - 2s 2ms/step - loss: 11.2509 - accuracy: 0.2771\n",
            "Epoch 2/5\n",
            "1014/1014 [==============================] - 2s 2ms/step - loss: 2.7714 - accuracy: 0.7407\n",
            "Epoch 3/5\n",
            "1014/1014 [==============================] - 2s 2ms/step - loss: 2.7714 - accuracy: 0.7407\n",
            "Epoch 4/5\n",
            "1014/1014 [==============================] - 2s 2ms/step - loss: 2.7714 - accuracy: 0.7407\n",
            "Epoch 5/5\n",
            "1014/1014 [==============================] - 2s 2ms/step - loss: 2.7714 - accuracy: 0.7407\n",
            "254/254 [==============================] - 0s 1ms/step - loss: 2.8044 - accuracy: 0.7399\n",
            "Epoch 1/5\n",
            "1014/1014 [==============================] - 2s 2ms/step - loss: 1.3553 - accuracy: 0.1354\n",
            "Epoch 2/5\n",
            "1014/1014 [==============================] - 2s 2ms/step - loss: 1.0986 - accuracy: 0.1354\n",
            "Epoch 3/5\n",
            "1014/1014 [==============================] - 2s 2ms/step - loss: 1.0986 - accuracy: 0.1354\n",
            "Epoch 4/5\n",
            "1014/1014 [==============================] - 2s 2ms/step - loss: 1.0986 - accuracy: 0.1354\n",
            "Epoch 5/5\n",
            "1014/1014 [==============================] - 2s 2ms/step - loss: 1.0986 - accuracy: 0.1354\n",
            "254/254 [==============================] - 0s 1ms/step - loss: 1.0986 - accuracy: 0.1343\n",
            "Epoch 1/5\n",
            "1014/1014 [==============================] - 2s 2ms/step - loss: 13.9360 - accuracy: 0.1354\n",
            "Epoch 2/5\n",
            "1014/1014 [==============================] - 2s 2ms/step - loss: 13.9360 - accuracy: 0.1354\n",
            "Epoch 3/5\n",
            "1014/1014 [==============================] - 2s 2ms/step - loss: 13.9360 - accuracy: 0.1354\n",
            "Epoch 4/5\n",
            "1014/1014 [==============================] - 2s 2ms/step - loss: 13.9360 - accuracy: 0.1354\n",
            "Epoch 5/5\n",
            "1014/1014 [==============================] - 2s 2ms/step - loss: 13.9360 - accuracy: 0.1354\n",
            "254/254 [==============================] - 0s 1ms/step - loss: 13.9533 - accuracy: 0.1343\n",
            "Epoch 1/5\n",
            "1014/1014 [==============================] - 2s 2ms/step - loss: 2.4650 - accuracy: 0.7162\n",
            "Epoch 2/5\n",
            "1014/1014 [==============================] - 2s 2ms/step - loss: 2.3518 - accuracy: 0.7412\n",
            "Epoch 3/5\n",
            "1014/1014 [==============================] - 2s 2ms/step - loss: 2.3476 - accuracy: 0.7412\n",
            "Epoch 4/5\n",
            "1014/1014 [==============================] - 2s 2ms/step - loss: 2.3440 - accuracy: 0.7413\n",
            "Epoch 5/5\n",
            "1014/1014 [==============================] - 2s 2ms/step - loss: 2.3433 - accuracy: 0.7414\n",
            "254/254 [==============================] - 0s 1ms/step - loss: 2.4010 - accuracy: 0.7376\n",
            "Epoch 1/5\n",
            "   1/1014 [..............................] - ETA: 0s - loss: 1.1039 - accuracy: 0.1400WARNING:tensorflow:Callbacks method `on_train_batch_end` is slow compared to the batch time (batch time: 0.0017s vs `on_train_batch_end` time: 0.0030s). Check your callbacks.\n",
            "1014/1014 [==============================] - 2s 2ms/step - loss: 0.9980 - accuracy: 0.1353\n",
            "Epoch 2/5\n",
            "1014/1014 [==============================] - 2s 2ms/step - loss: 0.9741 - accuracy: 0.1353\n",
            "Epoch 3/5\n",
            "1014/1014 [==============================] - 2s 2ms/step - loss: 0.9714 - accuracy: 0.1353\n",
            "Epoch 4/5\n",
            "1014/1014 [==============================] - 2s 2ms/step - loss: 0.9704 - accuracy: 0.1353\n",
            "Epoch 5/5\n",
            "1014/1014 [==============================] - 2s 2ms/step - loss: 0.9693 - accuracy: 0.1353\n",
            "254/254 [==============================] - 0s 1ms/step - loss: 0.9730 - accuracy: 0.1348\n",
            "Epoch 1/5\n",
            "1014/1014 [==============================] - 2s 2ms/step - loss: 0.7591 - accuracy: 0.7382\n",
            "Epoch 2/5\n",
            "1014/1014 [==============================] - 2s 2ms/step - loss: 0.7523 - accuracy: 0.7407\n",
            "Epoch 3/5\n",
            "1014/1014 [==============================] - 2s 2ms/step - loss: 0.7512 - accuracy: 0.7407\n",
            "Epoch 4/5\n",
            "1014/1014 [==============================] - 2s 2ms/step - loss: 0.7492 - accuracy: 0.7407\n",
            "Epoch 5/5\n",
            "1014/1014 [==============================] - 2s 2ms/step - loss: 0.7466 - accuracy: 0.7407\n",
            "254/254 [==============================] - 0s 1ms/step - loss: 0.7455 - accuracy: 0.7399\n",
            "Epoch 1/5\n",
            "1014/1014 [==============================] - 2s 2ms/step - loss: 0.7573 - accuracy: 0.7398\n",
            "Epoch 2/5\n",
            "1014/1014 [==============================] - 2s 2ms/step - loss: 0.7535 - accuracy: 0.7398\n",
            "Epoch 3/5\n",
            "1014/1014 [==============================] - 2s 2ms/step - loss: 0.7518 - accuracy: 0.7398\n",
            "Epoch 4/5\n",
            "1014/1014 [==============================] - 2s 2ms/step - loss: 0.7491 - accuracy: 0.7398\n",
            "Epoch 5/5\n",
            "1014/1014 [==============================] - 2s 2ms/step - loss: 0.7451 - accuracy: 0.7398\n",
            "254/254 [==============================] - 0s 1ms/step - loss: 0.7360 - accuracy: 0.7435\n",
            "Epoch 1/5\n",
            "1014/1014 [==============================] - 2s 2ms/step - loss: 0.7656 - accuracy: 0.7374\n",
            "Epoch 2/5\n",
            "1014/1014 [==============================] - 2s 2ms/step - loss: 0.7519 - accuracy: 0.7406\n",
            "Epoch 3/5\n",
            "1014/1014 [==============================] - 2s 2ms/step - loss: 0.7496 - accuracy: 0.7406\n",
            "Epoch 4/5\n",
            "1014/1014 [==============================] - 2s 2ms/step - loss: 0.7469 - accuracy: 0.7406\n",
            "Epoch 5/5\n",
            "1014/1014 [==============================] - 2s 2ms/step - loss: 0.7436 - accuracy: 0.7406\n",
            "254/254 [==============================] - 0s 1ms/step - loss: 0.7665 - accuracy: 0.7400\n",
            "Epoch 1/5\n",
            "1014/1014 [==============================] - 2s 2ms/step - loss: 0.7576 - accuracy: 0.7388\n",
            "Epoch 2/5\n",
            "1014/1014 [==============================] - 2s 2ms/step - loss: 0.7513 - accuracy: 0.7413\n",
            "Epoch 3/5\n",
            "1014/1014 [==============================] - 2s 2ms/step - loss: 0.7505 - accuracy: 0.7413\n",
            "Epoch 4/5\n",
            "1014/1014 [==============================] - 2s 2ms/step - loss: 0.7489 - accuracy: 0.7413\n",
            "Epoch 5/5\n",
            "1014/1014 [==============================] - 2s 2ms/step - loss: 0.7465 - accuracy: 0.7413\n",
            "254/254 [==============================] - 0s 1ms/step - loss: 0.7534 - accuracy: 0.7375\n",
            "Epoch 1/5\n",
            "1014/1014 [==============================] - 2s 2ms/step - loss: 0.7587 - accuracy: 0.7383\n",
            "Epoch 2/5\n",
            "1014/1014 [==============================] - 2s 2ms/step - loss: 0.7535 - accuracy: 0.7402\n",
            "Epoch 3/5\n",
            "1014/1014 [==============================] - 2s 2ms/step - loss: 0.7525 - accuracy: 0.7402\n",
            "Epoch 4/5\n",
            "1014/1014 [==============================] - 2s 2ms/step - loss: 0.7503 - accuracy: 0.7402\n",
            "Epoch 5/5\n",
            "1014/1014 [==============================] - 2s 2ms/step - loss: 0.7468 - accuracy: 0.7402\n",
            "254/254 [==============================] - 0s 1ms/step - loss: 0.7399 - accuracy: 0.7417\n",
            "Epoch 1/5\n",
            "1014/1014 [==============================] - 2s 2ms/step - loss: 0.7590 - accuracy: 0.7398\n",
            "Epoch 2/5\n",
            "1014/1014 [==============================] - 2s 2ms/step - loss: 0.7463 - accuracy: 0.7407\n",
            "Epoch 3/5\n",
            "1014/1014 [==============================] - 2s 2ms/step - loss: 0.7369 - accuracy: 0.7407\n",
            "Epoch 4/5\n",
            "1014/1014 [==============================] - 2s 2ms/step - loss: 0.7271 - accuracy: 0.7407\n",
            "Epoch 5/5\n",
            "1014/1014 [==============================] - 2s 2ms/step - loss: 0.7179 - accuracy: 0.7411\n",
            "254/254 [==============================] - 0s 1ms/step - loss: 0.7088 - accuracy: 0.7406\n",
            "Epoch 1/5\n",
            "1014/1014 [==============================] - 2s 2ms/step - loss: 0.7574 - accuracy: 0.7398\n",
            "Epoch 2/5\n",
            "1014/1014 [==============================] - 2s 2ms/step - loss: 0.7423 - accuracy: 0.7398\n",
            "Epoch 3/5\n",
            "1014/1014 [==============================] - 2s 2ms/step - loss: 0.7266 - accuracy: 0.7398\n",
            "Epoch 4/5\n",
            "1014/1014 [==============================] - 2s 2ms/step - loss: 0.7111 - accuracy: 0.7398\n",
            "Epoch 5/5\n",
            "1014/1014 [==============================] - 2s 2ms/step - loss: 0.7052 - accuracy: 0.7405\n",
            "254/254 [==============================] - 0s 1ms/step - loss: 0.7041 - accuracy: 0.7444\n",
            "Epoch 1/5\n",
            "1014/1014 [==============================] - 2s 2ms/step - loss: 0.7575 - accuracy: 0.7385\n",
            "Epoch 2/5\n",
            "1014/1014 [==============================] - 2s 2ms/step - loss: 0.7381 - accuracy: 0.7406\n",
            "Epoch 3/5\n",
            "1014/1014 [==============================] - 2s 2ms/step - loss: 0.7223 - accuracy: 0.7406\n",
            "Epoch 4/5\n",
            "1014/1014 [==============================] - 2s 2ms/step - loss: 0.7096 - accuracy: 0.7406\n",
            "Epoch 5/5\n",
            "1014/1014 [==============================] - 2s 2ms/step - loss: 0.7048 - accuracy: 0.7411\n",
            "254/254 [==============================] - 0s 1ms/step - loss: 0.7005 - accuracy: 0.7411\n",
            "Epoch 1/5\n",
            "1014/1014 [==============================] - 2s 2ms/step - loss: 0.7587 - accuracy: 0.7406\n",
            "Epoch 2/5\n",
            "1014/1014 [==============================] - 2s 2ms/step - loss: 0.7453 - accuracy: 0.7413\n",
            "Epoch 3/5\n",
            "1014/1014 [==============================] - 2s 2ms/step - loss: 0.7353 - accuracy: 0.7413\n",
            "Epoch 4/5\n",
            "1014/1014 [==============================] - 2s 2ms/step - loss: 0.7197 - accuracy: 0.7413\n",
            "Epoch 5/5\n",
            "1014/1014 [==============================] - 2s 2ms/step - loss: 0.7049 - accuracy: 0.7421\n",
            "254/254 [==============================] - 0s 1ms/step - loss: 0.7137 - accuracy: 0.7398\n",
            "Epoch 1/5\n",
            "1014/1014 [==============================] - 2s 2ms/step - loss: 0.7547 - accuracy: 0.7402\n",
            "Epoch 2/5\n",
            "1014/1014 [==============================] - 2s 2ms/step - loss: 0.7409 - accuracy: 0.7402\n",
            "Epoch 3/5\n",
            "1014/1014 [==============================] - 2s 2ms/step - loss: 0.7264 - accuracy: 0.7402\n",
            "Epoch 4/5\n",
            "1014/1014 [==============================] - 2s 2ms/step - loss: 0.7146 - accuracy: 0.7403\n",
            "Epoch 5/5\n",
            "1014/1014 [==============================] - 2s 2ms/step - loss: 0.7094 - accuracy: 0.7409\n",
            "254/254 [==============================] - 0s 1ms/step - loss: 0.7092 - accuracy: 0.7423\n",
            "Epoch 1/5\n",
            "1014/1014 [==============================] - 2s 2ms/step - loss: 0.7561 - accuracy: 0.7388\n",
            "Epoch 2/5\n",
            "1014/1014 [==============================] - 2s 2ms/step - loss: 0.7365 - accuracy: 0.7407\n",
            "Epoch 3/5\n",
            "1014/1014 [==============================] - 2s 2ms/step - loss: 0.7183 - accuracy: 0.7407\n",
            "Epoch 4/5\n",
            "1014/1014 [==============================] - 2s 2ms/step - loss: 0.7067 - accuracy: 0.7413\n",
            "Epoch 5/5\n",
            "1014/1014 [==============================] - 2s 2ms/step - loss: 0.7014 - accuracy: 0.7418\n",
            "254/254 [==============================] - 0s 1ms/step - loss: 0.6971 - accuracy: 0.7418\n",
            "Epoch 1/5\n",
            "1014/1014 [==============================] - 2s 2ms/step - loss: 0.7593 - accuracy: 0.7378\n",
            "Epoch 2/5\n",
            "1014/1014 [==============================] - 2s 2ms/step - loss: 0.7402 - accuracy: 0.7398\n",
            "Epoch 3/5\n",
            "1014/1014 [==============================] - 2s 2ms/step - loss: 0.7257 - accuracy: 0.7398\n",
            "Epoch 4/5\n",
            "1014/1014 [==============================] - 2s 2ms/step - loss: 0.7087 - accuracy: 0.7398\n",
            "Epoch 5/5\n",
            "1014/1014 [==============================] - 2s 2ms/step - loss: 0.7027 - accuracy: 0.7406\n",
            "254/254 [==============================] - 0s 1ms/step - loss: 0.6946 - accuracy: 0.7443\n",
            "Epoch 1/5\n",
            "1014/1014 [==============================] - 2s 2ms/step - loss: 0.7644 - accuracy: 0.7364\n",
            "Epoch 2/5\n",
            "1014/1014 [==============================] - 2s 2ms/step - loss: 0.7458 - accuracy: 0.7406\n",
            "Epoch 3/5\n",
            "1014/1014 [==============================] - 2s 2ms/step - loss: 0.7348 - accuracy: 0.7406\n",
            "Epoch 4/5\n",
            "1014/1014 [==============================] - 2s 2ms/step - loss: 0.7198 - accuracy: 0.7408\n",
            "Epoch 5/5\n",
            "1014/1014 [==============================] - 2s 2ms/step - loss: 0.7080 - accuracy: 0.7413\n",
            "254/254 [==============================] - 0s 1ms/step - loss: 0.7092 - accuracy: 0.7407\n",
            "Epoch 1/5\n",
            "1014/1014 [==============================] - 2s 2ms/step - loss: 0.7573 - accuracy: 0.7379\n",
            "Epoch 2/5\n",
            "1014/1014 [==============================] - 2s 2ms/step - loss: 0.7355 - accuracy: 0.7413\n",
            "Epoch 3/5\n",
            "1014/1014 [==============================] - 2s 2ms/step - loss: 0.7249 - accuracy: 0.7413\n",
            "Epoch 4/5\n",
            "1014/1014 [==============================] - 2s 2ms/step - loss: 0.7109 - accuracy: 0.7416\n",
            "Epoch 5/5\n",
            "1014/1014 [==============================] - 2s 2ms/step - loss: 0.7046 - accuracy: 0.7416\n",
            "254/254 [==============================] - 0s 1ms/step - loss: 0.7090 - accuracy: 0.7381\n",
            "Epoch 1/5\n",
            "1014/1014 [==============================] - 2s 2ms/step - loss: 0.7581 - accuracy: 0.7398\n",
            "Epoch 2/5\n",
            "1014/1014 [==============================] - 2s 2ms/step - loss: 0.7446 - accuracy: 0.7402\n",
            "Epoch 3/5\n",
            "1014/1014 [==============================] - 2s 2ms/step - loss: 0.7304 - accuracy: 0.7402\n",
            "Epoch 4/5\n",
            "1014/1014 [==============================] - 2s 2ms/step - loss: 0.7158 - accuracy: 0.7410\n",
            "Epoch 5/5\n",
            "1014/1014 [==============================] - 2s 2ms/step - loss: 0.7061 - accuracy: 0.7411\n",
            "254/254 [==============================] - 0s 1ms/step - loss: 0.7048 - accuracy: 0.7435\n",
            "Epoch 1/5\n",
            "1014/1014 [==============================] - 2s 2ms/step - loss: 0.7640 - accuracy: 0.7387\n",
            "Epoch 2/5\n",
            "1014/1014 [==============================] - 2s 2ms/step - loss: 0.7530 - accuracy: 0.7407\n",
            "Epoch 3/5\n",
            "1014/1014 [==============================] - 2s 2ms/step - loss: 0.7525 - accuracy: 0.7407\n",
            "Epoch 4/5\n",
            "1014/1014 [==============================] - 2s 2ms/step - loss: 0.7521 - accuracy: 0.7407\n",
            "Epoch 5/5\n",
            "1014/1014 [==============================] - 2s 2ms/step - loss: 0.7516 - accuracy: 0.7407\n",
            "254/254 [==============================] - 0s 1ms/step - loss: 0.7519 - accuracy: 0.7399\n",
            "Epoch 1/5\n",
            "1014/1014 [==============================] - 2s 2ms/step - loss: 0.7651 - accuracy: 0.7379\n",
            "Epoch 2/5\n",
            "1014/1014 [==============================] - 2s 2ms/step - loss: 0.7545 - accuracy: 0.7398\n",
            "Epoch 3/5\n",
            "1014/1014 [==============================] - 2s 2ms/step - loss: 0.7536 - accuracy: 0.7398\n",
            "Epoch 4/5\n",
            "1014/1014 [==============================] - 2s 2ms/step - loss: 0.7527 - accuracy: 0.7398\n",
            "Epoch 5/5\n",
            "1014/1014 [==============================] - 2s 2ms/step - loss: 0.7508 - accuracy: 0.7398\n",
            "254/254 [==============================] - 0s 1ms/step - loss: 0.7412 - accuracy: 0.7435\n",
            "Epoch 1/5\n",
            "1014/1014 [==============================] - 2s 2ms/step - loss: 0.7631 - accuracy: 0.7401\n",
            "Epoch 2/5\n",
            "1014/1014 [==============================] - 2s 2ms/step - loss: 0.7529 - accuracy: 0.7406\n",
            "Epoch 3/5\n",
            "1014/1014 [==============================] - 2s 2ms/step - loss: 0.7522 - accuracy: 0.7406\n",
            "Epoch 4/5\n",
            "1014/1014 [==============================] - 2s 2ms/step - loss: 0.7521 - accuracy: 0.7406\n",
            "Epoch 5/5\n",
            "1014/1014 [==============================] - 2s 2ms/step - loss: 0.7512 - accuracy: 0.7406\n",
            "254/254 [==============================] - 0s 1ms/step - loss: 0.7513 - accuracy: 0.7400\n",
            "Epoch 1/5\n",
            "1014/1014 [==============================] - 2s 2ms/step - loss: 0.7621 - accuracy: 0.7371\n",
            "Epoch 2/5\n",
            "1014/1014 [==============================] - 2s 2ms/step - loss: 0.7518 - accuracy: 0.7413\n",
            "Epoch 3/5\n",
            "1014/1014 [==============================] - 2s 2ms/step - loss: 0.7512 - accuracy: 0.7413\n",
            "Epoch 4/5\n",
            "1014/1014 [==============================] - 2s 2ms/step - loss: 0.7509 - accuracy: 0.7413\n",
            "Epoch 5/5\n",
            "1014/1014 [==============================] - 2s 2ms/step - loss: 0.7501 - accuracy: 0.7413\n",
            "254/254 [==============================] - 0s 1ms/step - loss: 0.7572 - accuracy: 0.7375\n",
            "Epoch 1/5\n",
            "1014/1014 [==============================] - 2s 2ms/step - loss: 0.7665 - accuracy: 0.7376\n",
            "Epoch 2/5\n",
            "1014/1014 [==============================] - 2s 2ms/step - loss: 0.7539 - accuracy: 0.7402\n",
            "Epoch 3/5\n",
            "1014/1014 [==============================] - 2s 2ms/step - loss: 0.7533 - accuracy: 0.7402\n",
            "Epoch 4/5\n",
            "1014/1014 [==============================] - 2s 2ms/step - loss: 0.7532 - accuracy: 0.7402\n",
            "Epoch 5/5\n",
            "1014/1014 [==============================] - 2s 2ms/step - loss: 0.7530 - accuracy: 0.7402\n",
            "  1/254 [..............................] - ETA: 0s - loss: 0.6517 - accuracy: 0.8000WARNING:tensorflow:Callbacks method `on_test_batch_end` is slow compared to the batch time (batch time: 0.0020s vs `on_test_batch_end` time: 0.0042s). Check your callbacks.\n",
            "254/254 [==============================] - 0s 1ms/step - loss: 0.7502 - accuracy: 0.7417\n",
            "Epoch 1/5\n",
            "1014/1014 [==============================] - 2s 2ms/step - loss: 0.7576 - accuracy: 0.7393\n",
            "Epoch 2/5\n",
            "1014/1014 [==============================] - 2s 2ms/step - loss: 0.7398 - accuracy: 0.7407\n",
            "Epoch 3/5\n",
            "1014/1014 [==============================] - 2s 2ms/step - loss: 0.7266 - accuracy: 0.7407\n",
            "Epoch 4/5\n",
            "1014/1014 [==============================] - 2s 2ms/step - loss: 0.7190 - accuracy: 0.7408\n",
            "Epoch 5/5\n",
            "1014/1014 [==============================] - 2s 2ms/step - loss: 0.7125 - accuracy: 0.7416\n",
            "254/254 [==============================] - 0s 1ms/step - loss: 0.7501 - accuracy: 0.7401\n",
            "Epoch 1/5\n",
            "1014/1014 [==============================] - 2s 2ms/step - loss: 0.7634 - accuracy: 0.7367\n",
            "Epoch 2/5\n",
            "1014/1014 [==============================] - 2s 2ms/step - loss: 0.7469 - accuracy: 0.7398\n",
            "Epoch 3/5\n",
            "1014/1014 [==============================] - 2s 2ms/step - loss: 0.7356 - accuracy: 0.7398\n",
            "Epoch 4/5\n",
            "1014/1014 [==============================] - 3s 2ms/step - loss: 0.7222 - accuracy: 0.7402\n",
            "Epoch 5/5\n",
            "1014/1014 [==============================] - 3s 2ms/step - loss: 0.7120 - accuracy: 0.7405\n",
            "254/254 [==============================] - 0s 2ms/step - loss: 0.6993 - accuracy: 0.7439\n",
            "Epoch 1/5\n",
            "1014/1014 [==============================] - 3s 3ms/step - loss: 0.7604 - accuracy: 0.7401\n",
            "Epoch 2/5\n",
            "1014/1014 [==============================] - 2s 2ms/step - loss: 0.7463 - accuracy: 0.7406\n",
            "Epoch 3/5\n",
            "1014/1014 [==============================] - 2s 2ms/step - loss: 0.7388 - accuracy: 0.7406\n",
            "Epoch 4/5\n",
            "1014/1014 [==============================] - 2s 2ms/step - loss: 0.7286 - accuracy: 0.7406\n",
            "Epoch 5/5\n",
            "1014/1014 [==============================] - 2s 2ms/step - loss: 0.7195 - accuracy: 0.7411\n",
            "254/254 [==============================] - 0s 1ms/step - loss: 0.7159 - accuracy: 0.7411\n",
            "Epoch 1/5\n",
            "1014/1014 [==============================] - 2s 2ms/step - loss: 0.7548 - accuracy: 0.7406\n",
            "Epoch 2/5\n",
            "1014/1014 [==============================] - 2s 2ms/step - loss: 0.7394 - accuracy: 0.7413\n",
            "Epoch 3/5\n",
            "1014/1014 [==============================] - 2s 2ms/step - loss: 0.7233 - accuracy: 0.7413\n",
            "Epoch 4/5\n",
            "1014/1014 [==============================] - 2s 2ms/step - loss: 0.7094 - accuracy: 0.7414\n",
            "Epoch 5/5\n",
            "1014/1014 [==============================] - 2s 2ms/step - loss: 0.7032 - accuracy: 0.7419\n",
            "254/254 [==============================] - 0s 1ms/step - loss: 0.7204 - accuracy: 0.7384\n",
            "Epoch 1/5\n",
            "1014/1014 [==============================] - 2s 2ms/step - loss: 0.7556 - accuracy: 0.7402\n",
            "Epoch 2/5\n",
            "1014/1014 [==============================] - 2s 2ms/step - loss: 0.7388 - accuracy: 0.7402\n",
            "Epoch 3/5\n",
            "1014/1014 [==============================] - 2s 2ms/step - loss: 0.7250 - accuracy: 0.7402\n",
            "Epoch 4/5\n",
            "1014/1014 [==============================] - 2s 2ms/step - loss: 0.7140 - accuracy: 0.7404\n",
            "Epoch 5/5\n",
            "1014/1014 [==============================] - 2s 2ms/step - loss: 0.7066 - accuracy: 0.7414\n",
            "254/254 [==============================] - 0s 1ms/step - loss: 0.7010 - accuracy: 0.7429\n",
            "Epoch 1/5\n",
            "1014/1014 [==============================] - 2s 2ms/step - loss: 0.7647 - accuracy: 0.7395\n",
            "Epoch 2/5\n",
            "1014/1014 [==============================] - 2s 2ms/step - loss: 0.7466 - accuracy: 0.7407\n",
            "Epoch 3/5\n",
            "1014/1014 [==============================] - 2s 2ms/step - loss: 0.7387 - accuracy: 0.7407\n",
            "Epoch 4/5\n",
            "1014/1014 [==============================] - 2s 2ms/step - loss: 0.7252 - accuracy: 0.7409\n",
            "Epoch 5/5\n",
            "1014/1014 [==============================] - 2s 2ms/step - loss: 0.7151 - accuracy: 0.7415\n",
            "254/254 [==============================] - 0s 1ms/step - loss: 0.7096 - accuracy: 0.7404\n",
            "Epoch 1/5\n",
            "1014/1014 [==============================] - 2s 2ms/step - loss: 0.7609 - accuracy: 0.7388\n",
            "Epoch 2/5\n",
            "1014/1014 [==============================] - 2s 2ms/step - loss: 0.7436 - accuracy: 0.7398\n",
            "Epoch 3/5\n",
            "1014/1014 [==============================] - 2s 2ms/step - loss: 0.7255 - accuracy: 0.7398\n",
            "Epoch 4/5\n",
            "1014/1014 [==============================] - 2s 2ms/step - loss: 0.7131 - accuracy: 0.7398\n",
            "Epoch 5/5\n",
            "1014/1014 [==============================] - 2s 2ms/step - loss: 0.7068 - accuracy: 0.7400\n",
            "254/254 [==============================] - 0s 1ms/step - loss: 0.7057 - accuracy: 0.7441\n",
            "Epoch 1/5\n",
            "1014/1014 [==============================] - 2s 2ms/step - loss: 0.7560 - accuracy: 0.7406\n",
            "Epoch 2/5\n",
            "1014/1014 [==============================] - 2s 2ms/step - loss: 0.7384 - accuracy: 0.7406\n",
            "Epoch 3/5\n",
            "1014/1014 [==============================] - 2s 2ms/step - loss: 0.7211 - accuracy: 0.7406\n",
            "Epoch 4/5\n",
            "1014/1014 [==============================] - 2s 2ms/step - loss: 0.7085 - accuracy: 0.7410\n",
            "Epoch 5/5\n",
            "1014/1014 [==============================] - 2s 2ms/step - loss: 0.7033 - accuracy: 0.7413\n",
            "254/254 [==============================] - 0s 1ms/step - loss: 0.7039 - accuracy: 0.7406\n",
            "Epoch 1/5\n",
            "1014/1014 [==============================] - 2s 2ms/step - loss: 0.7609 - accuracy: 0.7413\n",
            "Epoch 2/5\n",
            "1014/1014 [==============================] - 2s 2ms/step - loss: 0.7463 - accuracy: 0.7413\n",
            "Epoch 3/5\n",
            "1014/1014 [==============================] - 2s 2ms/step - loss: 0.7380 - accuracy: 0.7413\n",
            "Epoch 4/5\n",
            "1014/1014 [==============================] - 2s 2ms/step - loss: 0.7264 - accuracy: 0.7414\n",
            "Epoch 5/5\n",
            "1014/1014 [==============================] - 2s 2ms/step - loss: 0.7209 - accuracy: 0.7418\n",
            "254/254 [==============================] - 0s 1ms/step - loss: 0.7226 - accuracy: 0.7391\n",
            "Epoch 1/5\n",
            "1014/1014 [==============================] - 2s 2ms/step - loss: 0.7610 - accuracy: 0.7402\n",
            "Epoch 2/5\n",
            "1014/1014 [==============================] - 2s 2ms/step - loss: 0.7456 - accuracy: 0.7402\n",
            "Epoch 3/5\n",
            "1014/1014 [==============================] - 2s 2ms/step - loss: 0.7332 - accuracy: 0.7402\n",
            "Epoch 4/5\n",
            "1014/1014 [==============================] - 2s 2ms/step - loss: 0.7151 - accuracy: 0.7408\n",
            "Epoch 5/5\n",
            "1014/1014 [==============================] - 2s 2ms/step - loss: 0.7056 - accuracy: 0.7410\n",
            "254/254 [==============================] - 0s 1ms/step - loss: 0.6963 - accuracy: 0.7426\n",
            "Epoch 1/5\n",
            "2534/2534 [==============================] - 5s 2ms/step - loss: 0.7565 - accuracy: 0.7397\n",
            "Epoch 2/5\n",
            "2534/2534 [==============================] - 5s 2ms/step - loss: 0.7366 - accuracy: 0.7405\n",
            "Epoch 3/5\n",
            "2534/2534 [==============================] - 5s 2ms/step - loss: 0.7248 - accuracy: 0.7410\n",
            "Epoch 4/5\n",
            "2534/2534 [==============================] - 5s 2ms/step - loss: 0.7218 - accuracy: 0.7413\n",
            "Epoch 5/5\n",
            "2534/2534 [==============================] - 5s 2ms/step - loss: 0.7211 - accuracy: 0.7415\n"
          ],
          "name": "stdout"
        },
        {
          "output_type": "execute_result",
          "data": {
            "text/plain": [
              "GridSearchCV(cv=None, error_score=nan,\n",
              "             estimator=<tensorflow.python.keras.wrappers.scikit_learn.KerasClassifier object at 0x7f6dc17b2400>,\n",
              "             iid='deprecated', n_jobs=None,\n",
              "             param_grid={'batch_size': [50, 100], 'epochs': [5],\n",
              "                         'init': ['glorot_uniform', 'random_normal',\n",
              "                                  'random_uniform'],\n",
              "                         'optimizer': ['sgd', 'rmsprop', 'adam']},\n",
              "             pre_dispatch='2*n_jobs', refit=True, return_train_score=False,\n",
              "             scoring=None, verbose=0)"
            ]
          },
          "metadata": {
            "tags": []
          },
          "execution_count": 82
        }
      ]
    },
    {
      "cell_type": "code",
      "metadata": {
        "id": "LLXBxGBQXZ2s",
        "outputId": "81119497-f0e2-49e8-ffcc-d752157f2eb2",
        "colab": {
          "base_uri": "https://localhost:8080/"
        }
      },
      "source": [
        "print(\"Best parameters for logistic regression: \",gs_keras_NN.best_params_)"
      ],
      "execution_count": null,
      "outputs": [
        {
          "output_type": "stream",
          "text": [
            "Best parameters for logistic regression:  {'batch_size': 50, 'epochs': 5, 'init': 'random_uniform', 'optimizer': 'adam'}\n"
          ],
          "name": "stdout"
        }
      ]
    },
    {
      "cell_type": "markdown",
      "metadata": {
        "id": "sNCgeercXZ2u"
      },
      "source": [
        "#### Best Params Model"
      ]
    },
    {
      "cell_type": "code",
      "metadata": {
        "id": "oAbz_qB6XZ2u"
      },
      "source": [
        "bestParams_keras_NN = KerasClassifier(build_fn=threeLayeredModel,\n",
        "                                      optimizer=gs_keras_NN.best_params_['optimizer'],\n",
        "                                      init=gs_keras_NN.best_params_['init'],\n",
        "                                      epochs=250,\n",
        "                                      batch_size=gs_keras_NN.best_params_['batch_size'],\n",
        "                                      verbose=0)"
      ],
      "execution_count": null,
      "outputs": []
    },
    {
      "cell_type": "code",
      "metadata": {
        "id": "_0QAo3xwXZ2w",
        "outputId": "a1d3f8a4-a49a-4f14-966e-dcc351d9a916",
        "colab": {
          "base_uri": "https://localhost:8080/"
        }
      },
      "source": [
        "bestParams_keras_NN.fit(train_rentTheRunWay_X, dummy_train_rentTheRunWay_Y)"
      ],
      "execution_count": null,
      "outputs": [
        {
          "output_type": "execute_result",
          "data": {
            "text/plain": [
              "<tensorflow.python.keras.callbacks.History at 0x7f6dc0962d30>"
            ]
          },
          "metadata": {
            "tags": []
          },
          "execution_count": 85
        }
      ]
    },
    {
      "cell_type": "code",
      "metadata": {
        "id": "NM9YW2YHXZ2y"
      },
      "source": [
        "keras_NN_predictions_valid_X = bestParams_keras_NN.predict(valid_rentTheRunWay_X)\n",
        "# decoded_keras_NN_predictions_valid_X = encoder.inverse_transform(keras_NN_predictions_valid_X)"
      ],
      "execution_count": null,
      "outputs": []
    },
    {
      "cell_type": "markdown",
      "metadata": {
        "id": "8ri4zZjSXZ20"
      },
      "source": [
        "#### Classification Report"
      ]
    },
    {
      "cell_type": "code",
      "metadata": {
        "id": "yelg42d0XZ21",
        "outputId": "e3b66fa3-86aa-4a94-b6f2-5819d2408845",
        "colab": {
          "base_uri": "https://localhost:8080/"
        }
      },
      "source": [
        "print(classification_report(valid_rentTheRunWay_Y, keras_NN_predictions_valid_X, digits=5))"
      ],
      "execution_count": null,
      "outputs": [
        {
          "output_type": "stream",
          "text": [
            "              precision    recall  f1-score   support\n",
            "\n",
            "           0    0.41916   0.05658   0.09970      7423\n",
            "           1    0.75081   0.98446   0.85191     40158\n",
            "           2    0.43171   0.04097   0.07483      6713\n",
            "\n",
            "    accuracy                        0.74095     54294\n",
            "   macro avg    0.53389   0.36067   0.34215     54294\n",
            "weighted avg    0.66601   0.74095   0.65299     54294\n",
            "\n"
          ],
          "name": "stdout"
        }
      ]
    }
  ]
}